{
  "cells": [
    {
      "cell_type": "markdown",
      "metadata": {
        "id": "view-in-github",
        "colab_type": "text"
      },
      "source": [
        "<a href=\"https://colab.research.google.com/github/Jiayu-Kang/Content-Analysis-homework/blob/main/1_Measuring_Meaning_and_Sampling_jiayuk.ipynb\" target=\"_parent\"><img src=\"https://colab.research.google.com/assets/colab-badge.svg\" alt=\"Open In Colab\"/></a>"
      ]
    },
    {
      "cell_type": "markdown",
      "metadata": {
        "id": "JU1ThAa04KMB"
      },
      "source": [
        "# Week 1 - Measuring Meaning & Sampling\n",
        "This week, we begin by \"begging, borrowing and stealing\" text from several\n",
        "contexts of human communication (e.g., PDFs, HTML, Word) and preparing it for\n",
        "machines to \"read\" and analyze. This notebook outlines scraping text from the\n",
        "web, PDF and Word documents. Then we detail \"spidering\" or walking\n",
        "through hyperlinks to build samples of online content, and using APIs,\n",
        "Application Programming Interfaces, provided by webservices to access their\n",
        "content. Along the way, we will use regular expressions, outlined in the\n",
        "reading, to remove unwanted formatting and ornamentation. Finally, we discuss\n",
        "various text encodings, filtering and data structures in which text can be\n",
        "placed for analysis. Next, we ask you to begin building a corpus for preliminary analysis and articulate what your sample represents in context of your final project.\n",
        "\n",
        "If you are new to Google Colab, please take a look at [this brief introduction to the platform](https://colab.research.google.com/drive/1fV_2ZrdF-Vve8L7ZZAjanPS6tCh_HGnN). For each assignment on Colab, you should first click _File_ -> _Save a copy in Drive_ to create your own .ipynb file to submit. You will also need to run a cell like this if you are storing your data on Google Drive:"
      ]
    },
    {
      "cell_type": "code",
      "source": [
        "from google.colab import drive\n",
        "drive._mount(\"/content/drive\")"
      ],
      "metadata": {
        "id": "cG07PPAr5s2y",
        "colab": {
          "base_uri": "https://localhost:8080/"
        },
        "outputId": "e1ea8156-591e-48a4-a4d0-84393569474c"
      },
      "execution_count": 2,
      "outputs": [
        {
          "output_type": "stream",
          "name": "stdout",
          "text": [
            "Mounted at /content/drive\n"
          ]
        }
      ]
    },
    {
      "cell_type": "markdown",
      "metadata": {
        "id": "wsiychv-Omaw"
      },
      "source": [
        "We made a python package just for this course: lucem_illud. If you haven't installed this package, you should run the following code first. You don't need to install the package later; all you need to do is just to import the package with: import lucem_illud. For your final projects, you may find it useful to [read the lucem_illud source code](https://github.com/UChicago-Computational-Content-Analysis/lucem_illud/tree/main/lucem_illud) and modify your code for your own interests."
      ]
    },
    {
      "cell_type": "code",
      "execution_count": 3,
      "metadata": {
        "id": "E5HYvEJeOmax",
        "colab": {
          "base_uri": "https://localhost:8080/"
        },
        "outputId": "e82e98ee-0760-40bc-c5f7-410caf4913b0"
      },
      "outputs": [
        {
          "output_type": "stream",
          "name": "stdout",
          "text": [
            "Collecting git+git://github.com/UChicago-Computational-Content-Analysis/lucem_illud.git\n",
            "  Cloning git://github.com/UChicago-Computational-Content-Analysis/lucem_illud.git to /tmp/pip-req-build-gjx8kzi7\n",
            "  Running command git clone -q git://github.com/UChicago-Computational-Content-Analysis/lucem_illud.git /tmp/pip-req-build-gjx8kzi7\n",
            "Requirement already satisfied: numpy in /usr/local/lib/python3.7/dist-packages (from lucem-illud==8.0.1) (1.19.5)\n",
            "Requirement already satisfied: requests in /usr/local/lib/python3.7/dist-packages (from lucem-illud==8.0.1) (2.23.0)\n",
            "Requirement already satisfied: pandas in /usr/local/lib/python3.7/dist-packages (from lucem-illud==8.0.1) (1.1.5)\n",
            "Collecting python-docx\n",
            "  Downloading python-docx-0.8.11.tar.gz (5.6 MB)\n",
            "\u001b[K     |████████████████████████████████| 5.6 MB 5.4 MB/s \n",
            "\u001b[?25hRequirement already satisfied: pillow in /usr/local/lib/python3.7/dist-packages (from lucem-illud==8.0.1) (7.1.2)\n",
            "Collecting pdfminer2\n",
            "  Downloading pdfminer2-20151206-py2.py3-none-any.whl (117 kB)\n",
            "\u001b[K     |████████████████████████████████| 117 kB 48.3 MB/s \n",
            "\u001b[?25hCollecting GitPython\n",
            "  Downloading GitPython-3.1.26-py3-none-any.whl (180 kB)\n",
            "\u001b[K     |████████████████████████████████| 180 kB 61.8 MB/s \n",
            "\u001b[?25hRequirement already satisfied: wordcloud in /usr/local/lib/python3.7/dist-packages (from lucem-illud==8.0.1) (1.5.0)\n",
            "Requirement already satisfied: scipy in /usr/local/lib/python3.7/dist-packages (from lucem-illud==8.0.1) (1.4.1)\n",
            "Requirement already satisfied: seaborn in /usr/local/lib/python3.7/dist-packages (from lucem-illud==8.0.1) (0.11.2)\n",
            "Requirement already satisfied: scikit-learn in /usr/local/lib/python3.7/dist-packages (from lucem-illud==8.0.1) (1.0.2)\n",
            "Requirement already satisfied: nltk in /usr/local/lib/python3.7/dist-packages (from lucem-illud==8.0.1) (3.2.5)\n",
            "Requirement already satisfied: gensim in /usr/local/lib/python3.7/dist-packages (from lucem-illud==8.0.1) (3.6.0)\n",
            "Requirement already satisfied: matplotlib in /usr/local/lib/python3.7/dist-packages (from lucem-illud==8.0.1) (3.2.2)\n",
            "Collecting pyanno3\n",
            "  Downloading pyanno3-2.0.2.tar.gz (76 kB)\n",
            "\u001b[K     |████████████████████████████████| 76 kB 4.9 MB/s \n",
            "\u001b[?25hRequirement already satisfied: beautifulsoup4 in /usr/local/lib/python3.7/dist-packages (from lucem-illud==8.0.1) (4.6.3)\n",
            "Requirement already satisfied: graphviz in /usr/local/lib/python3.7/dist-packages (from lucem-illud==8.0.1) (0.10.1)\n",
            "Collecting boto3\n",
            "  Downloading boto3-1.20.37-py3-none-any.whl (131 kB)\n",
            "\u001b[K     |████████████████████████████████| 131 kB 45.0 MB/s \n",
            "\u001b[?25hRequirement already satisfied: networkx in /usr/local/lib/python3.7/dist-packages (from lucem-illud==8.0.1) (2.6.3)\n",
            "Collecting pydub\n",
            "  Downloading pydub-0.25.1-py2.py3-none-any.whl (32 kB)\n",
            "Collecting speechrecognition\n",
            "  Downloading SpeechRecognition-3.8.1-py2.py3-none-any.whl (32.8 MB)\n",
            "\u001b[K     |████████████████████████████████| 32.8 MB 157 kB/s \n",
            "\u001b[?25hCollecting pysoundfile\n",
            "  Downloading PySoundFile-0.9.0.post1-py2.py3-none-any.whl (24 kB)\n",
            "Requirement already satisfied: scikit-image in /usr/local/lib/python3.7/dist-packages (from lucem-illud==8.0.1) (0.18.3)\n",
            "Requirement already satisfied: IPython in /usr/local/lib/python3.7/dist-packages (from lucem-illud==8.0.1) (5.5.0)\n",
            "Requirement already satisfied: spacy in /usr/local/lib/python3.7/dist-packages (from lucem-illud==8.0.1) (2.2.4)\n",
            "Collecting jmespath<1.0.0,>=0.7.1\n",
            "  Downloading jmespath-0.10.0-py2.py3-none-any.whl (24 kB)\n",
            "Collecting botocore<1.24.0,>=1.23.37\n",
            "  Downloading botocore-1.23.37-py3-none-any.whl (8.5 MB)\n",
            "\u001b[K     |████████████████████████████████| 8.5 MB 30.4 MB/s \n",
            "\u001b[?25hCollecting s3transfer<0.6.0,>=0.5.0\n",
            "  Downloading s3transfer-0.5.0-py3-none-any.whl (79 kB)\n",
            "\u001b[K     |████████████████████████████████| 79 kB 7.2 MB/s \n",
            "\u001b[?25hCollecting urllib3<1.27,>=1.25.4\n",
            "  Downloading urllib3-1.26.8-py2.py3-none-any.whl (138 kB)\n",
            "\u001b[K     |████████████████████████████████| 138 kB 46.3 MB/s \n",
            "\u001b[?25hRequirement already satisfied: python-dateutil<3.0.0,>=2.1 in /usr/local/lib/python3.7/dist-packages (from botocore<1.24.0,>=1.23.37->boto3->lucem-illud==8.0.1) (2.8.2)\n",
            "Requirement already satisfied: six>=1.5 in /usr/local/lib/python3.7/dist-packages (from python-dateutil<3.0.0,>=2.1->botocore<1.24.0,>=1.23.37->boto3->lucem-illud==8.0.1) (1.15.0)\n",
            "Requirement already satisfied: smart-open>=1.2.1 in /usr/local/lib/python3.7/dist-packages (from gensim->lucem-illud==8.0.1) (5.2.1)\n",
            "Requirement already satisfied: typing-extensions>=3.7.4.3 in /usr/local/lib/python3.7/dist-packages (from GitPython->lucem-illud==8.0.1) (3.10.0.2)\n",
            "Collecting gitdb<5,>=4.0.1\n",
            "  Downloading gitdb-4.0.9-py3-none-any.whl (63 kB)\n",
            "\u001b[K     |████████████████████████████████| 63 kB 1.5 MB/s \n",
            "\u001b[?25hCollecting smmap<6,>=3.0.1\n",
            "  Downloading smmap-5.0.0-py3-none-any.whl (24 kB)\n",
            "Requirement already satisfied: prompt-toolkit<2.0.0,>=1.0.4 in /usr/local/lib/python3.7/dist-packages (from IPython->lucem-illud==8.0.1) (1.0.18)\n",
            "Requirement already satisfied: pygments in /usr/local/lib/python3.7/dist-packages (from IPython->lucem-illud==8.0.1) (2.6.1)\n",
            "Requirement already satisfied: pickleshare in /usr/local/lib/python3.7/dist-packages (from IPython->lucem-illud==8.0.1) (0.7.5)\n",
            "Requirement already satisfied: setuptools>=18.5 in /usr/local/lib/python3.7/dist-packages (from IPython->lucem-illud==8.0.1) (57.4.0)\n",
            "Requirement already satisfied: simplegeneric>0.8 in /usr/local/lib/python3.7/dist-packages (from IPython->lucem-illud==8.0.1) (0.8.1)\n",
            "Requirement already satisfied: traitlets>=4.2 in /usr/local/lib/python3.7/dist-packages (from IPython->lucem-illud==8.0.1) (5.1.1)\n",
            "Requirement already satisfied: decorator in /usr/local/lib/python3.7/dist-packages (from IPython->lucem-illud==8.0.1) (4.4.2)\n",
            "Requirement already satisfied: pexpect in /usr/local/lib/python3.7/dist-packages (from IPython->lucem-illud==8.0.1) (4.8.0)\n",
            "Requirement already satisfied: wcwidth in /usr/local/lib/python3.7/dist-packages (from prompt-toolkit<2.0.0,>=1.0.4->IPython->lucem-illud==8.0.1) (0.2.5)\n",
            "Requirement already satisfied: kiwisolver>=1.0.1 in /usr/local/lib/python3.7/dist-packages (from matplotlib->lucem-illud==8.0.1) (1.3.2)\n",
            "Requirement already satisfied: cycler>=0.10 in /usr/local/lib/python3.7/dist-packages (from matplotlib->lucem-illud==8.0.1) (0.11.0)\n",
            "Requirement already satisfied: pyparsing!=2.0.4,!=2.1.2,!=2.1.6,>=2.0.1 in /usr/local/lib/python3.7/dist-packages (from matplotlib->lucem-illud==8.0.1) (3.0.6)\n",
            "Requirement already satisfied: pytz>=2017.2 in /usr/local/lib/python3.7/dist-packages (from pandas->lucem-illud==8.0.1) (2018.9)\n",
            "Requirement already satisfied: ptyprocess>=0.5 in /usr/local/lib/python3.7/dist-packages (from pexpect->IPython->lucem-illud==8.0.1) (0.7.0)\n",
            "Collecting traits\n",
            "  Downloading traits-6.3.2-cp37-cp37m-manylinux_2_5_x86_64.manylinux1_x86_64.manylinux_2_12_x86_64.manylinux2010_x86_64.whl (5.1 MB)\n",
            "\u001b[K     |████████████████████████████████| 5.1 MB 45.3 MB/s \n",
            "\u001b[?25hRequirement already satisfied: cffi>=0.6 in /usr/local/lib/python3.7/dist-packages (from pysoundfile->lucem-illud==8.0.1) (1.15.0)\n",
            "Requirement already satisfied: pycparser in /usr/local/lib/python3.7/dist-packages (from cffi>=0.6->pysoundfile->lucem-illud==8.0.1) (2.21)\n",
            "Requirement already satisfied: lxml>=2.3.2 in /usr/local/lib/python3.7/dist-packages (from python-docx->lucem-illud==8.0.1) (4.2.6)\n",
            "Requirement already satisfied: chardet<4,>=3.0.2 in /usr/local/lib/python3.7/dist-packages (from requests->lucem-illud==8.0.1) (3.0.4)\n",
            "Requirement already satisfied: idna<3,>=2.5 in /usr/local/lib/python3.7/dist-packages (from requests->lucem-illud==8.0.1) (2.10)\n",
            "Requirement already satisfied: certifi>=2017.4.17 in /usr/local/lib/python3.7/dist-packages (from requests->lucem-illud==8.0.1) (2021.10.8)\n",
            "Collecting urllib3<1.27,>=1.25.4\n",
            "  Downloading urllib3-1.25.11-py2.py3-none-any.whl (127 kB)\n",
            "\u001b[K     |████████████████████████████████| 127 kB 44.8 MB/s \n",
            "\u001b[?25hRequirement already satisfied: imageio>=2.3.0 in /usr/local/lib/python3.7/dist-packages (from scikit-image->lucem-illud==8.0.1) (2.4.1)\n",
            "Requirement already satisfied: PyWavelets>=1.1.1 in /usr/local/lib/python3.7/dist-packages (from scikit-image->lucem-illud==8.0.1) (1.2.0)\n",
            "Requirement already satisfied: tifffile>=2019.7.26 in /usr/local/lib/python3.7/dist-packages (from scikit-image->lucem-illud==8.0.1) (2021.11.2)\n",
            "Requirement already satisfied: threadpoolctl>=2.0.0 in /usr/local/lib/python3.7/dist-packages (from scikit-learn->lucem-illud==8.0.1) (3.0.0)\n",
            "Requirement already satisfied: joblib>=0.11 in /usr/local/lib/python3.7/dist-packages (from scikit-learn->lucem-illud==8.0.1) (1.1.0)\n",
            "Requirement already satisfied: tqdm<5.0.0,>=4.38.0 in /usr/local/lib/python3.7/dist-packages (from spacy->lucem-illud==8.0.1) (4.62.3)\n",
            "Requirement already satisfied: blis<0.5.0,>=0.4.0 in /usr/local/lib/python3.7/dist-packages (from spacy->lucem-illud==8.0.1) (0.4.1)\n",
            "Requirement already satisfied: plac<1.2.0,>=0.9.6 in /usr/local/lib/python3.7/dist-packages (from spacy->lucem-illud==8.0.1) (1.1.3)\n",
            "Requirement already satisfied: srsly<1.1.0,>=1.0.2 in /usr/local/lib/python3.7/dist-packages (from spacy->lucem-illud==8.0.1) (1.0.5)\n",
            "Requirement already satisfied: preshed<3.1.0,>=3.0.2 in /usr/local/lib/python3.7/dist-packages (from spacy->lucem-illud==8.0.1) (3.0.6)\n",
            "Requirement already satisfied: murmurhash<1.1.0,>=0.28.0 in /usr/local/lib/python3.7/dist-packages (from spacy->lucem-illud==8.0.1) (1.0.6)\n",
            "Requirement already satisfied: thinc==7.4.0 in /usr/local/lib/python3.7/dist-packages (from spacy->lucem-illud==8.0.1) (7.4.0)\n",
            "Requirement already satisfied: cymem<2.1.0,>=2.0.2 in /usr/local/lib/python3.7/dist-packages (from spacy->lucem-illud==8.0.1) (2.0.6)\n",
            "Requirement already satisfied: wasabi<1.1.0,>=0.4.0 in /usr/local/lib/python3.7/dist-packages (from spacy->lucem-illud==8.0.1) (0.9.0)\n",
            "Requirement already satisfied: catalogue<1.1.0,>=0.0.7 in /usr/local/lib/python3.7/dist-packages (from spacy->lucem-illud==8.0.1) (1.0.0)\n",
            "Requirement already satisfied: importlib-metadata>=0.20 in /usr/local/lib/python3.7/dist-packages (from catalogue<1.1.0,>=0.0.7->spacy->lucem-illud==8.0.1) (4.10.0)\n",
            "Requirement already satisfied: zipp>=0.5 in /usr/local/lib/python3.7/dist-packages (from importlib-metadata>=0.20->catalogue<1.1.0,>=0.0.7->spacy->lucem-illud==8.0.1) (3.7.0)\n",
            "Building wheels for collected packages: lucem-illud, pyanno3, python-docx\n",
            "  Building wheel for lucem-illud (setup.py) ... \u001b[?25l\u001b[?25hdone\n",
            "  Created wheel for lucem-illud: filename=lucem_illud-8.0.1-py3-none-any.whl size=34964 sha256=b47b5726f11a6b2c2c4ced7f1b486676e5e708b3310ada917e9cee74813d14b8\n",
            "  Stored in directory: /tmp/pip-ephem-wheel-cache-9jfnqb7_/wheels/a5/6a/0f/ddf40c68215bc4b072c455caa6a08e0031c92187c93a1b5a81\n",
            "  Building wheel for pyanno3 (setup.py) ... \u001b[?25l\u001b[?25hdone\n",
            "  Created wheel for pyanno3: filename=pyanno3-2.0.2-py3-none-any.whl size=116978 sha256=a5660e2183b1b22b210fd589cb510b6661d54f0153ab258c38081fd0761dcbe9\n",
            "  Stored in directory: /root/.cache/pip/wheels/28/eb/a9/d9c212d9388cde6cf3ee6edd7aa3891624bca58b24d9c26c76\n",
            "  Building wheel for python-docx (setup.py) ... \u001b[?25l\u001b[?25hdone\n",
            "  Created wheel for python-docx: filename=python_docx-0.8.11-py3-none-any.whl size=184507 sha256=3ba824164ff6d40726bd79165ec8f27d7693cce4f998cdffed2904251d57c889\n",
            "  Stored in directory: /root/.cache/pip/wheels/f6/6f/b9/d798122a8b55b74ad30b5f52b01482169b445fbb84a11797a6\n",
            "Successfully built lucem-illud pyanno3 python-docx\n",
            "Installing collected packages: urllib3, jmespath, smmap, botocore, traits, s3transfer, gitdb, speechrecognition, python-docx, pysoundfile, pydub, pyanno3, pdfminer2, GitPython, boto3, lucem-illud\n",
            "  Attempting uninstall: urllib3\n",
            "    Found existing installation: urllib3 1.24.3\n",
            "    Uninstalling urllib3-1.24.3:\n",
            "      Successfully uninstalled urllib3-1.24.3\n",
            "\u001b[31mERROR: pip's dependency resolver does not currently take into account all the packages that are installed. This behaviour is the source of the following dependency conflicts.\n",
            "datascience 0.10.6 requires folium==0.2.1, but you have folium 0.8.3 which is incompatible.\u001b[0m\n",
            "Successfully installed GitPython-3.1.26 boto3-1.20.37 botocore-1.23.37 gitdb-4.0.9 jmespath-0.10.0 lucem-illud-8.0.1 pdfminer2-20151206 pyanno3-2.0.2 pydub-0.25.1 pysoundfile-0.9.0.post1 python-docx-0.8.11 s3transfer-0.5.0 smmap-5.0.0 speechrecognition-3.8.1 traits-6.3.2 urllib3-1.25.11\n"
          ]
        }
      ],
      "source": [
        "!pip install git+git://github.com/UChicago-Computational-Content-Analysis/lucem_illud.git\n",
        "#installing lucem_illud package\n",
        "#lucem_illud is a Latin phrase meaning \"that light\", the insight we can discover in text data!\n",
        "#If you get an error like \"Access is denied\", try running the `pip` command on the command line as an administrator."
      ]
    },
    {
      "cell_type": "markdown",
      "metadata": {
        "id": "gml7JVVdOmaz"
      },
      "source": [
        "If you're not familiar with jupyter notebook, you may wonder what the exclamation mark(!) at the beginning of the command does (or even what pip means). The exclamation mark enables us to execute Terminal commands in the notebook cells (e.g., run `!ls` to display files in the current folder).\n",
        "\n",
        "For this notebook we will be using the following packages:"
      ]
    },
    {
      "cell_type": "code",
      "execution_count": 4,
      "metadata": {
        "id": "O8EOGoXbOma0"
      },
      "outputs": [],
      "source": [
        "#Special module written for this class\n",
        "#This provides access to data and to helper functions from previous weeks\n",
        "import lucem_illud #pip install git+git://github.com/UChicago-Computational-Content-Analysis/lucem_illud.git\n",
        "\n",
        "#All these packages need to be installed from pip\n",
        "import requests #for http requests\n",
        "import bs4 #called `beautifulsoup4`, an html parser\n",
        "import pandas #gives us DataFrames\n",
        "import docx #reading MS doc files, install as `python-docx`\n",
        "\n",
        "#Stuff for pdfs\n",
        "#Install as `pdfminer2`\n",
        "import pdfminer.pdfinterp\n",
        "import pdfminer.converter\n",
        "import pdfminer.layout\n",
        "import pdfminer.pdfpage\n",
        "\n",
        "#These come with Python\n",
        "import re #for regexs\n",
        "import urllib.parse #For joining urls\n",
        "import io #for making http requests look like files\n",
        "import json #For Tumblr API responses\n",
        "import os.path #For checking if files exist\n",
        "import os #For making directories"
      ]
    },
    {
      "cell_type": "markdown",
      "metadata": {
        "id": "1FBeOb62Oma1"
      },
      "source": [
        "We will also be working on the following files/urls"
      ]
    },
    {
      "cell_type": "code",
      "execution_count": 5,
      "metadata": {
        "id": "FCg_QdR7Oma2"
      },
      "outputs": [],
      "source": [
        "wikipedia_base_url = 'https://en.wikipedia.org'\n",
        "wikipedia_content_analysis = 'https://en.wikipedia.org/wiki/Content_analysis'\n",
        "content_analysis_save = 'wikipedia_content_analysis.html'\n",
        "example_text_file = 'sometextfile.txt'\n",
        "information_extraction_pdf = 'https://github.com/Computational-Content-Analysis-2018/Data-Files/raw/master/1-intro/Content%20Analysis%2018.pdf'\n",
        "example_docx = 'https://github.com/Computational-Content-Analysis-2018/Data-Files/raw/master/1-intro/macs6000_connecting_to_midway.docx'\n",
        "example_docx_save = 'example.docx'"
      ]
    },
    {
      "cell_type": "markdown",
      "metadata": {
        "id": "bZM9Pw3lOma3"
      },
      "source": [
        "# Scraping\n",
        "\n",
        "Before we can start analyzing content we need to obtain it. Sometimes it will be\n",
        "provided to us from a pre-curated text archive, but sometimes we will need to\n",
        "download it. As a starting example we will attempt to download the wikipedia\n",
        "page on content analysis. The page is located at [https://en.wikipedia.org/wiki/Content_analysis](https://en.wikipedia.org/wiki/Content_analysis) so lets start\n",
        "with that.\n",
        "\n",
        "We can do this by making an HTTP GET request to that url, a GET request is\n",
        "simply a request to the server to provide the contents given by some url. The\n",
        "other request we will be using in this class is called a POST request and\n",
        "requests the server to take some content we provide. While the Python standard\n",
        "library does have the ability do make GET requests we will be using the\n",
        "[_requests_](http://docs.python-requests.org/en/master/) package as it is _'the\n",
        "only Non-GMO HTTP library for Python'_...also it provides a nicer interface."
      ]
    },
    {
      "cell_type": "code",
      "execution_count": 6,
      "metadata": {
        "id": "hhzQ0oNBOma4",
        "colab": {
          "base_uri": "https://localhost:8080/"
        },
        "outputId": "401d7ede-0017-4acf-f040-c0c890fe2bd5"
      },
      "outputs": [
        {
          "output_type": "execute_result",
          "data": {
            "text/plain": [
              "<Response [200]>"
            ]
          },
          "metadata": {},
          "execution_count": 6
        }
      ],
      "source": [
        "#wikipedia_content_analysis = 'https://en.wikipedia.org/wiki/Content_analysis'\n",
        "requests.get(wikipedia_content_analysis)"
      ]
    },
    {
      "cell_type": "markdown",
      "metadata": {
        "id": "OBLNFuYqOma5"
      },
      "source": [
        "`'Response [200]'` means the server responded with what we asked for. If you get\n",
        "another number (e.g. 404) it likely means there was some kind of error, these\n",
        "codes are called HTTP response codes and a list of them can be found\n",
        "[here](https://en.wikipedia.org/wiki/List_of_HTTP_status_codes). The response\n",
        "object contains all the data the server sent including the website's contents\n",
        "and the HTTP header. We are interested in the contents which we can access with\n",
        "the `.text` attribute."
      ]
    },
    {
      "cell_type": "code",
      "execution_count": 7,
      "metadata": {
        "id": "0MX6yy-GOma6",
        "colab": {
          "base_uri": "https://localhost:8080/"
        },
        "outputId": "23ea764c-53cf-41e1-8b5f-d37fde6314d2"
      },
      "outputs": [
        {
          "output_type": "stream",
          "name": "stdout",
          "text": [
            "<!DOCTYPE html>\n",
            "<html class=\"client-nojs\" lang=\"en\" dir=\"ltr\">\n",
            "<head>\n",
            "<meta charset=\"UTF-8\"/>\n",
            "<title>Content analysis - Wikipedia</title>\n",
            "<script>document.documentElement.className=\"client-js\";RLCONF={\"wgBreakFrames\":false,\"wgSeparatorTransformTable\":[\"\",\"\"],\"wgDigitTransformTable\":[\"\",\"\"],\"wgDefaultDateFormat\":\"dmy\",\"wgMonthNames\":[\"\",\"January\",\"February\",\"March\",\"April\",\"May\",\"June\",\"July\",\"August\",\"September\",\"October\",\"November\",\"December\"],\"wgRequestId\":\"1d2ec261-2a2a-40b2-8692-f344972fa85e\",\"wgCSPNonce\":false,\"wgCanonicalNamespace\":\"\",\"wgCanonicalSpecialPageName\":false,\"wgNamespaceNumber\":0,\"wgPageName\":\"Content_analysis\",\"wgTitle\":\"Content analysis\",\"wgCurRevisionId\":1065940520,\"wgRevisionId\":1065940520,\"wgArticleId\":473317,\"wgIsArticle\":true,\"wgIsRedirect\":false,\"wgAction\":\"view\",\"wgUserName\":null,\"wgUserGroups\":[\"*\"],\"wgCategories\":[\"Articles with short description\",\"Short description matches Wikidata\",\"Articles prone to spam from October 2017\",\"Articles with BNE identifiers\",\n"
          ]
        }
      ],
      "source": [
        "wikiContentRequest = requests.get(wikipedia_content_analysis)\n",
        "print(wikiContentRequest.text[:1000])"
      ]
    },
    {
      "cell_type": "markdown",
      "metadata": {
        "id": "v476yylWOma6"
      },
      "source": [
        "This is not what we were looking for, because it is the start of the HTML that\n",
        "makes up the website. This is HTML and is meant to be read by computers. Luckily\n",
        "we have a computer to parse it for us. To do the parsing we will use [_Beautiful\n",
        "Soup_](https://www.crummy.com/software/BeautifulSoup/) which is a better parser\n",
        "than the one in the standard library."
      ]
    },
    {
      "cell_type": "markdown",
      "metadata": {
        "id": "sKsCntAsOma7"
      },
      "source": [
        "But before we proceed to Beautiful Soup, a digression about Python syntax, especially about objects and functions.\n",
        "For those who are not familiar with the syntax of python (or, if you're familiar with R programming), you might wonder what requests.get or wikiContentRequest.text mean. To understand this, you need to first understand what objects are. You may have heard that Python is an object oriented programming language (unlike the procedure oriented programming language, an example of which is R). Object is a set of variables (or, data) and functions into which you pass your data. So, in object oriented programming languages, like python, variables and functions are bunleded into objects.\n",
        "\n",
        "For example, let's look at wikiContentRequest. We use dir() function, which returns the list of attributes and functions of objects."
      ]
    },
    {
      "cell_type": "code",
      "execution_count": 8,
      "metadata": {
        "id": "bFWJZHqhOma7",
        "colab": {
          "base_uri": "https://localhost:8080/"
        },
        "outputId": "adf6c446-efe2-428a-f758-266725cb816c"
      },
      "outputs": [
        {
          "output_type": "execute_result",
          "data": {
            "text/plain": [
              "['__attrs__',\n",
              " '__bool__',\n",
              " '__class__',\n",
              " '__delattr__',\n",
              " '__dict__',\n",
              " '__dir__',\n",
              " '__doc__',\n",
              " '__enter__',\n",
              " '__eq__',\n",
              " '__exit__',\n",
              " '__format__',\n",
              " '__ge__',\n",
              " '__getattribute__',\n",
              " '__getstate__',\n",
              " '__gt__',\n",
              " '__hash__',\n",
              " '__init__',\n",
              " '__init_subclass__',\n",
              " '__iter__',\n",
              " '__le__',\n",
              " '__lt__',\n",
              " '__module__',\n",
              " '__ne__',\n",
              " '__new__',\n",
              " '__nonzero__',\n",
              " '__reduce__',\n",
              " '__reduce_ex__',\n",
              " '__repr__',\n",
              " '__setattr__',\n",
              " '__setstate__',\n",
              " '__sizeof__',\n",
              " '__str__',\n",
              " '__subclasshook__',\n",
              " '__weakref__',\n",
              " '_content',\n",
              " '_content_consumed',\n",
              " '_next',\n",
              " 'apparent_encoding',\n",
              " 'close',\n",
              " 'connection',\n",
              " 'content',\n",
              " 'cookies',\n",
              " 'elapsed',\n",
              " 'encoding',\n",
              " 'headers',\n",
              " 'history',\n",
              " 'is_permanent_redirect',\n",
              " 'is_redirect',\n",
              " 'iter_content',\n",
              " 'iter_lines',\n",
              " 'json',\n",
              " 'links',\n",
              " 'next',\n",
              " 'ok',\n",
              " 'raise_for_status',\n",
              " 'raw',\n",
              " 'reason',\n",
              " 'request',\n",
              " 'status_code',\n",
              " 'text',\n",
              " 'url']"
            ]
          },
          "metadata": {},
          "execution_count": 8
        }
      ],
      "source": [
        " dir(wikiContentRequest)"
      ]
    },
    {
      "cell_type": "markdown",
      "metadata": {
        "id": "N2i8w-JwOma8"
      },
      "source": [
        "There's 'text' here. We used 'wikiContentRequest.text' to access 'text.' In other words, we use .(dot notation) to access functions from objects. wikiContentRequest has a set of functions, as shown above, and we used 'wikiContentRequest.text' to access one of them. By the way, dot notations do not necessarily refer to functions--it refers to anything that the entity contains. \n",
        "\n"
      ]
    },
    {
      "cell_type": "markdown",
      "metadata": {
        "id": "3heEYqz3Oma8"
      },
      "source": [
        "Moving on to the next step: BeautifulSoup, a Python library which extracts data from HTML and XML, and transforms HTML files into Python objects."
      ]
    },
    {
      "cell_type": "code",
      "execution_count": 9,
      "metadata": {
        "id": "q9aPjhBQOma8",
        "colab": {
          "base_uri": "https://localhost:8080/"
        },
        "outputId": "b6a0b83a-8b24-4c30-fbb8-33eb37114147"
      },
      "outputs": [
        {
          "output_type": "stream",
          "name": "stdout",
          "text": [
            "\n",
            "\n",
            "\n",
            "\n",
            "Content analysis - Wikipedia\n",
            "document.documentElement.className=\"client-js\";RLCONF={\"wgBreakFrames\":false,\"wgSeparatorTransformTable\":[\"\",\"\"],\"wgDigitTransformTable\":[\"\",\"\"],\"wgDefaultDateFormat\":\n"
          ]
        }
      ],
      "source": [
        "wikiContentSoup = bs4.BeautifulSoup(wikiContentRequest.text, 'html.parser')\n",
        "print(wikiContentSoup.text[:200])"
      ]
    },
    {
      "cell_type": "markdown",
      "metadata": {
        "id": "x3nSYukpOma9"
      },
      "source": [
        "This is better but there's still random whitespace and we have more than just\n",
        "the text of the article. This is because what we requested is the whole webpage,\n",
        "not just the text for the article.\n",
        "\n",
        "We want to extract only the text we care about, and in order to do this we will\n",
        "need to inspect the html. One way to do this is simply to go to the website with\n",
        "a browser and use its inspection or view source tool. If javascript or other\n",
        "dynamic loading occurs on the page, however, it is likely that what Python\n",
        "receives is not what you will see, so we will need to inspect what Python\n",
        "receives. To do this we can save the html `requests` obtained."
      ]
    },
    {
      "cell_type": "code",
      "execution_count": 10,
      "metadata": {
        "id": "ZcLAorw7Oma9"
      },
      "outputs": [],
      "source": [
        "#content_analysis_save = 'wikipedia_content_analysis.html'\n",
        "\n",
        "with open(content_analysis_save, mode='w', encoding='utf-8') as f:\n",
        "    f.write(wikiContentRequest.text)"
      ]
    },
    {
      "cell_type": "markdown",
      "metadata": {
        "id": "I7zi62goOma9"
      },
      "source": [
        "open() is a function which literally opens and returns the file. This function has multiple modes, and, here, we used mode as 'w', which means: open a file for writing. And then, we use 'write' function to write on the empty file (content_analysis_save) that we created using open(content_analysis_save, mode='w', encoding='utf-8').} What did we write on this file? The text we got from wikiContentRequest.text"
      ]
    },
    {
      "cell_type": "markdown",
      "metadata": {
        "id": "z9-kcKydOma-"
      },
      "source": [
        "Now let's open the file (`wikipedia_content_analysis.html`) we just created with\n",
        "a web browser. It should look sort of like the original but without the images\n",
        "and formatting.\n",
        "\n",
        "As there is very little standardization on structuring webpages, figuring out\n",
        "how best to extract what you want is an art. Looking at this page it looks like\n",
        "all the main textual content is inside `<p>`(paragraph) tags within the `<body>`\n",
        "tag. "
      ]
    },
    {
      "cell_type": "code",
      "execution_count": 11,
      "metadata": {
        "scrolled": true,
        "id": "UTiDo5jGOma-",
        "colab": {
          "base_uri": "https://localhost:8080/"
        },
        "outputId": "5908f492-d678-4237-f7b0-3ec3975664ac"
      },
      "outputs": [
        {
          "output_type": "stream",
          "name": "stdout",
          "text": [
            "South Asia \n",
            "\n",
            "Middle East\n",
            "\n",
            "Europe\n",
            "\n"
          ]
        }
      ],
      "source": [
        "contentPTags = wikiContentSoup.body.findAll('p')\n",
        "for pTag in contentPTags[:3]:\n",
        "    print(pTag.text)"
      ]
    },
    {
      "cell_type": "markdown",
      "metadata": {
        "id": "K-HEFlXROma-"
      },
      "source": [
        "Another excursion for those who are not familiar with programming: for loop. For loop is used to iterate over a sequence. \"ContentPTags\" contains multiple paragraphs, each of which starts and ends with `<p>`. What the \"for pTag in contentPtags[:3]\" does here is: find each paragraph in contentPTags, which, here, we limited to the first three using contentPtags[:3], and then print each paragraph. So, we have three paragraphs. By the way, you can insert `<p>` in juputer notebook!"
      ]
    },
    {
      "cell_type": "markdown",
      "metadata": {
        "id": "P3WbGS2aOma_"
      },
      "source": [
        "We now have all the text from the page, split up by paragraph. If we wanted to\n",
        "get the section headers or references as well it would require a bit more work,\n",
        "but is doable.\n",
        "\n",
        "There is one more thing we might want to do before sending this text to be\n",
        "processed, remove the references indicators (`[2]`, `[3]` , etc). To do this we\n",
        "can use a short regular expression (regex)."
      ]
    },
    {
      "cell_type": "code",
      "execution_count": 12,
      "metadata": {
        "id": "W1Km-YmsOma_",
        "colab": {
          "base_uri": "https://localhost:8080/"
        },
        "outputId": "4c647a19-26aa-4a82-e8bc-08606421eb19"
      },
      "outputs": [
        {
          "output_type": "stream",
          "name": "stdout",
          "text": [
            "                                       paragraph-text\n",
            "0                                       South Asia \\n\n",
            "1                                       Middle East\\n\n",
            "2                                            Europe\\n\n",
            "3                                     North America\\n\n",
            "4   Content analysis is the study of documents and...\n",
            "5   Practices and philosophies of content analysis...\n",
            "6   Computers are increasingly used in content ana...\n",
            "7   Content analysis is best understood as a broad...\n",
            "8   The simplest and most objective form of conten...\n",
            "9   A further step in analysis is the distinction ...\n",
            "10  Quantitative content analysis highlights frequ...\n",
            "11  Siegfried Kracauer provides a critique of quan...\n",
            "12  With the rise of common computing facilities l...\n",
            "13  By having contents of communication available ...\n",
            "14  Computer-assisted analysis can help with large...\n",
            "15  Robert Weber notes: \"To make valid inferences ...\n",
            "16  There are five types of texts in content analy...\n",
            "17  Content analysis is research using the categor...\n",
            "18  Over the years, content analysis has been appl...\n",
            "19  In recent times, particularly with the advent ...\n",
            "20  Quantitative content analysis has enjoyed a re...\n",
            "21  Content analysis can also be described as stud...\n",
            "22  Manifest content is readily understandable at ...\n",
            "23  Holsti groups fifteen uses of content analysis...\n",
            "24  He also places these uses into the context of ...\n",
            "25  The following table shows fifteen uses of cont...\n",
            "26  As a counterpoint, there are limits to the sco...\n",
            "27  The process of the initial coding scheme or ap...\n",
            "28  With either approach above, immersing oneself ...\n",
            "29                                                 \\n\n"
          ]
        }
      ],
      "source": [
        "contentParagraphs = []\n",
        "for pTag in contentPTags:\n",
        "    #strings starting with r are raw so their \\'s are not modifier characters\n",
        "    #If we didn't start with r the string would be: '\\\\[\\\\d+\\\\]'\n",
        "    contentParagraphs.append(re.sub(r'\\[\\d+\\]', '', pTag.text))\n",
        "\n",
        "#convert to a DataFrame\n",
        "contentParagraphsDF = pandas.DataFrame({'paragraph-text' : contentParagraphs})\n",
        "print(contentParagraphsDF)"
      ]
    },
    {
      "cell_type": "markdown",
      "metadata": {
        "id": "32iXyFviOma_"
      },
      "source": [
        "Since we learned how to do for loop, you might get what we did here: using contentParagraphs = [], we made an empty list; and then, for each paragraph in contentPTags, we substituted every [\\d+\\] with '', i.e., removed every [\\d+\\], and then appended each paragraph (now without [\\d+\\]) to the empty list. As we can see, we have a dataframe, each row of which is each paragraph of contentPTags, without reference indicators. \n",
        "\n",
        "By the way, what does [\\d+\\] mean? If you are not familiar with regex, it is a way of specifying searches in text.\n",
        "A regex engine takes in the search pattern, in the above case `'\\[\\d+\\]'` and\n",
        "some string, the paragraph texts. Then it reads the input string one character\n",
        "at a time checking if it matches the search. Here the regex `'\\d'` matches\n",
        "number characters (while `'\\['` and `'\\]'` capture the braces on either side)."
      ]
    },
    {
      "cell_type": "markdown",
      "metadata": {
        "id": "Ta624Xp-Oma_"
      },
      "source": [
        "Now we have a `DataFrame` containing all relevant text from the page ready to be processed"
      ]
    },
    {
      "cell_type": "code",
      "execution_count": 13,
      "metadata": {
        "id": "aMRe7UEvOma_",
        "colab": {
          "base_uri": "https://localhost:8080/"
        },
        "outputId": "99abccec-b0d4-48ef-9e35-ce11d1c4622f"
      },
      "outputs": [
        {
          "output_type": "execute_result",
          "data": {
            "text/plain": [
              "<re.Match object; span=(36, 37), match='2'>"
            ]
          },
          "metadata": {},
          "execution_count": 13
        }
      ],
      "source": [
        "findNumber = r'\\d'\n",
        "regexResults = re.search(findNumber, 'not a number, not a number, numbers 2134567890, not a number')\n",
        "regexResults"
      ]
    },
    {
      "cell_type": "markdown",
      "metadata": {
        "id": "70nwprj2OmbA"
      },
      "source": [
        "In Python the regex package (`re`) usually returns `Match` objects (you can have\n",
        "multiple pattern hits in a a single `Match`), to get the string that matched our\n",
        "pattern we can use the `.group()` method, and as we want the first one we will\n",
        "ask for the 0'th group."
      ]
    },
    {
      "cell_type": "code",
      "execution_count": 14,
      "metadata": {
        "id": "YPz34LJiOmbA",
        "colab": {
          "base_uri": "https://localhost:8080/"
        },
        "outputId": "86884db8-2659-44c2-847d-32fb8eee300c"
      },
      "outputs": [
        {
          "output_type": "stream",
          "name": "stdout",
          "text": [
            "2\n"
          ]
        }
      ],
      "source": [
        "print(regexResults.group(0))"
      ]
    },
    {
      "cell_type": "markdown",
      "metadata": {
        "id": "xu-YZGe4OmbA"
      },
      "source": [
        "That gives us the first number, if we wanted the whole block of numbers we can\n",
        "add a wildcard `'+'` which requests 1 or more instances of the preceding\n",
        "character."
      ]
    },
    {
      "cell_type": "code",
      "execution_count": 15,
      "metadata": {
        "id": "stERg5HHOmbA",
        "colab": {
          "base_uri": "https://localhost:8080/"
        },
        "outputId": "7fd9eedb-3f5e-4466-e936-a182866a550e"
      },
      "outputs": [
        {
          "output_type": "stream",
          "name": "stdout",
          "text": [
            "2134567890\n"
          ]
        }
      ],
      "source": [
        "findNumbers = r'\\d+'\n",
        "regexResults = re.search(findNumbers, 'not a number, not a number, numbers 2134567890, not a number')\n",
        "print(regexResults.group(0))"
      ]
    },
    {
      "cell_type": "markdown",
      "metadata": {
        "id": "DczZWZWeOmbB"
      },
      "source": [
        "Now we have the whole block of numbers, there are a huge number of special\n",
        "characters in regex, for the full description of Python's implementation look at\n",
        "the [re docs](https://docs.python.org/3/library/re.html) there is also a short\n",
        "[tutorial](https://docs.python.org/3/howto/regex.html#regex-howto)."
      ]
    },
    {
      "cell_type": "markdown",
      "metadata": {
        "id": "vVTLl6J-OmbB"
      },
      "source": [
        "# <font color=\"red\">Exercise 1</font>\n",
        "<font color=\"red\">Construct cells immediately below this that describe and download webcontent relating to your anticipated final project. Use beautiful soup and at least five regular expressions to extract relevant, nontrivial *chunks* of that content (e.g., cleaned sentences, paragraphs, etc.) to a pandas `Dataframe`.</font>"
      ]
    },
    {
      "cell_type": "markdown",
      "source": [
        "I would like to download book quotes from the website Goodreads on the first page of quotes, and put the quotes and authors in Dataframe."
      ],
      "metadata": {
        "id": "ucYLF52r3U7-"
      }
    },
    {
      "cell_type": "code",
      "source": [
        "content_analysis = 'https://www.goodreads.com/quotes/'\n",
        "content = requests.get(content_analysis)\n",
        "dir(content)\n",
        "ContentSoup = bs4.BeautifulSoup(content.text, 'html.parser')\n",
        "save = 'content_analysis.html'\n",
        "with open(save, mode='w', encoding='utf-8') as f:\n",
        "    f.write(content.text)"
      ],
      "metadata": {
        "id": "B2koX2eci6ey"
      },
      "execution_count": 73,
      "outputs": []
    },
    {
      "cell_type": "code",
      "source": [
        "quotetext = ContentSoup.find_all('div', class_ = 'quoteText')\n",
        "for i in quotetext:\n",
        "    print(i.text)"
      ],
      "metadata": {
        "colab": {
          "base_uri": "https://localhost:8080/"
        },
        "id": "aCsOdB9lkDDf",
        "outputId": "074c71d4-a8c6-4c73-faf4-cedfb5c67cc1"
      },
      "execution_count": 74,
      "outputs": [
        {
          "output_type": "stream",
          "name": "stdout",
          "text": [
            "\n",
            "      “Be yourself; everyone else is already taken.”\n",
            "    ―\n",
            "  \n",
            "    Oscar Wilde\n",
            "  \n",
            "\n",
            "\n",
            "      “I'm selfish, impatient and a little insecure. I make mistakes, I am out of control and at times hard to handle. But if you can't handle me at my worst, then you sure as hell don't deserve me at my best.”\n",
            "    ―\n",
            "  \n",
            "    Marilyn Monroe\n",
            "  \n",
            "\n",
            "\n",
            "      “Two things are infinite: the universe and human stupidity; and I'm not sure about the universe.”\n",
            "    ―\n",
            "  \n",
            "    Albert Einstein\n",
            "  \n",
            "\n",
            "\n",
            "      “So many books, so little time.”\n",
            "    ―\n",
            "  \n",
            "    Frank Zappa\n",
            "  \n",
            "\n",
            "\n",
            "      “A room without books is like a body without a soul.”\n",
            "    ―\n",
            "  \n",
            "    Marcus Tullius Cicero\n",
            "  \n",
            "\n",
            "\n",
            "      “Be who you are and say what you feel, because those who mind don't matter, and those who matter don't mind.”\n",
            "    ―\n",
            "  \n",
            "    Bernard M. Baruch\n",
            "  \n",
            "\n",
            "\n",
            "      “You've gotta dance like there's nobody watching,Love like you'll never be hurt,Sing like there's nobody listening,And live like it's heaven on earth.”\n",
            "    ―\n",
            "  \n",
            "    William W. Purkey\n",
            "  \n",
            "\n",
            "\n",
            "      “You know you're in love when you can't fall asleep because reality is finally better than your dreams.”\n",
            "    ―\n",
            "  \n",
            "    Dr. Seuss\n",
            "  \n",
            "\n",
            "\n",
            "      “You only live once, but if you do it right, once is enough.”\n",
            "    ―\n",
            "  \n",
            "    Mae West\n",
            "  \n",
            "\n",
            "\n",
            "      “Be the change that you wish to see in the world.”\n",
            "    ―\n",
            "  \n",
            "    Mahatma Gandhi\n",
            "  \n",
            "\n",
            "\n",
            "      “In three words I can sum up everything I've learned about life: it goes on.”\n",
            "    ―\n",
            "  \n",
            "    Robert Frost\n",
            "  \n",
            "\n",
            "\n",
            "      “If you want to know what a man's like, take a good look at how he treats his inferiors, not his equals.”\n",
            "    ―\n",
            "  \n",
            "    J.K. Rowling,\n",
            "  \n",
            "\n",
            "Harry Potter and the Goblet of Fire\n",
            "\n",
            "\n",
            "//<![CDATA[  \n",
            "\n",
            "  function submitShelfLink(unique_id, book_id, shelf_id, shelf_name, submit_form, exclusive) {\n",
            "    var checkbox_id = 'shelf_name_' + unique_id + '_' + shelf_id;\n",
            "    var element = document.getElementById(checkbox_id)\n",
            "\n",
            "    var checked = element.checked\n",
            "    if (checked && exclusive) {\n",
            "      // can't uncheck a radio by clicking it!\n",
            "      return\n",
            "    }\n",
            "    if(document.getElementById(\"savingMessage\")){\n",
            "      Element.show('savingMessage')\n",
            "    }\n",
            "    var element_id = 'shelfInDropdownName_' + unique_id + '_' + shelf_id;\n",
            "    Element.update(element_id, \"saving...\");\n",
            "    if (submit_form) {\n",
            "      Element.hide('shelfDropdown_' + unique_id)\n",
            "      var form = document.getElementById('addBookForm' + book_id)\n",
            "      if (form) {\n",
            "        form.shelf.value = shelf_name\n",
            "        form.onsubmit()\n",
            "      }\n",
            "    }\n",
            "    else {\n",
            "      var action = checked ? 'remove' : ''\n",
            "      element.checked = !element.checked\n",
            "      new Ajax.Request('/shelf/add_to_shelf', {asynchronous:true, evalScripts:true, onSuccess:function(request){shelfSubmitted(request, book_id, checkbox_id, element_id, unique_id, shelf_name)}, parameters:'book_id=' + book_id + '&name=' + shelf_name + '&a=' + action + '&authenticity_token=' + encodeURIComponent('wL/gYUAjH++B+JJGbnwzWb9eQmaH4Xfygi0vub6rFx9dLGT4XhkGI2kM38kMLZ5cegwCDxV6ZNsDbbbAT3TRPw==')})\n",
            "    }\n",
            "  }\n",
            "\n",
            "  function shelfSubmitted(request, book_id, checkbox_id, element_id, unique_id, shelf_name) {\n",
            "    Element.update('shelfListfalse_' + book_id, request.responseText)\n",
            "    afterShelfSave(checkbox_id, element_id, unique_id, shelf_name.escapeHTML())\n",
            "  }\n",
            "\n",
            "  function refreshGroupBox(group_id, book_id) {\n",
            "    new Ajax.Updater('addGroupBooks' + book_id + '', '/group/add_book_box', {asynchronous:true, evalScripts:true, onSuccess:function(request){refreshGroupBoxComplete(request, book_id);}, parameters:'id=' + group_id + '&book_id=' + book_id + '&refresh=true' + '&authenticity_token=' + encodeURIComponent('tkc97P1moJ/uRUcrl8BBUW3g8NNUyVO1fkCiBrnihjUr1Ll141y5UwaxCqT1kexUqLKwusZSQJz/ADt/SD1AFQ==')})\n",
            "  }\n",
            "//]]>\n",
            "\n",
            "\n",
            "//<![CDATA[\n",
            "      var newTip = new Tip($('quote_book_link_6'), \"\\n\\n  <h2><a class=\\\"readable bookTitle\\\" href=\\\"https://www.goodreads.com/book/show/6.Harry_Potter_and_the_Goblet_of_Fire?from_choice=false&amp;from_home_module=false\\\">Harry Potter and the Goblet of Fire (Harry Potter, #4)<\\/a><\\/h2>\\n\\n      <div>\\n        by <a class=\\\"authorName\\\" href=\\\"/author/show/1077326.J_K_Rowling\\\">J.K. Rowling<\\/a>\\n      <\\/div>\\n\\n          <div class=\\\"smallText uitext darkGreyText\\\">\\n            <span class=\\\"minirating\\\"><span class=\\\"stars staticStars notranslate\\\"><span size=\\\"12x12\\\" class=\\\"staticStar p10\\\"><\\/span><span size=\\\"12x12\\\" class=\\\"staticStar p10\\\"><\\/span><span size=\\\"12x12\\\" class=\\\"staticStar p10\\\"><\\/span><span size=\\\"12x12\\\" class=\\\"staticStar p10\\\"><\\/span><span size=\\\"12x12\\\" class=\\\"staticStar p6\\\"><\\/span><\\/span> 4.56 avg rating &mdash; 2,976,486 ratings<\\/span>            &mdash; published 2000\\n          <\\/div>\\n\\n    <div class=\\\"addBookTipDescription\\\">\\n      \\n<span id=\\\"freeTextContainer3977705363967483674\\\">Harry Potter is midway through his training as a wizard and his coming of age. Harry wants to get away from the pernicious Dursleys and go to the International Quidditch Cup with Hermione, Ron, and the Weasleys. He wants to dream about Cho Chang, his<\\/span>\\n  <span id=\\\"freeText3977705363967483674\\\" style=\\\"display:none\\\">Harry Potter is midway through his training as a wizard and his coming of age. Harry wants to get away from the pernicious Dursleys and go to the International Quidditch Cup with Hermione, Ron, and the Weasleys. He wants to dream about Cho Chang, his crush (and maybe do more than dream). He wants to find out about the mysterious event that\\'s supposed to take place at Hogwarts this year, an event involving two other rival schools of magic, and a competition that hasn\\'t happened for hundreds of years. He wants to be a normal, fourteen-year-old wizard. But unfortunately for Harry Potter, he\\'s not normal - even by wizarding standards.And in his case, different can be deadly.<\\/span>\\n  <a data-text-id=\\\"3977705363967483674\\\" href=\\\"#\\\" onclick=\\\"swapContent(\\$(this));; return false;\\\">...more<\\/a>\\n\\n    <\\/div>\\n\\n      <div class=\\'wtrButtonContainer wtrSignedOut\\' id=\\'1_book_6\\'>\\n<div class=\\'wtrUp wtrLeft\\'>\\n<form action=\\\"/shelf/add_to_shelf\\\" accept-charset=\\\"UTF-8\\\" method=\\\"post\\\"><input name=\\\"utf8\\\" type=\\\"hidden\\\" value=\\\"&#x2713;\\\" /><input type=\\\"hidden\\\" name=\\\"authenticity_token\\\" value=\\\"5Nve6YZMr1VDzuoFiO9bz/m+9xubeaOqHzJhSJXFn095SFpwmHa2mas6p4rqvvbKPOy3cgnisIOecvgxZBpZbw==\\\" />\\n<input type=\\\"hidden\\\" name=\\\"book_id\\\" id=\\\"book_id\\\" value=\\\"6\\\" />\\n<input type=\\\"hidden\\\" name=\\\"name\\\" id=\\\"name\\\" value=\\\"to-read\\\" />\\n<input type=\\\"hidden\\\" name=\\\"unique_id\\\" id=\\\"unique_id\\\" value=\\\"1_book_6\\\" />\\n<input type=\\\"hidden\\\" name=\\\"wtr_new\\\" id=\\\"wtr_new\\\" value=\\\"true\\\" />\\n<input type=\\\"hidden\\\" name=\\\"from_choice\\\" id=\\\"from_choice\\\" value=\\\"false\\\" />\\n<input type=\\\"hidden\\\" name=\\\"from_home_module\\\" id=\\\"from_home_module\\\" value=\\\"false\\\" />\\n<input type=\\\"hidden\\\" name=\\\"ref\\\" id=\\\"ref\\\" value=\\\"\\\" class=\\\"wtrLeftUpRef\\\" />\\n<input type=\\\"hidden\\\" name=\\\"existing_review\\\" id=\\\"existing_review\\\" value=\\\"false\\\" class=\\\"wtrExisting\\\" />\\n<input type=\\\"hidden\\\" name=\\\"page_url\\\" id=\\\"page_url\\\" value=\\\"/quotes\\\" />\\n<button class=\\'wtrToRead\\' type=\\'submit\\'>\\n<span class=\\'progressTrigger\\'>Want to Read<\\/span>\\n<span class=\\'progressIndicator\\'>saving…<\\/span>\\n<\\/button>\\n<\\/form>\\n\\n<\\/div>\\n\\n<div class=\\'wtrRight wtrUp\\'>\\n<form class=\\\"hiddenShelfForm\\\" action=\\\"/shelf/add_to_shelf\\\" accept-charset=\\\"UTF-8\\\" method=\\\"post\\\"><input name=\\\"utf8\\\" type=\\\"hidden\\\" value=\\\"&#x2713;\\\" /><input type=\\\"hidden\\\" name=\\\"authenticity_token\\\" value=\\\"WWP16oVkXl9qR9MdIKyKZaRmHWIq2u0C+iLyHSESVnXE8HFzm15Hk4KznpJC/SdgYTRdC7hB/it7Ymtk0M2QVQ==\\\" />\\n<input type=\\\"hidden\\\" name=\\\"unique_id\\\" id=\\\"unique_id\\\" value=\\\"1_book_6\\\" />\\n<input type=\\\"hidden\\\" name=\\\"book_id\\\" id=\\\"book_id\\\" value=\\\"6\\\" />\\n<input type=\\\"hidden\\\" name=\\\"a\\\" id=\\\"a\\\" />\\n<input type=\\\"hidden\\\" name=\\\"name\\\" id=\\\"name\\\" />\\n<input type=\\\"hidden\\\" name=\\\"from_choice\\\" id=\\\"from_choice\\\" value=\\\"false\\\" />\\n<input type=\\\"hidden\\\" name=\\\"from_home_module\\\" id=\\\"from_home_module\\\" value=\\\"false\\\" />\\n<input type=\\\"hidden\\\" name=\\\"page_url\\\" id=\\\"page_url\\\" value=\\\"/quotes\\\" />\\n<\\/form>\\n\\n<button class=\\'wtrShelfButton\\'><\\/button>\\n<div class=\\'wtrShelfMenu\\'>\\n<ul class=\\'wtrExclusiveShelves\\'>\\n<li><button class=\\'wtrExclusiveShelf\\' name=\\'name\\' type=\\'submit\\' value=\\'to-read\\'>\\n<span class=\\'progressTrigger\\'>Want to Read<\\/span>\\n<img alt=\\\"saving…\\\" class=\\\"progressIndicator\\\" src=\\\"https://s.gr-assets.com/assets/loading-trans-ced157046184c3bc7c180ffbfc6825a4.gif\\\" />\\n<\\/button>\\n<\\/li>\\n<li><button class=\\'wtrExclusiveShelf\\' name=\\'name\\' type=\\'submit\\' value=\\'currently-reading\\'>\\n<span class=\\'progressTrigger\\'>Currently Reading<\\/span>\\n<img alt=\\\"saving…\\\" class=\\\"progressIndicator\\\" src=\\\"https://s.gr-assets.com/assets/loading-trans-ced157046184c3bc7c180ffbfc6825a4.gif\\\" />\\n<\\/button>\\n<\\/li>\\n<li><button class=\\'wtrExclusiveShelf\\' name=\\'name\\' type=\\'submit\\' value=\\'read\\'>\\n<span class=\\'progressTrigger\\'>Read<\\/span>\\n<img alt=\\\"saving…\\\" class=\\\"progressIndicator\\\" src=\\\"https://s.gr-assets.com/assets/loading-trans-ced157046184c3bc7c180ffbfc6825a4.gif\\\" />\\n<\\/button>\\n<\\/li>\\n<\\/ul>\\n<\\/div>\\n<\\/div>\\n\\n<div class=\\'ratingStars wtrRating\\'>\\n<div class=\\'starsErrorTooltip hidden\\'>\\nError rating book. Refresh and try again.\\n<\\/div>\\n<div class=\\'myRating uitext greyText\\'>Rate this book<\\/div>\\n<div class=\\'clearRating uitext\\'>Clear rating<\\/div>\\n<div class=\\\"stars\\\" data-resource-id=\\\"6\\\" data-user-id=\\\"0\\\" data-submit-url=\\\"/review/rate/6?page_url=%2Fquotes&rate_books_page=false&stars_click=false&wtr_button_id=1_book_6\\\" data-rating=\\\"0\\\"><a class=\\\"star off\\\" title=\\\"did not like it\\\" href=\\\"#\\\" ref=\\\"\\\">1 of 5 stars<\\/a><a class=\\\"star off\\\" title=\\\"it was ok\\\" href=\\\"#\\\" ref=\\\"\\\">2 of 5 stars<\\/a><a class=\\\"star off\\\" title=\\\"liked it\\\" href=\\\"#\\\" ref=\\\"\\\">3 of 5 stars<\\/a><a class=\\\"star off\\\" title=\\\"really liked it\\\" href=\\\"#\\\" ref=\\\"\\\">4 of 5 stars<\\/a><a class=\\\"star off\\\" title=\\\"it was amazing\\\" href=\\\"#\\\" ref=\\\"\\\">5 of 5 stars<\\/a><\\/div>\\n<\\/div>\\n\\n<\\/div>\\n\\n\\n\\n\\n\", { style: 'addbook', stem: 'leftMiddle', hook: { tip: 'leftMiddle', target: 'rightMiddle' }, offset: { x: 5, y: 0 }, hideOn: false, width: 400, hideAfter: 0.05, delay: 0.35 });\n",
            "      $('quote_book_link_6').observe('prototip:shown', function() {\n",
            "        if (this.up('#box')) {\n",
            "          $$('div.prototip').each(function(i){i.setStyle({zIndex: $('box').getStyle('z-index')})});\n",
            "        } else {\n",
            "          $$('div.prototip').each(function(i){i.setStyle({zIndex: 6000})});\n",
            "        }\n",
            "      });\n",
            "\n",
            "      newTip['wrapper'].addClassName('prototipAllowOverflow');\n",
            "\n",
            "        $('quote_book_link_6').observe('prototip:shown', function () {\n",
            "          $$('div.prototip').each(function (e) {\n",
            "            if ($('quote_book_link_6').hasClassName('ignored')) {\n",
            "              e.setStyle({'display': 'none'});\n",
            "              return;\n",
            "            }\n",
            "            e.setStyle({'overflow': 'visible'});\n",
            "          });\n",
            "        });\n",
            "      $('quote_book_link_6').observe('prototip:hidden', function () {\n",
            "        $$('span.elementTwo').each(function (e) {\n",
            "          if (e.getStyle('display') !== 'none') {\n",
            "            var lessLink = e.next();\n",
            "            swapContent(lessLink);\n",
            "          }\n",
            "        });\n",
            "      });\n",
            "\n",
            "//]]>\n",
            "\n",
            "\n",
            "\n",
            "      “Don’t walk in front of me… I may not followDon’t walk behind me… I may not leadWalk beside me… just be my friend”\n",
            "    ―\n",
            "  \n",
            "    Albert Camus\n",
            "  \n",
            "\n",
            "\n",
            "      “If you tell the truth, you don't have to remember anything.”\n",
            "    ―\n",
            "  \n",
            "    Mark Twain\n",
            "  \n",
            "\n",
            "\n",
            "      “Friendship ... is born at the moment when one man says to another \"What! You too? I thought that no one but myself . . .”\n",
            "    ―\n",
            "  \n",
            "    C.S. Lewis,\n",
            "  \n",
            "\n",
            "The Four Loves\n",
            "\n",
            "\n",
            "//<![CDATA[\n",
            "      var newTip = new Tip($('quote_book_link_30633'), \"\\n\\n  <h2><a class=\\\"readable bookTitle\\\" href=\\\"https://www.goodreads.com/book/show/30633.The_Four_Loves?from_choice=false&amp;from_home_module=false\\\">The Four Loves<\\/a><\\/h2>\\n\\n      <div>\\n        by <a class=\\\"authorName\\\" href=\\\"/author/show/1069006.C_S_Lewis\\\">C.S. Lewis<\\/a>\\n      <\\/div>\\n\\n          <div class=\\\"smallText uitext darkGreyText\\\">\\n            <span class=\\\"minirating\\\"><span class=\\\"stars staticStars notranslate\\\"><span size=\\\"12x12\\\" class=\\\"staticStar p10\\\"><\\/span><span size=\\\"12x12\\\" class=\\\"staticStar p10\\\"><\\/span><span size=\\\"12x12\\\" class=\\\"staticStar p10\\\"><\\/span><span size=\\\"12x12\\\" class=\\\"staticStar p10\\\"><\\/span><span size=\\\"12x12\\\" class=\\\"staticStar p3\\\"><\\/span><\\/span> 4.13 avg rating &mdash; 50,547 ratings<\\/span>            &mdash; published 1960\\n          <\\/div>\\n\\n    <div class=\\\"addBookTipDescription\\\">\\n      \\n<span id=\\\"freeTextContainer3398436904993725893\\\">The Four Loves summarizes four kinds of human love--affection, friendship, erotic love, and the love of God. Masterful without being magisterial, this book&apos;s wise, gentle, candid reflections on the virtues and dangers of love draw on sources from Jan<\\/span>\\n  <span id=\\\"freeText3398436904993725893\\\" style=\\\"display:none\\\">The Four Loves summarizes four kinds of human love--affection, friendship, erotic love, and the love of God. Masterful without being magisterial, this book\\'s wise, gentle, candid reflections on the virtues and dangers of love draw on sources from Jane Austen to St. Augustine. The chapter on charity (love of God) may be the best thing Lewis ever wrote about Christianity. Consider his reflection on Augustine\\'s teaching that one must love only God, because only God is eternal, and all earthly love will someday pass away:  Who could conceivably begin to love God on such a prudential ground--because the security (so to speak) is better? Who could even include it among the grounds for loving? Would you choose a wife or a Friend--if it comes to that, would you choose a dog--in this spirit? One must be outside the world of love, of all loves, before one thus calculates.  His description of Christianity here is no less forceful and opinionated than in Mere Christianity or The Problem of Pain, but it is far less anxious about its reader\\'s response--and therefore more persuasive than any of his apologetics. When he begins to describe the nature of faith, Lewis writes: &quot;Take it as one man\\'s reverie, almost one man\\'s myth. If anything in it is useful to you, use it; if anything is not, never give it a second thought.&quot; --Michael Joseph Gross<\\/span>\\n  <a data-text-id=\\\"3398436904993725893\\\" href=\\\"#\\\" onclick=\\\"swapContent(\\$(this));; return false;\\\">...more<\\/a>\\n\\n    <\\/div>\\n\\n      <div class=\\'wtrButtonContainer wtrSignedOut\\' id=\\'2_book_30633\\'>\\n<div class=\\'wtrUp wtrLeft\\'>\\n<form action=\\\"/shelf/add_to_shelf\\\" accept-charset=\\\"UTF-8\\\" method=\\\"post\\\"><input name=\\\"utf8\\\" type=\\\"hidden\\\" value=\\\"&#x2713;\\\" /><input type=\\\"hidden\\\" name=\\\"authenticity_token\\\" value=\\\"8Fu7DHMBaSUqKmUTkBTIXJ3PV/lJ/MdMObWvmwIzKWhtyD+VbTtw6cLeKJzyRWVZWJ0XkNtn1GW49Tbi8+zvSA==\\\" />\\n<input type=\\\"hidden\\\" name=\\\"book_id\\\" id=\\\"book_id\\\" value=\\\"30633\\\" />\\n<input type=\\\"hidden\\\" name=\\\"name\\\" id=\\\"name\\\" value=\\\"to-read\\\" />\\n<input type=\\\"hidden\\\" name=\\\"unique_id\\\" id=\\\"unique_id\\\" value=\\\"2_book_30633\\\" />\\n<input type=\\\"hidden\\\" name=\\\"wtr_new\\\" id=\\\"wtr_new\\\" value=\\\"true\\\" />\\n<input type=\\\"hidden\\\" name=\\\"from_choice\\\" id=\\\"from_choice\\\" value=\\\"false\\\" />\\n<input type=\\\"hidden\\\" name=\\\"from_home_module\\\" id=\\\"from_home_module\\\" value=\\\"false\\\" />\\n<input type=\\\"hidden\\\" name=\\\"ref\\\" id=\\\"ref\\\" value=\\\"\\\" class=\\\"wtrLeftUpRef\\\" />\\n<input type=\\\"hidden\\\" name=\\\"existing_review\\\" id=\\\"existing_review\\\" value=\\\"false\\\" class=\\\"wtrExisting\\\" />\\n<input type=\\\"hidden\\\" name=\\\"page_url\\\" id=\\\"page_url\\\" value=\\\"/quotes\\\" />\\n<button class=\\'wtrToRead\\' type=\\'submit\\'>\\n<span class=\\'progressTrigger\\'>Want to Read<\\/span>\\n<span class=\\'progressIndicator\\'>saving…<\\/span>\\n<\\/button>\\n<\\/form>\\n\\n<\\/div>\\n\\n<div class=\\'wtrRight wtrUp\\'>\\n<form class=\\\"hiddenShelfForm\\\" action=\\\"/shelf/add_to_shelf\\\" accept-charset=\\\"UTF-8\\\" method=\\\"post\\\"><input name=\\\"utf8\\\" type=\\\"hidden\\\" value=\\\"&#x2713;\\\" /><input type=\\\"hidden\\\" name=\\\"authenticity_token\\\" value=\\\"UFzM2stYeddHkZOsSVMRSOWEe/Hywu1R7kpyN9XvGxrNz0hD1WJgG69l3iMrArxNINY7mGBZ/nhvCutOJDDdOg==\\\" />\\n<input type=\\\"hidden\\\" name=\\\"unique_id\\\" id=\\\"unique_id\\\" value=\\\"2_book_30633\\\" />\\n<input type=\\\"hidden\\\" name=\\\"book_id\\\" id=\\\"book_id\\\" value=\\\"30633\\\" />\\n<input type=\\\"hidden\\\" name=\\\"a\\\" id=\\\"a\\\" />\\n<input type=\\\"hidden\\\" name=\\\"name\\\" id=\\\"name\\\" />\\n<input type=\\\"hidden\\\" name=\\\"from_choice\\\" id=\\\"from_choice\\\" value=\\\"false\\\" />\\n<input type=\\\"hidden\\\" name=\\\"from_home_module\\\" id=\\\"from_home_module\\\" value=\\\"false\\\" />\\n<input type=\\\"hidden\\\" name=\\\"page_url\\\" id=\\\"page_url\\\" value=\\\"/quotes\\\" />\\n<\\/form>\\n\\n<button class=\\'wtrShelfButton\\'><\\/button>\\n<\\/div>\\n\\n<div class=\\'ratingStars wtrRating\\'>\\n<div class=\\'starsErrorTooltip hidden\\'>\\nError rating book. Refresh and try again.\\n<\\/div>\\n<div class=\\'myRating uitext greyText\\'>Rate this book<\\/div>\\n<div class=\\'clearRating uitext\\'>Clear rating<\\/div>\\n<div class=\\\"stars\\\" data-resource-id=\\\"30633\\\" data-user-id=\\\"0\\\" data-submit-url=\\\"/review/rate/30633?page_url=%2Fquotes&rate_books_page=false&stars_click=false&wtr_button_id=2_book_30633\\\" data-rating=\\\"0\\\"><a class=\\\"star off\\\" title=\\\"did not like it\\\" href=\\\"#\\\" ref=\\\"\\\">1 of 5 stars<\\/a><a class=\\\"star off\\\" title=\\\"it was ok\\\" href=\\\"#\\\" ref=\\\"\\\">2 of 5 stars<\\/a><a class=\\\"star off\\\" title=\\\"liked it\\\" href=\\\"#\\\" ref=\\\"\\\">3 of 5 stars<\\/a><a class=\\\"star off\\\" title=\\\"really liked it\\\" href=\\\"#\\\" ref=\\\"\\\">4 of 5 stars<\\/a><a class=\\\"star off\\\" title=\\\"it was amazing\\\" href=\\\"#\\\" ref=\\\"\\\">5 of 5 stars<\\/a><\\/div>\\n<\\/div>\\n\\n<\\/div>\\n\\n\\n\\n\\n\", { style: 'addbook', stem: 'leftMiddle', hook: { tip: 'leftMiddle', target: 'rightMiddle' }, offset: { x: 5, y: 0 }, hideOn: false, width: 400, hideAfter: 0.05, delay: 0.35 });\n",
            "      $('quote_book_link_30633').observe('prototip:shown', function() {\n",
            "        if (this.up('#box')) {\n",
            "          $$('div.prototip').each(function(i){i.setStyle({zIndex: $('box').getStyle('z-index')})});\n",
            "        } else {\n",
            "          $$('div.prototip').each(function(i){i.setStyle({zIndex: 6000})});\n",
            "        }\n",
            "      });\n",
            "\n",
            "      newTip['wrapper'].addClassName('prototipAllowOverflow');\n",
            "\n",
            "        $('quote_book_link_30633').observe('prototip:shown', function () {\n",
            "          $$('div.prototip').each(function (e) {\n",
            "            if ($('quote_book_link_30633').hasClassName('ignored')) {\n",
            "              e.setStyle({'display': 'none'});\n",
            "              return;\n",
            "            }\n",
            "            e.setStyle({'overflow': 'visible'});\n",
            "          });\n",
            "        });\n",
            "      $('quote_book_link_30633').observe('prototip:hidden', function () {\n",
            "        $$('span.elementTwo').each(function (e) {\n",
            "          if (e.getStyle('display') !== 'none') {\n",
            "            var lessLink = e.next();\n",
            "            swapContent(lessLink);\n",
            "          }\n",
            "        });\n",
            "      });\n",
            "\n",
            "//]]>\n",
            "\n",
            "\n",
            "\n",
            "      “I've learned that people will forget what you said, people will forget what you did, but people will never forget how you made them feel.”\n",
            "    ―\n",
            "  \n",
            "    Maya Angelou\n",
            "  \n",
            "\n",
            "\n",
            "      “A friend is someone who knows all about you and still loves you.”\n",
            "    ―\n",
            "  \n",
            "    Elbert Hubbard\n",
            "  \n",
            "\n",
            "\n",
            "      “Always forgive your enemies; nothing annoys them so much.”\n",
            "    ―\n",
            "  \n",
            "    Oscar Wilde\n",
            "  \n",
            "\n",
            "\n",
            "      “To live is the rarest thing in the world. Most people exist, that is all.”\n",
            "    ―\n",
            "  \n",
            "    Oscar Wilde\n",
            "  \n",
            "\n",
            "\n",
            "      “Live as if you were to die tomorrow. Learn as if you were to live forever.”\n",
            "    ―\n",
            "  \n",
            "    Mahatma Gandhi\n",
            "  \n",
            "\n",
            "\n",
            "      “Darkness cannot drive out darkness: only light can do that. Hate cannot drive out hate: only love can do that.”\n",
            "    ―\n",
            "  \n",
            "    Martin Luther King Jr.,\n",
            "  \n",
            "\n",
            "A Testament of Hope: The Essential Writings and Speeches\n",
            "\n",
            "\n",
            "//<![CDATA[\n",
            "      var newTip = new Tip($('quote_book_link_53360'), \"\\n\\n  <h2><a class=\\\"readable bookTitle\\\" href=\\\"https://www.goodreads.com/book/show/53360.A_Testament_of_Hope?from_choice=false&amp;from_home_module=false\\\">A Testament of Hope: The Essential Writings and Speeches<\\/a><\\/h2>\\n\\n      <div>\\n        by <a class=\\\"authorName\\\" href=\\\"/author/show/23924.Martin_Luther_King_Jr_\\\">Martin Luther King Jr.<\\/a>\\n      <\\/div>\\n\\n          <div class=\\\"smallText uitext darkGreyText\\\">\\n            <span class=\\\"minirating\\\"><span class=\\\"stars staticStars notranslate\\\"><span size=\\\"12x12\\\" class=\\\"staticStar p10\\\"><\\/span><span size=\\\"12x12\\\" class=\\\"staticStar p10\\\"><\\/span><span size=\\\"12x12\\\" class=\\\"staticStar p10\\\"><\\/span><span size=\\\"12x12\\\" class=\\\"staticStar p10\\\"><\\/span><span size=\\\"12x12\\\" class=\\\"staticStar p6\\\"><\\/span><\\/span> 4.55 avg rating &mdash; 2,248 ratings<\\/span>            &mdash; published 1986\\n          <\\/div>\\n\\n    <div class=\\\"addBookTipDescription\\\">\\n      \\n<span id=\\\"freeTextContainer8846527363607795869\\\">Here, in the only major one-volume collection of his writings, speeches, interviews, and autobiographical reflections, is Martin Luther King Jr. on non-violence, social policy, integration, black nationalism, the ethics of love and hope, and more.<\\/span>\\n\\n    <\\/div>\\n\\n      <div class=\\'wtrButtonContainer wtrSignedOut\\' id=\\'3_book_53360\\'>\\n<div class=\\'wtrUp wtrLeft\\'>\\n<form action=\\\"/shelf/add_to_shelf\\\" accept-charset=\\\"UTF-8\\\" method=\\\"post\\\"><input name=\\\"utf8\\\" type=\\\"hidden\\\" value=\\\"&#x2713;\\\" /><input type=\\\"hidden\\\" name=\\\"authenticity_token\\\" value=\\\"lgVZpV0Ow0NDmivfaM4OCqoAQ0dG/9qbwL+/jxdPewkLlt08QzTaj6tuZlAKn6MPb1IDLtRkybJB/yb25pC9KQ==\\\" />\\n<input type=\\\"hidden\\\" name=\\\"book_id\\\" id=\\\"book_id\\\" value=\\\"53360\\\" />\\n<input type=\\\"hidden\\\" name=\\\"name\\\" id=\\\"name\\\" value=\\\"to-read\\\" />\\n<input type=\\\"hidden\\\" name=\\\"unique_id\\\" id=\\\"unique_id\\\" value=\\\"3_book_53360\\\" />\\n<input type=\\\"hidden\\\" name=\\\"wtr_new\\\" id=\\\"wtr_new\\\" value=\\\"true\\\" />\\n<input type=\\\"hidden\\\" name=\\\"from_choice\\\" id=\\\"from_choice\\\" value=\\\"false\\\" />\\n<input type=\\\"hidden\\\" name=\\\"from_home_module\\\" id=\\\"from_home_module\\\" value=\\\"false\\\" />\\n<input type=\\\"hidden\\\" name=\\\"ref\\\" id=\\\"ref\\\" value=\\\"\\\" class=\\\"wtrLeftUpRef\\\" />\\n<input type=\\\"hidden\\\" name=\\\"existing_review\\\" id=\\\"existing_review\\\" value=\\\"false\\\" class=\\\"wtrExisting\\\" />\\n<input type=\\\"hidden\\\" name=\\\"page_url\\\" id=\\\"page_url\\\" value=\\\"/quotes\\\" />\\n<button class=\\'wtrToRead\\' type=\\'submit\\'>\\n<span class=\\'progressTrigger\\'>Want to Read<\\/span>\\n<span class=\\'progressIndicator\\'>saving…<\\/span>\\n<\\/button>\\n<\\/form>\\n\\n<\\/div>\\n\\n<div class=\\'wtrRight wtrUp\\'>\\n<form class=\\\"hiddenShelfForm\\\" action=\\\"/shelf/add_to_shelf\\\" accept-charset=\\\"UTF-8\\\" method=\\\"post\\\"><input name=\\\"utf8\\\" type=\\\"hidden\\\" value=\\\"&#x2713;\\\" /><input type=\\\"hidden\\\" name=\\\"authenticity_token\\\" value=\\\"zUP172SGJ9nS6Rx+777gBUoR1xoVjTMelncRGqn0lL5Q0HF2erw+FTodUfGN700Aj0OXc4cWIDcXN4hjWCtSng==\\\" />\\n<input type=\\\"hidden\\\" name=\\\"unique_id\\\" id=\\\"unique_id\\\" value=\\\"3_book_53360\\\" />\\n<input type=\\\"hidden\\\" name=\\\"book_id\\\" id=\\\"book_id\\\" value=\\\"53360\\\" />\\n<input type=\\\"hidden\\\" name=\\\"a\\\" id=\\\"a\\\" />\\n<input type=\\\"hidden\\\" name=\\\"name\\\" id=\\\"name\\\" />\\n<input type=\\\"hidden\\\" name=\\\"from_choice\\\" id=\\\"from_choice\\\" value=\\\"false\\\" />\\n<input type=\\\"hidden\\\" name=\\\"from_home_module\\\" id=\\\"from_home_module\\\" value=\\\"false\\\" />\\n<input type=\\\"hidden\\\" name=\\\"page_url\\\" id=\\\"page_url\\\" value=\\\"/quotes\\\" />\\n<\\/form>\\n\\n<button class=\\'wtrShelfButton\\'><\\/button>\\n<\\/div>\\n\\n<div class=\\'ratingStars wtrRating\\'>\\n<div class=\\'starsErrorTooltip hidden\\'>\\nError rating book. Refresh and try again.\\n<\\/div>\\n<div class=\\'myRating uitext greyText\\'>Rate this book<\\/div>\\n<div class=\\'clearRating uitext\\'>Clear rating<\\/div>\\n<div class=\\\"stars\\\" data-resource-id=\\\"53360\\\" data-user-id=\\\"0\\\" data-submit-url=\\\"/review/rate/53360?page_url=%2Fquotes&rate_books_page=false&stars_click=false&wtr_button_id=3_book_53360\\\" data-rating=\\\"0\\\"><a class=\\\"star off\\\" title=\\\"did not like it\\\" href=\\\"#\\\" ref=\\\"\\\">1 of 5 stars<\\/a><a class=\\\"star off\\\" title=\\\"it was ok\\\" href=\\\"#\\\" ref=\\\"\\\">2 of 5 stars<\\/a><a class=\\\"star off\\\" title=\\\"liked it\\\" href=\\\"#\\\" ref=\\\"\\\">3 of 5 stars<\\/a><a class=\\\"star off\\\" title=\\\"really liked it\\\" href=\\\"#\\\" ref=\\\"\\\">4 of 5 stars<\\/a><a class=\\\"star off\\\" title=\\\"it was amazing\\\" href=\\\"#\\\" ref=\\\"\\\">5 of 5 stars<\\/a><\\/div>\\n<\\/div>\\n\\n<\\/div>\\n\\n\\n\\n\\n\", { style: 'addbook', stem: 'leftMiddle', hook: { tip: 'leftMiddle', target: 'rightMiddle' }, offset: { x: 5, y: 0 }, hideOn: false, width: 400, hideAfter: 0.05, delay: 0.35 });\n",
            "      $('quote_book_link_53360').observe('prototip:shown', function() {\n",
            "        if (this.up('#box')) {\n",
            "          $$('div.prototip').each(function(i){i.setStyle({zIndex: $('box').getStyle('z-index')})});\n",
            "        } else {\n",
            "          $$('div.prototip').each(function(i){i.setStyle({zIndex: 6000})});\n",
            "        }\n",
            "      });\n",
            "\n",
            "      newTip['wrapper'].addClassName('prototipAllowOverflow');\n",
            "\n",
            "        $('quote_book_link_53360').observe('prototip:shown', function () {\n",
            "          $$('div.prototip').each(function (e) {\n",
            "            if ($('quote_book_link_53360').hasClassName('ignored')) {\n",
            "              e.setStyle({'display': 'none'});\n",
            "              return;\n",
            "            }\n",
            "            e.setStyle({'overflow': 'visible'});\n",
            "          });\n",
            "        });\n",
            "      $('quote_book_link_53360').observe('prototip:hidden', function () {\n",
            "        $$('span.elementTwo').each(function (e) {\n",
            "          if (e.getStyle('display') !== 'none') {\n",
            "            var lessLink = e.next();\n",
            "            swapContent(lessLink);\n",
            "          }\n",
            "        });\n",
            "      });\n",
            "\n",
            "//]]>\n",
            "\n",
            "\n",
            "\n",
            "      “We accept the love we think we deserve.”\n",
            "    ―\n",
            "  \n",
            "    Stephen Chbosky,\n",
            "  \n",
            "\n",
            "The Perks of Being a Wallflower\n",
            "\n",
            "\n",
            "//<![CDATA[\n",
            "      var newTip = new Tip($('quote_book_link_22628'), \"\\n\\n  <h2><a class=\\\"readable bookTitle\\\" href=\\\"https://www.goodreads.com/book/show/22628.The_Perks_of_Being_a_Wallflower?from_choice=false&amp;from_home_module=false\\\">The Perks of Being a Wallflower<\\/a><\\/h2>\\n\\n      <div>\\n        by <a class=\\\"authorName\\\" href=\\\"/author/show/12898.Stephen_Chbosky\\\">Stephen Chbosky<\\/a>\\n      <\\/div>\\n\\n          <div class=\\\"smallText uitext darkGreyText\\\">\\n            <span class=\\\"minirating\\\"><span class=\\\"stars staticStars notranslate\\\"><span size=\\\"12x12\\\" class=\\\"staticStar p10\\\"><\\/span><span size=\\\"12x12\\\" class=\\\"staticStar p10\\\"><\\/span><span size=\\\"12x12\\\" class=\\\"staticStar p10\\\"><\\/span><span size=\\\"12x12\\\" class=\\\"staticStar p10\\\"><\\/span><span size=\\\"12x12\\\" class=\\\"staticStar p3\\\"><\\/span><\\/span> 4.21 avg rating &mdash; 1,455,771 ratings<\\/span>            &mdash; published 1999\\n          <\\/div>\\n\\n    <div class=\\\"addBookTipDescription\\\">\\n      \\n<span id=\\\"freeTextContainer3852707301709044318\\\">standing on the fringes of life...\\noffers a unique perspective. But there comes a time to see\\nwhat it looks like from the dance floor.\\n\\nThis haunting novel about the dilemma of passivity vs. passion marks the stunning debut of a provocative new voice<\\/span>\\n  <span id=\\\"freeText3852707301709044318\\\" style=\\\"display:none\\\">standing on the fringes of life...\\noffers a unique perspective. But there comes a time to see\\nwhat it looks like from the dance floor.\\n\\nThis haunting novel about the dilemma of passivity vs. passion marks the stunning debut of a provocative new voice in contemporary fiction: The Perks of Being A WALLFLOWER\\n\\nThis is the story of what it\\'s like to grow up in high school. More intimate than a diary, Charlie\\'s letters are singular and unique, hilarious and devastating. We may not know where he lives. We may not know to whom he is writing. All we know is the world he shares. Caught between trying to live his life and trying to run from it puts him on a strange course through uncharted territory. The world of first dates and mixed tapes, family dramas and new friends. The world of sex, drugs, and The Rocky Horror Picture Show, when all one requires is that the perfect song on that perfect drive to feel infinite.\\n\\nThrough Charlie, Stephen Chbosky has created a deeply affecting coming-of-age story, a powerful novel that will spirit you back to those wild and poignant roller coaster days known as growing up.\\n\\n(back cover)<\\/span>\\n  <a data-text-id=\\\"3852707301709044318\\\" href=\\\"#\\\" onclick=\\\"swapContent(\\$(this));; return false;\\\">...more<\\/a>\\n\\n    <\\/div>\\n\\n      <div class=\\'wtrButtonContainer wtrSignedOut\\' id=\\'4_book_22628\\'>\\n<div class=\\'wtrUp wtrLeft\\'>\\n<form action=\\\"/shelf/add_to_shelf\\\" accept-charset=\\\"UTF-8\\\" method=\\\"post\\\"><input name=\\\"utf8\\\" type=\\\"hidden\\\" value=\\\"&#x2713;\\\" /><input type=\\\"hidden\\\" name=\\\"authenticity_token\\\" value=\\\"WkR7Fz6S5BqnshR6qxxX4Ler6/HvLfzYjGOnzNedSKfH1/+OIKj91k9GWfXJTfrlcvmrmH227/ENIz61JkKOhw==\\\" />\\n<input type=\\\"hidden\\\" name=\\\"book_id\\\" id=\\\"book_id\\\" value=\\\"22628\\\" />\\n<input type=\\\"hidden\\\" name=\\\"name\\\" id=\\\"name\\\" value=\\\"to-read\\\" />\\n<input type=\\\"hidden\\\" name=\\\"unique_id\\\" id=\\\"unique_id\\\" value=\\\"4_book_22628\\\" />\\n<input type=\\\"hidden\\\" name=\\\"wtr_new\\\" id=\\\"wtr_new\\\" value=\\\"true\\\" />\\n<input type=\\\"hidden\\\" name=\\\"from_choice\\\" id=\\\"from_choice\\\" value=\\\"false\\\" />\\n<input type=\\\"hidden\\\" name=\\\"from_home_module\\\" id=\\\"from_home_module\\\" value=\\\"false\\\" />\\n<input type=\\\"hidden\\\" name=\\\"ref\\\" id=\\\"ref\\\" value=\\\"\\\" class=\\\"wtrLeftUpRef\\\" />\\n<input type=\\\"hidden\\\" name=\\\"existing_review\\\" id=\\\"existing_review\\\" value=\\\"false\\\" class=\\\"wtrExisting\\\" />\\n<input type=\\\"hidden\\\" name=\\\"page_url\\\" id=\\\"page_url\\\" value=\\\"/quotes\\\" />\\n<button class=\\'wtrToRead\\' type=\\'submit\\'>\\n<span class=\\'progressTrigger\\'>Want to Read<\\/span>\\n<span class=\\'progressIndicator\\'>saving…<\\/span>\\n<\\/button>\\n<\\/form>\\n\\n<\\/div>\\n\\n<div class=\\'wtrRight wtrUp\\'>\\n<form class=\\\"hiddenShelfForm\\\" action=\\\"/shelf/add_to_shelf\\\" accept-charset=\\\"UTF-8\\\" method=\\\"post\\\"><input name=\\\"utf8\\\" type=\\\"hidden\\\" value=\\\"&#x2713;\\\" /><input type=\\\"hidden\\\" name=\\\"authenticity_token\\\" value=\\\"IgcwHSGak/n+KLTdHUCgI6rkWxVNgDbq+GXSsaT/mWK/lLSEP6CKNRbc+VJ/EQ0mb7YbfN8bJcN5JUvIVSBfQg==\\\" />\\n<input type=\\\"hidden\\\" name=\\\"unique_id\\\" id=\\\"unique_id\\\" value=\\\"4_book_22628\\\" />\\n<input type=\\\"hidden\\\" name=\\\"book_id\\\" id=\\\"book_id\\\" value=\\\"22628\\\" />\\n<input type=\\\"hidden\\\" name=\\\"a\\\" id=\\\"a\\\" />\\n<input type=\\\"hidden\\\" name=\\\"name\\\" id=\\\"name\\\" />\\n<input type=\\\"hidden\\\" name=\\\"from_choice\\\" id=\\\"from_choice\\\" value=\\\"false\\\" />\\n<input type=\\\"hidden\\\" name=\\\"from_home_module\\\" id=\\\"from_home_module\\\" value=\\\"false\\\" />\\n<input type=\\\"hidden\\\" name=\\\"page_url\\\" id=\\\"page_url\\\" value=\\\"/quotes\\\" />\\n<\\/form>\\n\\n<button class=\\'wtrShelfButton\\'><\\/button>\\n<\\/div>\\n\\n<div class=\\'ratingStars wtrRating\\'>\\n<div class=\\'starsErrorTooltip hidden\\'>\\nError rating book. Refresh and try again.\\n<\\/div>\\n<div class=\\'myRating uitext greyText\\'>Rate this book<\\/div>\\n<div class=\\'clearRating uitext\\'>Clear rating<\\/div>\\n<div class=\\\"stars\\\" data-resource-id=\\\"22628\\\" data-user-id=\\\"0\\\" data-submit-url=\\\"/review/rate/22628?page_url=%2Fquotes&rate_books_page=false&stars_click=false&wtr_button_id=4_book_22628\\\" data-rating=\\\"0\\\"><a class=\\\"star off\\\" title=\\\"did not like it\\\" href=\\\"#\\\" ref=\\\"\\\">1 of 5 stars<\\/a><a class=\\\"star off\\\" title=\\\"it was ok\\\" href=\\\"#\\\" ref=\\\"\\\">2 of 5 stars<\\/a><a class=\\\"star off\\\" title=\\\"liked it\\\" href=\\\"#\\\" ref=\\\"\\\">3 of 5 stars<\\/a><a class=\\\"star off\\\" title=\\\"really liked it\\\" href=\\\"#\\\" ref=\\\"\\\">4 of 5 stars<\\/a><a class=\\\"star off\\\" title=\\\"it was amazing\\\" href=\\\"#\\\" ref=\\\"\\\">5 of 5 stars<\\/a><\\/div>\\n<\\/div>\\n\\n<\\/div>\\n\\n\\n\\n\\n\", { style: 'addbook', stem: 'leftMiddle', hook: { tip: 'leftMiddle', target: 'rightMiddle' }, offset: { x: 5, y: 0 }, hideOn: false, width: 400, hideAfter: 0.05, delay: 0.35 });\n",
            "      $('quote_book_link_22628').observe('prototip:shown', function() {\n",
            "        if (this.up('#box')) {\n",
            "          $$('div.prototip').each(function(i){i.setStyle({zIndex: $('box').getStyle('z-index')})});\n",
            "        } else {\n",
            "          $$('div.prototip').each(function(i){i.setStyle({zIndex: 6000})});\n",
            "        }\n",
            "      });\n",
            "\n",
            "      newTip['wrapper'].addClassName('prototipAllowOverflow');\n",
            "\n",
            "        $('quote_book_link_22628').observe('prototip:shown', function () {\n",
            "          $$('div.prototip').each(function (e) {\n",
            "            if ($('quote_book_link_22628').hasClassName('ignored')) {\n",
            "              e.setStyle({'display': 'none'});\n",
            "              return;\n",
            "            }\n",
            "            e.setStyle({'overflow': 'visible'});\n",
            "          });\n",
            "        });\n",
            "      $('quote_book_link_22628').observe('prototip:hidden', function () {\n",
            "        $$('span.elementTwo').each(function (e) {\n",
            "          if (e.getStyle('display') !== 'none') {\n",
            "            var lessLink = e.next();\n",
            "            swapContent(lessLink);\n",
            "          }\n",
            "        });\n",
            "      });\n",
            "\n",
            "//]]>\n",
            "\n",
            "\n",
            "\n",
            "      “Without music, life would be a mistake.”\n",
            "    ―\n",
            "  \n",
            "    Friedrich Nietzsche,\n",
            "  \n",
            "\n",
            "Twilight of the Idols\n",
            "\n",
            "\n",
            "//<![CDATA[\n",
            "      var newTip = new Tip($('quote_book_link_851994'), \"\\n\\n  <h2><a class=\\\"readable bookTitle\\\" href=\\\"https://www.goodreads.com/book/show/851994.Twilight_of_the_Idols?from_choice=false&amp;from_home_module=false\\\">Twilight of the Idols<\\/a><\\/h2>\\n\\n      <div>\\n        by <a class=\\\"authorName\\\" href=\\\"/author/show/1938.Friedrich_Nietzsche\\\">Friedrich Nietzsche<\\/a>\\n      <\\/div>\\n\\n          <div class=\\\"smallText uitext darkGreyText\\\">\\n            <span class=\\\"minirating\\\"><span class=\\\"stars staticStars notranslate\\\"><span size=\\\"12x12\\\" class=\\\"staticStar p10\\\"><\\/span><span size=\\\"12x12\\\" class=\\\"staticStar p10\\\"><\\/span><span size=\\\"12x12\\\" class=\\\"staticStar p10\\\"><\\/span><span size=\\\"12x12\\\" class=\\\"staticStar p6\\\"><\\/span><span size=\\\"12x12\\\" class=\\\"staticStar p0\\\"><\\/span><\\/span> 3.95 avg rating &mdash; 9,203 ratings<\\/span>            &mdash; published 1888\\n          <\\/div>\\n\\n    <div class=\\\"addBookTipDescription\\\">\\n      \\n<span id=\\\"freeTextContainer5045394431137911049\\\">Twilight of the Idols presents a vivid, compressed overview of many of Nietzsche’s mature ideas, including his attack on Plato’s Socrates and on the Platonic legacy in Western philosophy and culture. Polt provides a trustworthy rendering of Nietzsche<\\/span>\\n  <span id=\\\"freeText5045394431137911049\\\" style=\\\"display:none\\\">Twilight of the Idols presents a vivid, compressed overview of many of Nietzsche’s mature ideas, including his attack on Plato’s Socrates and on the Platonic legacy in Western philosophy and culture. Polt provides a trustworthy rendering of Nietzsche’s text in contemporary American English, complete with notes prepared by the translator and Tracy Strong. An authoritative Introduction by Strong makes this an outstanding edition.<\\/span>\\n  <a data-text-id=\\\"5045394431137911049\\\" href=\\\"#\\\" onclick=\\\"swapContent(\\$(this));; return false;\\\">...more<\\/a>\\n\\n    <\\/div>\\n\\n      <div class=\\'wtrButtonContainer wtrSignedOut\\' id=\\'5_book_851994\\'>\\n<div class=\\'wtrUp wtrLeft\\'>\\n<form action=\\\"/shelf/add_to_shelf\\\" accept-charset=\\\"UTF-8\\\" method=\\\"post\\\"><input name=\\\"utf8\\\" type=\\\"hidden\\\" value=\\\"&#x2713;\\\" /><input type=\\\"hidden\\\" name=\\\"authenticity_token\\\" value=\\\"6RjPK92s9ElIjIlOGPtoXOrL5lh560feGyEthOADe3x0i0uyw5bthaB4xMF6qsVZL5mmMetwVPeaYbT9Edy9XA==\\\" />\\n<input type=\\\"hidden\\\" name=\\\"book_id\\\" id=\\\"book_id\\\" value=\\\"851994\\\" />\\n<input type=\\\"hidden\\\" name=\\\"name\\\" id=\\\"name\\\" value=\\\"to-read\\\" />\\n<input type=\\\"hidden\\\" name=\\\"unique_id\\\" id=\\\"unique_id\\\" value=\\\"5_book_851994\\\" />\\n<input type=\\\"hidden\\\" name=\\\"wtr_new\\\" id=\\\"wtr_new\\\" value=\\\"true\\\" />\\n<input type=\\\"hidden\\\" name=\\\"from_choice\\\" id=\\\"from_choice\\\" value=\\\"false\\\" />\\n<input type=\\\"hidden\\\" name=\\\"from_home_module\\\" id=\\\"from_home_module\\\" value=\\\"false\\\" />\\n<input type=\\\"hidden\\\" name=\\\"ref\\\" id=\\\"ref\\\" value=\\\"\\\" class=\\\"wtrLeftUpRef\\\" />\\n<input type=\\\"hidden\\\" name=\\\"existing_review\\\" id=\\\"existing_review\\\" value=\\\"false\\\" class=\\\"wtrExisting\\\" />\\n<input type=\\\"hidden\\\" name=\\\"page_url\\\" id=\\\"page_url\\\" value=\\\"/quotes\\\" />\\n<button class=\\'wtrToRead\\' type=\\'submit\\'>\\n<span class=\\'progressTrigger\\'>Want to Read<\\/span>\\n<span class=\\'progressIndicator\\'>saving…<\\/span>\\n<\\/button>\\n<\\/form>\\n\\n<\\/div>\\n\\n<div class=\\'wtrRight wtrUp\\'>\\n<form class=\\\"hiddenShelfForm\\\" action=\\\"/shelf/add_to_shelf\\\" accept-charset=\\\"UTF-8\\\" method=\\\"post\\\"><input name=\\\"utf8\\\" type=\\\"hidden\\\" value=\\\"&#x2713;\\\" /><input type=\\\"hidden\\\" name=\\\"authenticity_token\\\" value=\\\"TJoq2tD37OrxdqRgNjmwen971AjWM5lw+7zjtn8EHVzRCa5Dzs31JhmC6e9UaB1/uimUYUSoill6/HrPjtvbfA==\\\" />\\n<input type=\\\"hidden\\\" name=\\\"unique_id\\\" id=\\\"unique_id\\\" value=\\\"5_book_851994\\\" />\\n<input type=\\\"hidden\\\" name=\\\"book_id\\\" id=\\\"book_id\\\" value=\\\"851994\\\" />\\n<input type=\\\"hidden\\\" name=\\\"a\\\" id=\\\"a\\\" />\\n<input type=\\\"hidden\\\" name=\\\"name\\\" id=\\\"name\\\" />\\n<input type=\\\"hidden\\\" name=\\\"from_choice\\\" id=\\\"from_choice\\\" value=\\\"false\\\" />\\n<input type=\\\"hidden\\\" name=\\\"from_home_module\\\" id=\\\"from_home_module\\\" value=\\\"false\\\" />\\n<input type=\\\"hidden\\\" name=\\\"page_url\\\" id=\\\"page_url\\\" value=\\\"/quotes\\\" />\\n<\\/form>\\n\\n<button class=\\'wtrShelfButton\\'><\\/button>\\n<\\/div>\\n\\n<div class=\\'ratingStars wtrRating\\'>\\n<div class=\\'starsErrorTooltip hidden\\'>\\nError rating book. Refresh and try again.\\n<\\/div>\\n<div class=\\'myRating uitext greyText\\'>Rate this book<\\/div>\\n<div class=\\'clearRating uitext\\'>Clear rating<\\/div>\\n<div class=\\\"stars\\\" data-resource-id=\\\"851994\\\" data-user-id=\\\"0\\\" data-submit-url=\\\"/review/rate/851994?page_url=%2Fquotes&rate_books_page=false&stars_click=false&wtr_button_id=5_book_851994\\\" data-rating=\\\"0\\\"><a class=\\\"star off\\\" title=\\\"did not like it\\\" href=\\\"#\\\" ref=\\\"\\\">1 of 5 stars<\\/a><a class=\\\"star off\\\" title=\\\"it was ok\\\" href=\\\"#\\\" ref=\\\"\\\">2 of 5 stars<\\/a><a class=\\\"star off\\\" title=\\\"liked it\\\" href=\\\"#\\\" ref=\\\"\\\">3 of 5 stars<\\/a><a class=\\\"star off\\\" title=\\\"really liked it\\\" href=\\\"#\\\" ref=\\\"\\\">4 of 5 stars<\\/a><a class=\\\"star off\\\" title=\\\"it was amazing\\\" href=\\\"#\\\" ref=\\\"\\\">5 of 5 stars<\\/a><\\/div>\\n<\\/div>\\n\\n<\\/div>\\n\\n\\n\\n\\n\", { style: 'addbook', stem: 'leftMiddle', hook: { tip: 'leftMiddle', target: 'rightMiddle' }, offset: { x: 5, y: 0 }, hideOn: false, width: 400, hideAfter: 0.05, delay: 0.35 });\n",
            "      $('quote_book_link_851994').observe('prototip:shown', function() {\n",
            "        if (this.up('#box')) {\n",
            "          $$('div.prototip').each(function(i){i.setStyle({zIndex: $('box').getStyle('z-index')})});\n",
            "        } else {\n",
            "          $$('div.prototip').each(function(i){i.setStyle({zIndex: 6000})});\n",
            "        }\n",
            "      });\n",
            "\n",
            "      newTip['wrapper'].addClassName('prototipAllowOverflow');\n",
            "\n",
            "        $('quote_book_link_851994').observe('prototip:shown', function () {\n",
            "          $$('div.prototip').each(function (e) {\n",
            "            if ($('quote_book_link_851994').hasClassName('ignored')) {\n",
            "              e.setStyle({'display': 'none'});\n",
            "              return;\n",
            "            }\n",
            "            e.setStyle({'overflow': 'visible'});\n",
            "          });\n",
            "        });\n",
            "      $('quote_book_link_851994').observe('prototip:hidden', function () {\n",
            "        $$('span.elementTwo').each(function (e) {\n",
            "          if (e.getStyle('display') !== 'none') {\n",
            "            var lessLink = e.next();\n",
            "            swapContent(lessLink);\n",
            "          }\n",
            "        });\n",
            "      });\n",
            "\n",
            "//]]>\n",
            "\n",
            "\n",
            "\n",
            "      “I am so clever that sometimes I don't understand a single word of what I am saying.”\n",
            "    ―\n",
            "  \n",
            "    Oscar Wilde,\n",
            "  \n",
            "\n",
            "The Happy Prince and Other Stories\n",
            "\n",
            "\n",
            "//<![CDATA[\n",
            "      var newTip = new Tip($('quote_book_link_6315424'), \"\\n\\n  <h2><a class=\\\"readable bookTitle\\\" href=\\\"https://www.goodreads.com/book/show/6315424-the-happy-prince-and-other-stories?from_choice=false&amp;from_home_module=false\\\">The Happy Prince and Other Stories<\\/a><\\/h2>\\n\\n      <div>\\n        by <a class=\\\"authorName\\\" href=\\\"/author/show/3565.Oscar_Wilde\\\">Oscar Wilde<\\/a>\\n      <\\/div>\\n\\n          <div class=\\\"smallText uitext darkGreyText\\\">\\n            <span class=\\\"minirating\\\"><span class=\\\"stars staticStars notranslate\\\"><span size=\\\"12x12\\\" class=\\\"staticStar p10\\\"><\\/span><span size=\\\"12x12\\\" class=\\\"staticStar p10\\\"><\\/span><span size=\\\"12x12\\\" class=\\\"staticStar p10\\\"><\\/span><span size=\\\"12x12\\\" class=\\\"staticStar p10\\\"><\\/span><span size=\\\"12x12\\\" class=\\\"staticStar p3\\\"><\\/span><\\/span> 4.12 avg rating &mdash; 17,577 ratings<\\/span>            &mdash; published 1888\\n          <\\/div>\\n\\n    <div class=\\\"addBookTipDescription\\\">\\n      \\n<span id=\\\"freeTextContainer8573317460235276732\\\">A haunting, magical fairy-tale collection, in which Oscar Wilde beautifully evokes (among others) The Happy Prince who was not so happy after all, The Selfish Giant who learned to love little children and The Star Child who did not love his parents a<\\/span>\\n  <span id=\\\"freeText8573317460235276732\\\" style=\\\"display:none\\\">A haunting, magical fairy-tale collection, in which Oscar Wilde beautifully evokes (among others) The Happy Prince who was not so happy after all, The Selfish Giant who learned to love little children and The Star Child who did not love his parents as much as he should. Each of the stories shines with poetry and magic and will be enjoyed by children of every age. A perfect collection for children young and old, introduced by Markus Zusak, bestselling author of The Book Thief.<\\/span>\\n  <a data-text-id=\\\"8573317460235276732\\\" href=\\\"#\\\" onclick=\\\"swapContent(\\$(this));; return false;\\\">...more<\\/a>\\n\\n    <\\/div>\\n\\n      <div class=\\'wtrButtonContainer wtrSignedOut\\' id=\\'6_book_6315424\\'>\\n<div class=\\'wtrUp wtrLeft\\'>\\n<form action=\\\"/shelf/add_to_shelf\\\" accept-charset=\\\"UTF-8\\\" method=\\\"post\\\"><input name=\\\"utf8\\\" type=\\\"hidden\\\" value=\\\"&#x2713;\\\" /><input type=\\\"hidden\\\" name=\\\"authenticity_token\\\" value=\\\"2ZpdskfJXvqx1fRstEYkUUPJtK/PmSg+eFxVzE3dAoBECdkrWfNHNlkhuePWF4lUhpv0xl0COxf5HMy1vALEoA==\\\" />\\n<input type=\\\"hidden\\\" name=\\\"book_id\\\" id=\\\"book_id\\\" value=\\\"6315424\\\" />\\n<input type=\\\"hidden\\\" name=\\\"name\\\" id=\\\"name\\\" value=\\\"to-read\\\" />\\n<input type=\\\"hidden\\\" name=\\\"unique_id\\\" id=\\\"unique_id\\\" value=\\\"6_book_6315424\\\" />\\n<input type=\\\"hidden\\\" name=\\\"wtr_new\\\" id=\\\"wtr_new\\\" value=\\\"true\\\" />\\n<input type=\\\"hidden\\\" name=\\\"from_choice\\\" id=\\\"from_choice\\\" value=\\\"false\\\" />\\n<input type=\\\"hidden\\\" name=\\\"from_home_module\\\" id=\\\"from_home_module\\\" value=\\\"false\\\" />\\n<input type=\\\"hidden\\\" name=\\\"ref\\\" id=\\\"ref\\\" value=\\\"\\\" class=\\\"wtrLeftUpRef\\\" />\\n<input type=\\\"hidden\\\" name=\\\"existing_review\\\" id=\\\"existing_review\\\" value=\\\"false\\\" class=\\\"wtrExisting\\\" />\\n<input type=\\\"hidden\\\" name=\\\"page_url\\\" id=\\\"page_url\\\" value=\\\"/quotes\\\" />\\n<button class=\\'wtrToRead\\' type=\\'submit\\'>\\n<span class=\\'progressTrigger\\'>Want to Read<\\/span>\\n<span class=\\'progressIndicator\\'>saving…<\\/span>\\n<\\/button>\\n<\\/form>\\n\\n<\\/div>\\n\\n<div class=\\'wtrRight wtrUp\\'>\\n<form class=\\\"hiddenShelfForm\\\" action=\\\"/shelf/add_to_shelf\\\" accept-charset=\\\"UTF-8\\\" method=\\\"post\\\"><input name=\\\"utf8\\\" type=\\\"hidden\\\" value=\\\"&#x2713;\\\" /><input type=\\\"hidden\\\" name=\\\"authenticity_token\\\" value=\\\"Dvb3jq6MgmFnEwJQ/niz11m+7j0zuNCOPROEz0Z2KviTZXMXsLabrY/nT9+cKR7SnOyuVKEjw6e8Ux22t6ns2A==\\\" />\\n<input type=\\\"hidden\\\" name=\\\"unique_id\\\" id=\\\"unique_id\\\" value=\\\"6_book_6315424\\\" />\\n<input type=\\\"hidden\\\" name=\\\"book_id\\\" id=\\\"book_id\\\" value=\\\"6315424\\\" />\\n<input type=\\\"hidden\\\" name=\\\"a\\\" id=\\\"a\\\" />\\n<input type=\\\"hidden\\\" name=\\\"name\\\" id=\\\"name\\\" />\\n<input type=\\\"hidden\\\" name=\\\"from_choice\\\" id=\\\"from_choice\\\" value=\\\"false\\\" />\\n<input type=\\\"hidden\\\" name=\\\"from_home_module\\\" id=\\\"from_home_module\\\" value=\\\"false\\\" />\\n<input type=\\\"hidden\\\" name=\\\"page_url\\\" id=\\\"page_url\\\" value=\\\"/quotes\\\" />\\n<\\/form>\\n\\n<button class=\\'wtrShelfButton\\'><\\/button>\\n<\\/div>\\n\\n<div class=\\'ratingStars wtrRating\\'>\\n<div class=\\'starsErrorTooltip hidden\\'>\\nError rating book. Refresh and try again.\\n<\\/div>\\n<div class=\\'myRating uitext greyText\\'>Rate this book<\\/div>\\n<div class=\\'clearRating uitext\\'>Clear rating<\\/div>\\n<div class=\\\"stars\\\" data-resource-id=\\\"6315424\\\" data-user-id=\\\"0\\\" data-submit-url=\\\"/review/rate/6315424?page_url=%2Fquotes&rate_books_page=false&stars_click=false&wtr_button_id=6_book_6315424\\\" data-rating=\\\"0\\\"><a class=\\\"star off\\\" title=\\\"did not like it\\\" href=\\\"#\\\" ref=\\\"\\\">1 of 5 stars<\\/a><a class=\\\"star off\\\" title=\\\"it was ok\\\" href=\\\"#\\\" ref=\\\"\\\">2 of 5 stars<\\/a><a class=\\\"star off\\\" title=\\\"liked it\\\" href=\\\"#\\\" ref=\\\"\\\">3 of 5 stars<\\/a><a class=\\\"star off\\\" title=\\\"really liked it\\\" href=\\\"#\\\" ref=\\\"\\\">4 of 5 stars<\\/a><a class=\\\"star off\\\" title=\\\"it was amazing\\\" href=\\\"#\\\" ref=\\\"\\\">5 of 5 stars<\\/a><\\/div>\\n<\\/div>\\n\\n<\\/div>\\n\\n\\n\\n\\n\", { style: 'addbook', stem: 'leftMiddle', hook: { tip: 'leftMiddle', target: 'rightMiddle' }, offset: { x: 5, y: 0 }, hideOn: false, width: 400, hideAfter: 0.05, delay: 0.35 });\n",
            "      $('quote_book_link_6315424').observe('prototip:shown', function() {\n",
            "        if (this.up('#box')) {\n",
            "          $$('div.prototip').each(function(i){i.setStyle({zIndex: $('box').getStyle('z-index')})});\n",
            "        } else {\n",
            "          $$('div.prototip').each(function(i){i.setStyle({zIndex: 6000})});\n",
            "        }\n",
            "      });\n",
            "\n",
            "      newTip['wrapper'].addClassName('prototipAllowOverflow');\n",
            "\n",
            "        $('quote_book_link_6315424').observe('prototip:shown', function () {\n",
            "          $$('div.prototip').each(function (e) {\n",
            "            if ($('quote_book_link_6315424').hasClassName('ignored')) {\n",
            "              e.setStyle({'display': 'none'});\n",
            "              return;\n",
            "            }\n",
            "            e.setStyle({'overflow': 'visible'});\n",
            "          });\n",
            "        });\n",
            "      $('quote_book_link_6315424').observe('prototip:hidden', function () {\n",
            "        $$('span.elementTwo').each(function (e) {\n",
            "          if (e.getStyle('display') !== 'none') {\n",
            "            var lessLink = e.next();\n",
            "            swapContent(lessLink);\n",
            "          }\n",
            "        });\n",
            "      });\n",
            "\n",
            "//]]>\n",
            "\n",
            "\n",
            "\n",
            "      “To be yourself in a world that is constantly trying to make you something else is the greatest accomplishment.”\n",
            "    ―\n",
            "  \n",
            "    Ralph Waldo Emerson\n",
            "  \n",
            "\n",
            "\n",
            "      “Here's to the crazy ones. The misfits. The rebels. The troublemakers. The round pegs in the square holes. The ones who see things differently. They're not fond of rules. And they have no respect for the status quo. You can quote them, disagree with them, glorify or vilify them. About the only thing you can't do is ignore them. Because they change things. They push the human race forward. And while some may see them as the crazy ones, we see genius. Because the people who are crazy enough to think they can change the world, are the ones who do.”\n",
            "    ―\n",
            "  \n",
            "    Rob Siltanen\n",
            "  \n",
            "\n",
            "\n",
            "      “Insanity is doing the same thing, over and over again, but expecting different results.”\n",
            "    ―\n",
            "  \n",
            "    Narcotics Anonymous\n",
            "  \n",
            "\n",
            "\n",
            "      “I believe that everything happens for a reason. People change so that you can learn to let go, things go wrong so that you appreciate them when they're right, you believe lies so you eventually learn to trust no one but yourself, and sometimes good things fall apart so better things can fall together.”\n",
            "    ―\n",
            "  \n",
            "    Marilyn Monroe\n",
            "  \n",
            "\n",
            "\n",
            "      “Twenty years from now you will be more disappointed by the things that you didn't do than by the ones you did do. So throw off the bowlines. Sail away from the safe harbor. Catch the trade winds in your sails. Explore. Dream. Discover.”\n",
            "    ―\n",
            "  \n",
            "    H. Jackson Brown Jr.,\n",
            "  \n",
            "\n",
            "P.S. I Love You\n",
            "\n",
            "\n",
            "//<![CDATA[\n",
            "      var newTip = new Tip($('quote_book_link_42165'), \"\\n\\n  <h2><a class=\\\"readable bookTitle\\\" href=\\\"https://www.goodreads.com/book/show/42165.P_S_I_Love_You?from_choice=false&amp;from_home_module=false\\\">P.S. I Love You<\\/a><\\/h2>\\n\\n      <div>\\n        by <a class=\\\"authorName\\\" href=\\\"/author/show/33394.H_Jackson_Brown_Jr_\\\">H. Jackson Brown Jr.<\\/a>\\n      <\\/div>\\n\\n          <div class=\\\"smallText uitext darkGreyText\\\">\\n            <span class=\\\"minirating\\\"><span class=\\\"stars staticStars notranslate\\\"><span size=\\\"12x12\\\" class=\\\"staticStar p10\\\"><\\/span><span size=\\\"12x12\\\" class=\\\"staticStar p10\\\"><\\/span><span size=\\\"12x12\\\" class=\\\"staticStar p10\\\"><\\/span><span size=\\\"12x12\\\" class=\\\"staticStar p6\\\"><\\/span><span size=\\\"12x12\\\" class=\\\"staticStar p0\\\"><\\/span><\\/span> 3.94 avg rating &mdash; 336 ratings<\\/span>            &mdash; published 1990\\n          <\\/div>\\n\\n    <div class=\\\"addBookTipDescription\\\">\\n      \\n<span id=\\\"freeTextContainer17650779040832692453\\\">&quot;Mom loved to write to my sister and me,&quot; H. Jackson Brown writes. &quot;They began when I was an eight-year old camper away from home for the first time. When I opened Mom&apos;s letter, I would always read the P.S. first. I just couldn&apos;t wait to discover wha<\\/span>\\n  <span id=\\\"freeText17650779040832692453\\\" style=\\\"display:none\\\">&quot;Mom loved to write to my sister and me,&quot; H. Jackson Brown writes. &quot;They began when I was an eight-year old camper away from home for the first time. When I opened Mom\\'s letter, I would always read the P.S. first. I just couldn\\'t wait to discover what revelations, humor, observations, admonitions, and encouragement she wanted to share with me.&quot;\\n\\n&quot;No matter how hard you hug your money, it never hugs you back,&quot; says one P.S. &quot;Middle age is when you have two choices and you choose the one that gets you home earlier, &quot; says another.\\n\\nJack Brown\\'s mother shared valuable advice with him about the issues of wisdom, hope, humor, and faith. &quot;Although some were written more than thirty years ago,&quot; Brown says, &quot;they still run with truth and insight.&quot;<\\/span>\\n  <a data-text-id=\\\"17650779040832692453\\\" href=\\\"#\\\" onclick=\\\"swapContent(\\$(this));; return false;\\\">...more<\\/a>\\n\\n    <\\/div>\\n\\n      <div class=\\'wtrButtonContainer wtrSignedOut\\' id=\\'7_book_42165\\'>\\n<div class=\\'wtrUp wtrLeft\\'>\\n<form action=\\\"/shelf/add_to_shelf\\\" accept-charset=\\\"UTF-8\\\" method=\\\"post\\\"><input name=\\\"utf8\\\" type=\\\"hidden\\\" value=\\\"&#x2713;\\\" /><input type=\\\"hidden\\\" name=\\\"authenticity_token\\\" value=\\\"Rwa2Jc2CAJbEJSb3JoNTSdACvXZHc/gmMLBFY3KEtyralTK807gZWizRa3hE0v5MFVD9H9Xo6w+x8Nwag1txCg==\\\" />\\n<input type=\\\"hidden\\\" name=\\\"book_id\\\" id=\\\"book_id\\\" value=\\\"42165\\\" />\\n<input type=\\\"hidden\\\" name=\\\"name\\\" id=\\\"name\\\" value=\\\"to-read\\\" />\\n<input type=\\\"hidden\\\" name=\\\"unique_id\\\" id=\\\"unique_id\\\" value=\\\"7_book_42165\\\" />\\n<input type=\\\"hidden\\\" name=\\\"wtr_new\\\" id=\\\"wtr_new\\\" value=\\\"true\\\" />\\n<input type=\\\"hidden\\\" name=\\\"from_choice\\\" id=\\\"from_choice\\\" value=\\\"false\\\" />\\n<input type=\\\"hidden\\\" name=\\\"from_home_module\\\" id=\\\"from_home_module\\\" value=\\\"false\\\" />\\n<input type=\\\"hidden\\\" name=\\\"ref\\\" id=\\\"ref\\\" value=\\\"\\\" class=\\\"wtrLeftUpRef\\\" />\\n<input type=\\\"hidden\\\" name=\\\"existing_review\\\" id=\\\"existing_review\\\" value=\\\"false\\\" class=\\\"wtrExisting\\\" />\\n<input type=\\\"hidden\\\" name=\\\"page_url\\\" id=\\\"page_url\\\" value=\\\"/quotes\\\" />\\n<button class=\\'wtrToRead\\' type=\\'submit\\'>\\n<span class=\\'progressTrigger\\'>Want to Read<\\/span>\\n<span class=\\'progressIndicator\\'>saving…<\\/span>\\n<\\/button>\\n<\\/form>\\n\\n<\\/div>\\n\\n<div class=\\'wtrRight wtrUp\\'>\\n<form class=\\\"hiddenShelfForm\\\" action=\\\"/shelf/add_to_shelf\\\" accept-charset=\\\"UTF-8\\\" method=\\\"post\\\"><input name=\\\"utf8\\\" type=\\\"hidden\\\" value=\\\"&#x2713;\\\" /><input type=\\\"hidden\\\" name=\\\"authenticity_token\\\" value=\\\"p0zGX96rjLKHBvOS//B4E+EDh4dw0+Tzw/NCFzHP6yw630LGwJGVfm/yvh2dodUWJFHH7uJI99pCs9tuwBAtDA==\\\" />\\n<input type=\\\"hidden\\\" name=\\\"unique_id\\\" id=\\\"unique_id\\\" value=\\\"7_book_42165\\\" />\\n<input type=\\\"hidden\\\" name=\\\"book_id\\\" id=\\\"book_id\\\" value=\\\"42165\\\" />\\n<input type=\\\"hidden\\\" name=\\\"a\\\" id=\\\"a\\\" />\\n<input type=\\\"hidden\\\" name=\\\"name\\\" id=\\\"name\\\" />\\n<input type=\\\"hidden\\\" name=\\\"from_choice\\\" id=\\\"from_choice\\\" value=\\\"false\\\" />\\n<input type=\\\"hidden\\\" name=\\\"from_home_module\\\" id=\\\"from_home_module\\\" value=\\\"false\\\" />\\n<input type=\\\"hidden\\\" name=\\\"page_url\\\" id=\\\"page_url\\\" value=\\\"/quotes\\\" />\\n<\\/form>\\n\\n<button class=\\'wtrShelfButton\\'><\\/button>\\n<\\/div>\\n\\n<div class=\\'ratingStars wtrRating\\'>\\n<div class=\\'starsErrorTooltip hidden\\'>\\nError rating book. Refresh and try again.\\n<\\/div>\\n<div class=\\'myRating uitext greyText\\'>Rate this book<\\/div>\\n<div class=\\'clearRating uitext\\'>Clear rating<\\/div>\\n<div class=\\\"stars\\\" data-resource-id=\\\"42165\\\" data-user-id=\\\"0\\\" data-submit-url=\\\"/review/rate/42165?page_url=%2Fquotes&rate_books_page=false&stars_click=false&wtr_button_id=7_book_42165\\\" data-rating=\\\"0\\\"><a class=\\\"star off\\\" title=\\\"did not like it\\\" href=\\\"#\\\" ref=\\\"\\\">1 of 5 stars<\\/a><a class=\\\"star off\\\" title=\\\"it was ok\\\" href=\\\"#\\\" ref=\\\"\\\">2 of 5 stars<\\/a><a class=\\\"star off\\\" title=\\\"liked it\\\" href=\\\"#\\\" ref=\\\"\\\">3 of 5 stars<\\/a><a class=\\\"star off\\\" title=\\\"really liked it\\\" href=\\\"#\\\" ref=\\\"\\\">4 of 5 stars<\\/a><a class=\\\"star off\\\" title=\\\"it was amazing\\\" href=\\\"#\\\" ref=\\\"\\\">5 of 5 stars<\\/a><\\/div>\\n<\\/div>\\n\\n<\\/div>\\n\\n\\n\\n\\n\", { style: 'addbook', stem: 'leftMiddle', hook: { tip: 'leftMiddle', target: 'rightMiddle' }, offset: { x: 5, y: 0 }, hideOn: false, width: 400, hideAfter: 0.05, delay: 0.35 });\n",
            "      $('quote_book_link_42165').observe('prototip:shown', function() {\n",
            "        if (this.up('#box')) {\n",
            "          $$('div.prototip').each(function(i){i.setStyle({zIndex: $('box').getStyle('z-index')})});\n",
            "        } else {\n",
            "          $$('div.prototip').each(function(i){i.setStyle({zIndex: 6000})});\n",
            "        }\n",
            "      });\n",
            "\n",
            "      newTip['wrapper'].addClassName('prototipAllowOverflow');\n",
            "\n",
            "        $('quote_book_link_42165').observe('prototip:shown', function () {\n",
            "          $$('div.prototip').each(function (e) {\n",
            "            if ($('quote_book_link_42165').hasClassName('ignored')) {\n",
            "              e.setStyle({'display': 'none'});\n",
            "              return;\n",
            "            }\n",
            "            e.setStyle({'overflow': 'visible'});\n",
            "          });\n",
            "        });\n",
            "      $('quote_book_link_42165').observe('prototip:hidden', function () {\n",
            "        $$('span.elementTwo').each(function (e) {\n",
            "          if (e.getStyle('display') !== 'none') {\n",
            "            var lessLink = e.next();\n",
            "            swapContent(lessLink);\n",
            "          }\n",
            "        });\n",
            "      });\n",
            "\n",
            "//]]>\n",
            "\n",
            "\n",
            "\n",
            "      “It is better to be hated for what you are than to be loved for what you are not.”\n",
            "    ―\n",
            "  \n",
            "    Andre Gide,\n",
            "  \n",
            "\n",
            "Autumn Leaves\n",
            "\n",
            "\n",
            "//<![CDATA[\n",
            "      var newTip = new Tip($('quote_book_link_6616590'), \"\\n\\n  <h2><a class=\\\"readable bookTitle\\\" href=\\\"https://www.goodreads.com/book/show/6616590-autumn-leaves?from_choice=false&amp;from_home_module=false\\\">Autumn Leaves<\\/a><\\/h2>\\n\\n      <div>\\n        by <a class=\\\"authorName\\\" href=\\\"/author/show/7617.Andr_Gide\\\">André Gide<\\/a>\\n      <\\/div>\\n\\n          <div class=\\\"smallText uitext darkGreyText\\\">\\n            <span class=\\\"minirating\\\"><span class=\\\"stars staticStars notranslate\\\"><span size=\\\"12x12\\\" class=\\\"staticStar p10\\\"><\\/span><span size=\\\"12x12\\\" class=\\\"staticStar p10\\\"><\\/span><span size=\\\"12x12\\\" class=\\\"staticStar p10\\\"><\\/span><span size=\\\"12x12\\\" class=\\\"staticStar p6\\\"><\\/span><span size=\\\"12x12\\\" class=\\\"staticStar p0\\\"><\\/span><\\/span> 3.97 avg rating &mdash; 78 ratings<\\/span>            &mdash; published 1950\\n          <\\/div>\\n\\n    <div class=\\\"addBookTipDescription\\\">\\n      \\n<span id=\\\"freeTextContainer6160732410648079506\\\">This collection of reflective essays forms a &quot;spiritual autobiography&quot; of Andr� Gide, a key figure of French letters Andr� Gide, a literary and intellectual giant of twentieth-century France, mines his memories and personal observations in this colle<\\/span>\\n  <span id=\\\"freeText6160732410648079506\\\" style=\\\"display:none\\\">This collection of reflective essays forms a &quot;spiritual autobiography&quot; of Andr� Gide, a key figure of French letters Andr� Gide, a literary and intellectual giant of twentieth-century France, mines his memories and personal observations in this collection of essays. Gide\\'s reflections and commentary masterfully showcase his delicate writing style and evocative sensibility, yielding new insights on writers such as Goethe and contemporaries Joseph Conrad, Nicolas Poussin, Arthur Rimbaud, and Paul-Marie Verlaine. Through it all, Gide skillfully investigates humanity\\'s contradictory nature and struggles to resolve the moral, political, and religious conflicts inherent in daily life.<\\/span>\\n  <a data-text-id=\\\"6160732410648079506\\\" href=\\\"#\\\" onclick=\\\"swapContent(\\$(this));; return false;\\\">...more<\\/a>\\n\\n    <\\/div>\\n\\n      <div class=\\'wtrButtonContainer wtrSignedOut\\' id=\\'8_book_6616590\\'>\\n<div class=\\'wtrUp wtrLeft\\'>\\n<form action=\\\"/shelf/add_to_shelf\\\" accept-charset=\\\"UTF-8\\\" method=\\\"post\\\"><input name=\\\"utf8\\\" type=\\\"hidden\\\" value=\\\"&#x2713;\\\" /><input type=\\\"hidden\\\" name=\\\"authenticity_token\\\" value=\\\"3UzPzi9Si6WrmvTxU1d4KpopCQh8trV+NUmMY6K/Iw9A30tXMWiSaUNuuX4xBtUvX3tJYe4tple0CRUaU2DlLw==\\\" />\\n<input type=\\\"hidden\\\" name=\\\"book_id\\\" id=\\\"book_id\\\" value=\\\"6616590\\\" />\\n<input type=\\\"hidden\\\" name=\\\"name\\\" id=\\\"name\\\" value=\\\"to-read\\\" />\\n<input type=\\\"hidden\\\" name=\\\"unique_id\\\" id=\\\"unique_id\\\" value=\\\"8_book_6616590\\\" />\\n<input type=\\\"hidden\\\" name=\\\"wtr_new\\\" id=\\\"wtr_new\\\" value=\\\"true\\\" />\\n<input type=\\\"hidden\\\" name=\\\"from_choice\\\" id=\\\"from_choice\\\" value=\\\"false\\\" />\\n<input type=\\\"hidden\\\" name=\\\"from_home_module\\\" id=\\\"from_home_module\\\" value=\\\"false\\\" />\\n<input type=\\\"hidden\\\" name=\\\"ref\\\" id=\\\"ref\\\" value=\\\"\\\" class=\\\"wtrLeftUpRef\\\" />\\n<input type=\\\"hidden\\\" name=\\\"existing_review\\\" id=\\\"existing_review\\\" value=\\\"false\\\" class=\\\"wtrExisting\\\" />\\n<input type=\\\"hidden\\\" name=\\\"page_url\\\" id=\\\"page_url\\\" value=\\\"/quotes\\\" />\\n<button class=\\'wtrToRead\\' type=\\'submit\\'>\\n<span class=\\'progressTrigger\\'>Want to Read<\\/span>\\n<span class=\\'progressIndicator\\'>saving…<\\/span>\\n<\\/button>\\n<\\/form>\\n\\n<\\/div>\\n\\n<div class=\\'wtrRight wtrUp\\'>\\n<form class=\\\"hiddenShelfForm\\\" action=\\\"/shelf/add_to_shelf\\\" accept-charset=\\\"UTF-8\\\" method=\\\"post\\\"><input name=\\\"utf8\\\" type=\\\"hidden\\\" value=\\\"&#x2713;\\\" /><input type=\\\"hidden\\\" name=\\\"authenticity_token\\\" value=\\\"9PYXfEoQqP2BQ9CSYsnnqZ6F4f1M/r3EiZ6hTRck5UppZZPlVCqxMWm3nR0AmEqsW9ehlN5lru0I3jg05vsjag==\\\" />\\n<input type=\\\"hidden\\\" name=\\\"unique_id\\\" id=\\\"unique_id\\\" value=\\\"8_book_6616590\\\" />\\n<input type=\\\"hidden\\\" name=\\\"book_id\\\" id=\\\"book_id\\\" value=\\\"6616590\\\" />\\n<input type=\\\"hidden\\\" name=\\\"a\\\" id=\\\"a\\\" />\\n<input type=\\\"hidden\\\" name=\\\"name\\\" id=\\\"name\\\" />\\n<input type=\\\"hidden\\\" name=\\\"from_choice\\\" id=\\\"from_choice\\\" value=\\\"false\\\" />\\n<input type=\\\"hidden\\\" name=\\\"from_home_module\\\" id=\\\"from_home_module\\\" value=\\\"false\\\" />\\n<input type=\\\"hidden\\\" name=\\\"page_url\\\" id=\\\"page_url\\\" value=\\\"/quotes\\\" />\\n<\\/form>\\n\\n<button class=\\'wtrShelfButton\\'><\\/button>\\n<\\/div>\\n\\n<div class=\\'ratingStars wtrRating\\'>\\n<div class=\\'starsErrorTooltip hidden\\'>\\nError rating book. Refresh and try again.\\n<\\/div>\\n<div class=\\'myRating uitext greyText\\'>Rate this book<\\/div>\\n<div class=\\'clearRating uitext\\'>Clear rating<\\/div>\\n<div class=\\\"stars\\\" data-resource-id=\\\"6616590\\\" data-user-id=\\\"0\\\" data-submit-url=\\\"/review/rate/6616590?page_url=%2Fquotes&rate_books_page=false&stars_click=false&wtr_button_id=8_book_6616590\\\" data-rating=\\\"0\\\"><a class=\\\"star off\\\" title=\\\"did not like it\\\" href=\\\"#\\\" ref=\\\"\\\">1 of 5 stars<\\/a><a class=\\\"star off\\\" title=\\\"it was ok\\\" href=\\\"#\\\" ref=\\\"\\\">2 of 5 stars<\\/a><a class=\\\"star off\\\" title=\\\"liked it\\\" href=\\\"#\\\" ref=\\\"\\\">3 of 5 stars<\\/a><a class=\\\"star off\\\" title=\\\"really liked it\\\" href=\\\"#\\\" ref=\\\"\\\">4 of 5 stars<\\/a><a class=\\\"star off\\\" title=\\\"it was amazing\\\" href=\\\"#\\\" ref=\\\"\\\">5 of 5 stars<\\/a><\\/div>\\n<\\/div>\\n\\n<\\/div>\\n\\n\\n\\n\\n\", { style: 'addbook', stem: 'leftMiddle', hook: { tip: 'leftMiddle', target: 'rightMiddle' }, offset: { x: 5, y: 0 }, hideOn: false, width: 400, hideAfter: 0.05, delay: 0.35 });\n",
            "      $('quote_book_link_6616590').observe('prototip:shown', function() {\n",
            "        if (this.up('#box')) {\n",
            "          $$('div.prototip').each(function(i){i.setStyle({zIndex: $('box').getStyle('z-index')})});\n",
            "        } else {\n",
            "          $$('div.prototip').each(function(i){i.setStyle({zIndex: 6000})});\n",
            "        }\n",
            "      });\n",
            "\n",
            "      newTip['wrapper'].addClassName('prototipAllowOverflow');\n",
            "\n",
            "        $('quote_book_link_6616590').observe('prototip:shown', function () {\n",
            "          $$('div.prototip').each(function (e) {\n",
            "            if ($('quote_book_link_6616590').hasClassName('ignored')) {\n",
            "              e.setStyle({'display': 'none'});\n",
            "              return;\n",
            "            }\n",
            "            e.setStyle({'overflow': 'visible'});\n",
            "          });\n",
            "        });\n",
            "      $('quote_book_link_6616590').observe('prototip:hidden', function () {\n",
            "        $$('span.elementTwo').each(function (e) {\n",
            "          if (e.getStyle('display') !== 'none') {\n",
            "            var lessLink = e.next();\n",
            "            swapContent(lessLink);\n",
            "          }\n",
            "        });\n",
            "      });\n",
            "\n",
            "//]]>\n",
            "\n",
            "\n"
          ]
        }
      ]
    },
    {
      "cell_type": "code",
      "source": [
        "quotes = []\n",
        "authors = []\n",
        "for i in quotetext:\n",
        "    quote = i.text.strip().split('\\n')[0]\n",
        "    quotes.append(quote)\n",
        "    author = i.find('span', class_ ='authorOrTitle').text.strip()\n",
        "    authors.append(re.sub(',', '', author))\n",
        "#print(quotes)\n",
        "\n",
        "quotesDF = pandas.DataFrame({'Quote' : quotes, 'Author' : authors})\n",
        "print(quotesDF)"
      ],
      "metadata": {
        "colab": {
          "base_uri": "https://localhost:8080/"
        },
        "id": "99VQGM2C2TV3",
        "outputId": "a9695bfc-dfb3-4a92-b496-e7d832cf0dd8"
      },
      "execution_count": 75,
      "outputs": [
        {
          "output_type": "stream",
          "name": "stdout",
          "text": [
            "                                                Quote                  Author\n",
            "0      “Be yourself; everyone else is already taken.”             Oscar Wilde\n",
            "1   “I'm selfish, impatient and a little insecure....          Marilyn Monroe\n",
            "2   “Two things are infinite: the universe and hum...         Albert Einstein\n",
            "3                    “So many books, so little time.”             Frank Zappa\n",
            "4   “A room without books is like a body without a...   Marcus Tullius Cicero\n",
            "5   “Be who you are and say what you feel, because...       Bernard M. Baruch\n",
            "6   “You've gotta dance like there's nobody watchi...       William W. Purkey\n",
            "7   “You know you're in love when you can't fall a...               Dr. Seuss\n",
            "8   “You only live once, but if you do it right, o...                Mae West\n",
            "9   “Be the change that you wish to see in the wor...          Mahatma Gandhi\n",
            "10  “In three words I can sum up everything I've l...            Robert Frost\n",
            "11  “If you want to know what a man's like, take a...            J.K. Rowling\n",
            "12  “Don’t walk in front of me… I may not followDo...            Albert Camus\n",
            "13  “If you tell the truth, you don't have to reme...              Mark Twain\n",
            "14  “Friendship ... is born at the moment when one...              C.S. Lewis\n",
            "15  “I've learned that people will forget what you...            Maya Angelou\n",
            "16  “A friend is someone who knows all about you a...          Elbert Hubbard\n",
            "17  “Always forgive your enemies; nothing annoys t...             Oscar Wilde\n",
            "18  “To live is the rarest thing in the world. Mos...             Oscar Wilde\n",
            "19  “Live as if you were to die tomorrow. Learn as...          Mahatma Gandhi\n",
            "20  “Darkness cannot drive out darkness: only ligh...  Martin Luther King Jr.\n",
            "21          “We accept the love we think we deserve.”         Stephen Chbosky\n",
            "22          “Without music, life would be a mistake.”     Friedrich Nietzsche\n",
            "23  “I am so clever that sometimes I don't underst...             Oscar Wilde\n",
            "24  “To be yourself in a world that is constantly ...     Ralph Waldo Emerson\n",
            "25  “Here's to the crazy ones. The misfits. The re...            Rob Siltanen\n",
            "26  “Insanity is doing the same thing, over and ov...     Narcotics Anonymous\n",
            "27  “I believe that everything happens for a reaso...          Marilyn Monroe\n",
            "28  “Twenty years from now you will be more disapp...    H. Jackson Brown Jr.\n",
            "29  “It is better to be hated for what you are tha...              Andre Gide\n"
          ]
        }
      ]
    },
    {
      "cell_type": "markdown",
      "source": [
        "Below are some examples of using regular expression (since the codes above did not meet the requirement for 5 regular expressions...):"
      ],
      "metadata": {
        "id": "koOdvlcagtqQ"
      }
    },
    {
      "cell_type": "code",
      "source": [
        "#to find the first word \"love\":\n",
        "for i in quotetext:\n",
        "  love = re.search(r\"love\", i.text)\n",
        "love"
      ],
      "metadata": {
        "colab": {
          "base_uri": "https://localhost:8080/"
        },
        "id": "3iqWIPW8hb8j",
        "outputId": "73eb609f-3429-4209-cd9a-468b2485a2fa"
      },
      "execution_count": 76,
      "outputs": [
        {
          "output_type": "execute_result",
          "data": {
            "text/plain": [
              "<re.Match object; span=(61, 65), match='love'>"
            ]
          },
          "metadata": {},
          "execution_count": 76
        }
      ]
    },
    {
      "cell_type": "code",
      "source": [
        "#to find the first digit:\n",
        "for i in quotetext:\n",
        "  digit = re.search(r'\\d', i.text)\n",
        "digit"
      ],
      "metadata": {
        "colab": {
          "base_uri": "https://localhost:8080/"
        },
        "id": "nwGV32ojnKSQ",
        "outputId": "5e99d248-fb15-4db2-957d-81674d566383"
      },
      "execution_count": 77,
      "outputs": [
        {
          "output_type": "execute_result",
          "data": {
            "text/plain": [
              "<re.Match object; span=(193, 194), match='6'>"
            ]
          },
          "metadata": {},
          "execution_count": 77
        }
      ]
    },
    {
      "cell_type": "code",
      "source": [
        "#to find the first word starting with g:\n",
        "for i in quotetext:\n",
        "  g = re.search(r'g\\w+', i.text)\n",
        "g"
      ],
      "metadata": {
        "colab": {
          "base_uri": "https://localhost:8080/"
        },
        "id": "a5mlqb7Sn1M6",
        "outputId": "59221c6d-595b-45f6-f49c-48baf264ee8f"
      },
      "execution_count": 78,
      "outputs": [
        {
          "output_type": "execute_result",
          "data": {
            "text/plain": [
              "<re.Match object; span=(266, 275), match='goodreads'>"
            ]
          },
          "metadata": {},
          "execution_count": 78
        }
      ]
    },
    {
      "cell_type": "code",
      "source": [
        "#to find the first 5-digit word:\n",
        "for i in quotetext:\n",
        "  five = re.search(r'\\w{5}', i.text)\n",
        "five"
      ],
      "metadata": {
        "colab": {
          "base_uri": "https://localhost:8080/"
        },
        "id": "TsXo2-1RprwK",
        "outputId": "19c0583b-4a20-4c78-a214-e4e62ad02814"
      },
      "execution_count": 79,
      "outputs": [
        {
          "output_type": "execute_result",
          "data": {
            "text/plain": [
              "<re.Match object; span=(14, 19), match='bette'>"
            ]
          },
          "metadata": {},
          "execution_count": 79
        }
      ]
    },
    {
      "cell_type": "markdown",
      "metadata": {
        "id": "8jW4D33OOmbB"
      },
      "source": [
        "\n",
        "# Spidering\n",
        "\n",
        "What if we want to to get a bunch of different pages from wikipedia. We would\n",
        "need to get the url for each of the pages we want. Typically, we want pages that\n",
        "are linked to by other pages and so we will need to parse pages and identify the\n",
        "links. Right now we will be retrieving all links in the body of the content\n",
        "analysis page.\n",
        "\n",
        "To do this we will need to find all the `<a>` (anchor) tags with `href`s\n",
        "(hyperlink references) inside of `<p>` tags. `href` can have many\n",
        "[different](http://stackoverflow.com/questions/4855168/what-is-href-and-why-is-\n",
        "it-used) [forms](https://en.wikipedia.org/wiki/Hyperlink#Hyperlinks_in_HTML) so\n",
        "dealing with them can be tricky, but generally, you will want to extract\n",
        "absolute or relative links. An absolute link is one you can follow without\n",
        "modification, while a relative link requires a base url that you will then\n",
        "append. Wikipedia uses relative urls for its internal links: below is an example\n",
        "for dealing with them."
      ]
    },
    {
      "cell_type": "code",
      "execution_count": 21,
      "metadata": {
        "id": "qdkr4sdqOmbB",
        "colab": {
          "base_uri": "https://localhost:8080/"
        },
        "outputId": "14f10ea1-3491-492d-e927-422c9f6cf3c8"
      },
      "outputs": [
        {
          "output_type": "stream",
          "name": "stdout",
          "text": [
            "[('https://en.wikipedia.org/wiki/Document', 4, 'documents'), ('https://en.wikipedia.org/wiki/Text_(literary_theory)', 5, 'texts'), ('https://en.wikipedia.org/wiki/Coding_(social_sciences)', 5, 'assigned labels (sometimes called codes)'), ('https://en.wikipedia.org/wiki/Semantics', 5, 'meaningful'), ('https://en.wikipedia.org/wiki/Text_(literary_theory)', 5, 'texts'), ('https://en.wikipedia.org/wiki/Quantitative_research', 5, 'quantitatively'), ('https://en.wikipedia.org/wiki/Statistics', 5, 'statistical methods'), ('https://en.wikipedia.org/wiki/Qualitative_research', 5, 'qualitative'), ('https://en.wikipedia.org/wiki/Text_(literary_theory)', 5, 'texts'), ('https://en.wikipedia.org/wiki/Machine_learning', 6, 'Machine learning')]\n"
          ]
        }
      ],
      "source": [
        "#wikipedia_base_url = 'https://en.wikipedia.org'\n",
        "\n",
        "otherPAgeURLS = []\n",
        "#We also want to know where the links come from so we also will get:\n",
        "#the paragraph number\n",
        "#the word the link is in\n",
        "for paragraphNum, pTag in enumerate(contentPTags):\n",
        "    #we only want hrefs that link to wiki pages\n",
        "    tagLinks = pTag.findAll('a', href=re.compile('/wiki/'), class_=False)\n",
        "    for aTag in tagLinks:\n",
        "        #We need to extract the url from the <a> tag\n",
        "        relurl = aTag.get('href')\n",
        "        linkText = aTag.text\n",
        "        #wikipedia_base_url is the base we can use the urllib joining function to merge them\n",
        "        #Giving a nice structured tupe like this means we can use tuple expansion later\n",
        "        otherPAgeURLS.append((\n",
        "            urllib.parse.urljoin(wikipedia_base_url, relurl),\n",
        "            paragraphNum,\n",
        "            linkText,\n",
        "        ))\n",
        "print(otherPAgeURLS[:10])"
      ]
    },
    {
      "cell_type": "code",
      "execution_count": 22,
      "metadata": {
        "id": "VXTYESNnOmbC",
        "colab": {
          "base_uri": "https://localhost:8080/"
        },
        "outputId": "e8ee888e-cb61-4fbc-b837-4baf58fe2d47"
      },
      "outputs": [
        {
          "output_type": "stream",
          "name": "stdout",
          "text": [
            "[<p><b>South Asia </b>\n",
            "</p>, <p><b>Middle East</b>\n",
            "</p>, <p><b>Europe</b>\n",
            "</p>, <p><b>North America</b>\n",
            "</p>, <p><b>Content analysis</b> is the study of <a href=\"/wiki/Document\" title=\"Document\">documents</a> and communication artifacts, which might be texts of various formats, pictures, audio or video. Social scientists use content analysis to examine patterns in communication in a replicable and systematic manner.<sup class=\"reference\" id=\"cite_ref-1\"><a href=\"#cite_note-1\">[1]</a></sup> One of the key advantages of using content analysis to analyse social phenomena is its non-invasive nature, in contrast to simulating social experiences or collecting survey answers.\n",
            "</p>, <p>Practices and philosophies of content analysis vary between academic disciplines. They all involve systematic reading or observation of <a href=\"/wiki/Text_(literary_theory)\" title=\"Text (literary theory)\">texts</a> or artifacts which are <a href=\"/wiki/Coding_(social_sciences)\" title=\"Coding (social sciences)\">assigned labels (sometimes called codes)</a> to indicate the presence of interesting, <a href=\"/wiki/Semantics\" title=\"Semantics\">meaningful</a> pieces of content.<sup class=\"reference\" id=\"cite_ref-2\"><a href=\"#cite_note-2\">[2]</a></sup><sup class=\"reference\" id=\"cite_ref-Tipaldo_2014_42_3-0\"><a href=\"#cite_note-Tipaldo_2014_42-3\">[3]</a></sup> By systematically labeling the content of a set of <a href=\"/wiki/Text_(literary_theory)\" title=\"Text (literary theory)\">texts</a>, researchers can analyse patterns of content <a href=\"/wiki/Quantitative_research\" title=\"Quantitative research\">quantitatively</a> using <a href=\"/wiki/Statistics\" title=\"Statistics\">statistical methods</a>, or use <a href=\"/wiki/Qualitative_research\" title=\"Qualitative research\">qualitative</a> methods to analyse meanings of content within <a href=\"/wiki/Text_(literary_theory)\" title=\"Text (literary theory)\">texts</a>.\n",
            "</p>, <p>Computers are increasingly used in content analysis to automate the labeling (or coding) of documents. Simple computational techniques can provide descriptive data such as word frequencies and document lengths. <a href=\"/wiki/Machine_learning\" title=\"Machine learning\">Machine learning</a> classifiers can greatly increase the number of texts that can be labeled, but the scientific utility of doing so is a matter of debate. Further, numerous computer-aided text analysis (CATA) computer programs are available that analyze text for pre-determined linguistic, semantic, and psychological characteristics.<sup class=\"reference\" id=\"cite_ref-Neuendorf2016_4-0\"><a href=\"#cite_note-Neuendorf2016-4\">[4]</a></sup>\n",
            "</p>, <p>Content analysis is best understood as a broad family of techniques. Effective researchers choose techniques that best help them answer their substantive questions. That said, according to <a href=\"/wiki/Klaus_Krippendorff\" title=\"Klaus Krippendorff\">Klaus Krippendorff</a>, six questions must be addressed in every content analysis:<sup class=\"reference\" id=\"cite_ref-Krippendorff2004_5-0\"><a href=\"#cite_note-Krippendorff2004-5\">[5]</a></sup>\n",
            "</p>, <p>The simplest and most objective form of content analysis considers unambiguous characteristics of the text such as <a class=\"mw-redirect\" href=\"/wiki/Word_frequencies\" title=\"Word frequencies\">word frequencies</a>, the page area taken by a newspaper column, or the duration of a <a href=\"/wiki/Radio\" title=\"Radio\">radio</a> or <a href=\"/wiki/Television\" title=\"Television\">television</a> program. Analysis of simple word frequencies is limited because the meaning of a word depends on surrounding text.  <a href=\"/wiki/Key_Word_in_Context\" title=\"Key Word in Context\">Key Word In Context</a> (KWIC) routines address this by placing words in their textual context. This helps resolve ambiguities such as those introduced by <a href=\"/wiki/Synonym\" title=\"Synonym\">synonyms</a> and <a href=\"/wiki/Homonym\" title=\"Homonym\">homonyms</a>.\n",
            "</p>, <p>A further step in analysis is the distinction between dictionary-based (quantitative) approaches and qualitative approaches. Dictionary-based approaches set up a list of categories derived from the frequency list of words and control the distribution of words and their respective categories over the texts. While methods in quantitative content analysis in this way transform observations of found categories into quantitative statistical data, the qualitative content analysis focuses more on the intentionality and its implications. There are strong parallels between qualitative content analysis and <a href=\"/wiki/Thematic_analysis\" title=\"Thematic analysis\">thematic analysis</a>.<sup class=\"reference\" id=\"cite_ref-6\"><a href=\"#cite_note-6\">[6]</a></sup>\n",
            "</p>, <p>Quantitative content analysis highlights frequency counts and objective analysis of these coded frequencies.<sup class=\"reference\" id=\"cite_ref-:03_7-0\"><a href=\"#cite_note-:03-7\">[7]</a></sup> Additionally, quantitative content analysis begins with a framed hypothesis with coding decided on before the analysis begins. These coding categories are strictly relevant to the researcher's hypothesis. Quantitative analysis also takes a deductive approach.<sup class=\"reference\" id=\"cite_ref-:12_8-0\"><a href=\"#cite_note-:12-8\">[8]</a></sup>\n",
            "</p>, <p><a href=\"/wiki/Siegfried_Kracauer\" title=\"Siegfried Kracauer\">Siegfried Kracauer</a> provides a critique of quantitative analysis, asserting that it oversimplifies complex communications in order to be more reliable. On the other hand, qualitative analysis deals with the intricacies of latent interpretations, whereas quantitative has a focus on manifest meanings. He also acknowledges an \"overlap\" of qualitative and quantitative content analysis.<sup class=\"reference\" id=\"cite_ref-:03_7-1\"><a href=\"#cite_note-:03-7\">[7]</a></sup> Patterns are looked at more closely in qualitative analysis, and based on the latent meanings that the researcher may find, the course of the research could be changed. It is inductive and begins with open research questions, as opposed to a hypothesis.<sup class=\"reference\" id=\"cite_ref-:12_8-1\"><a href=\"#cite_note-:12-8\">[8]</a></sup>\n",
            "</p>, <p>With the rise of common computing facilities like PCs, computer-based methods of analysis are growing in popularity.<sup class=\"reference\" id=\"cite_ref-9\"><a href=\"#cite_note-9\">[9]</a></sup><sup class=\"reference\" id=\"cite_ref-10\"><a href=\"#cite_note-10\">[10]</a></sup><sup class=\"reference\" id=\"cite_ref-11\"><a href=\"#cite_note-11\">[11]</a></sup> Answers to open ended questions, newspaper articles, political party manifestos, medical records or systematic observations in experiments can all be subject to systematic analysis of textual data.\n",
            "</p>, <p>By having contents of communication available in form of machine readable texts, the input is analyzed for frequencies and coded into categories for building up inferences.\n",
            "</p>, <p>Computer-assisted analysis can help with large, electronic data sets by cutting out time and eliminating the need for multiple human coders to establish inter-coder reliability. However, human coders can still be employed for content analysis, as they are often more able to pick out nuanced and latent meanings in text. A study  found that human coders were able to evaluate a broader range and make inferences based on latent meanings.<sup class=\"reference\" id=\"cite_ref-12\"><a href=\"#cite_note-12\">[12]</a></sup>\n",
            "</p>, <p>Robert Weber notes: \"To make valid inferences from the text, it is important that the classification procedure be reliable in the sense of being consistent: Different people should code the same text in the same way\".<sup class=\"reference\" id=\"cite_ref-13\"><a href=\"#cite_note-13\">[13]</a></sup> The validity, inter-coder reliability and intra-coder reliability are subject to intense methodological research efforts over long years.<sup class=\"reference\" id=\"cite_ref-Krippendorff2004_5-1\"><a href=\"#cite_note-Krippendorff2004-5\">[5]</a></sup>\n",
            "Neuendorf suggests that when human coders are used in content analysis at least two independent coders should be used. Reliability of human coding is often measured using a statistical measure of <i>inter-coder reliability</i> or \"the amount of agreement or correspondence among two or more coders\".<sup class=\"reference\" id=\"cite_ref-Neuendorf2016_4-1\"><a href=\"#cite_note-Neuendorf2016-4\">[4]</a></sup> Lacy and Riffe identify the measurement of inter-coder reliability as a strength of quantitative content analysis, arguing that, if content analysts do not measure inter-coder reliability, their data are no more reliable than the subjective impressions of a single reader.<sup class=\"reference\" id=\"cite_ref-14\"><a href=\"#cite_note-14\">[14]</a></sup>\n",
            "</p>, <p>There are five types of texts in content analysis:\n",
            "</p>, <p>Content analysis is research using the categorization and classification of speech, written text, interviews, images, or other forms of communication.  In its beginnings, using the first newspapers at the end of the 19th century, analysis was done manually by measuring the number of columns given a subject. The approach can also be traced back to a university student studying patterns in Shakespeare's literature in 1893.<sup class=\"reference\" id=\"cite_ref-15\"><a href=\"#cite_note-15\">[15]</a></sup>\n",
            "</p>, <p>Over the years, content analysis has been applied to a variety of scopes. <a href=\"/wiki/Hermeneutics\" title=\"Hermeneutics\">Hermeneutics</a> and <a href=\"/wiki/Philology\" title=\"Philology\">philology</a> have long used content analysis to interpret sacred and profane texts and, in many cases, to attribute texts' <a class=\"mw-redirect\" href=\"/wiki/Authorship\" title=\"Authorship\">authorship</a> and <a href=\"/wiki/Authentication\" title=\"Authentication\">authenticity</a>.<sup class=\"reference\" id=\"cite_ref-Tipaldo_2014_42_3-1\"><a href=\"#cite_note-Tipaldo_2014_42-3\">[3]</a></sup><sup class=\"reference\" id=\"cite_ref-Krippendorff2004_5-2\"><a href=\"#cite_note-Krippendorff2004-5\">[5]</a></sup>\n",
            "</p>, <p>In recent times, particularly with the advent of <a href=\"/wiki/Mass_communication\" title=\"Mass communication\">mass communication</a>, content analysis has known an increasing use to deeply analyze and understand media content and <a class=\"new\" href=\"/w/index.php?title=Media_logic&amp;action=edit&amp;redlink=1\" title=\"Media logic (page does not exist)\">media logic</a>. \n",
            "The political scientist <a href=\"/wiki/Harold_Lasswell\" title=\"Harold Lasswell\">Harold Lasswell</a> formulated the core questions of content analysis in its early-mid 20th-century mainstream version: \"Who says what, to whom, why, to what extent and with what effect?\".<sup class=\"reference\" id=\"cite_ref-16\"><a href=\"#cite_note-16\">[16]</a></sup> The strong emphasis for a quantitative approach started up by Lasswell was finally carried out by another \"father\" of content analysis, <a href=\"/wiki/Bernard_Berelson\" title=\"Bernard Berelson\">Bernard Berelson</a>, who proposed a definition of content analysis which, from this point of view, is emblematic: \"a research technique for the objective, systematic and quantitative description of the manifest content of communication\".<sup class=\"reference\" id=\"cite_ref-Berelson1952_17-0\"><a href=\"#cite_note-Berelson1952-17\">[17]</a></sup>\n",
            "</p>, <p>Quantitative content analysis has enjoyed a renewed popularity in recent years thanks to technological advances and fruitful application in of mass communication and personal communication research. Content analysis of textual <a href=\"/wiki/Big_data\" title=\"Big data\">big data</a> produced by <a href=\"/wiki/New_media\" title=\"New media\">new media</a>, particularly <a href=\"/wiki/Social_media\" title=\"Social media\">social media</a> and <a class=\"mw-redirect\" href=\"/wiki/Mobile_devices\" title=\"Mobile devices\">mobile devices</a> has become popular. These approaches take a simplified view of language that ignores the complexity of semiosis, the process by which meaning is formed out of language. Quantitative content analysts have been criticized for limiting the scope of content analysis to simple counting, and for applying the measurement methodologies of the natural sciences without reflecting critically on their appropriateness to social science.<sup class=\"reference\" id=\"cite_ref-:0_18-0\"><a href=\"#cite_note-:0-18\">[18]</a></sup> Conversely, qualitative content analysts have been criticized for being insufficiently systematic and too impressionistic.<sup class=\"reference\" id=\"cite_ref-:0_18-1\"><a href=\"#cite_note-:0-18\">[18]</a></sup> Krippendorff argues that quantitative and qualitative approaches to content analysis tend to overlap, and that there can be no generalisable conclusion as to which approach is superior.<sup class=\"reference\" id=\"cite_ref-:0_18-2\"><a href=\"#cite_note-:0-18\">[18]</a></sup>\n",
            "</p>, <p>Content analysis can also be described as studying <a href=\"/wiki/Trace_evidence\" title=\"Trace evidence\">traces</a>, which are documents from past times, and artifacts, which are non-linguistic documents. Texts are understood to be produced by communication processes in a broad sense of that phrase—often gaining mean through <a href=\"/wiki/Abductive_reasoning\" title=\"Abductive reasoning\">abduction</a>.<sup class=\"reference\" id=\"cite_ref-Tipaldo_2014_42_3-2\"><a href=\"#cite_note-Tipaldo_2014_42-3\">[3]</a></sup><sup class=\"reference\" id=\"cite_ref-19\"><a href=\"#cite_note-19\">[19]</a></sup>\n",
            "</p>, <p>Manifest content is readily understandable at its face value. Its meaning is direct. Latent content is not as overt, and requires interpretation to uncover the meaning or implication.<sup class=\"reference\" id=\"cite_ref-20\"><a href=\"#cite_note-20\">[20]</a></sup>\n",
            "</p>, <p>Holsti groups fifteen uses of content analysis into three basic <a class=\"mw-redirect\" href=\"/wiki/Categorisation\" title=\"Categorisation\">categories</a>:<sup class=\"reference\" id=\"cite_ref-Holsti1969_21-0\"><a href=\"#cite_note-Holsti1969-21\">[21]</a></sup>\n",
            "</p>, <p>He also places these uses into the context of the basic communication <a href=\"/wiki/Paradigm\" title=\"Paradigm\">paradigm</a>.\n",
            "</p>, <p>The following table shows fifteen uses of content analysis in terms of their general purpose, element of the communication paradigm to which they apply, and the general question they are intended to answer.\n",
            "</p>, <p>As a counterpoint, there are limits to the scope of use for the procedures that characterize content analysis. In particular, if access to the goal of analysis can be obtained by direct means without material interference, then direct measurement techniques yield better data.<sup class=\"reference\" id=\"cite_ref-23\"><a href=\"#cite_note-23\">[23]</a></sup> Thus, while content analysis attempts to quantifiably describe <em>communications</em> whose features are primarily categorical——limited usually to a nominal or ordinal scale——via selected conceptual units (the <em>unitization</em>) which are assigned values (the <em>categorization</em>) for <em>enumeration</em> while monitoring <em>intercoder reliability</em>, if instead the target quantity manifestly is already directly measurable——typically on an interval or ratio scale——especially a continuous physical quantity, then such targets usually are not listed among those needing the \"subjective\" selections and formulations of content analysis.<sup class=\"reference\" id=\"cite_ref-24\"><a href=\"#cite_note-24\">[24]</a></sup><sup class=\"reference\" id=\"cite_ref-25\"><a href=\"#cite_note-25\">[25]</a></sup><sup class=\"reference\" id=\"cite_ref-26\"><a href=\"#cite_note-26\">[26]</a></sup><sup class=\"reference\" id=\"cite_ref-27\"><a href=\"#cite_note-27\">[27]</a></sup><sup class=\"reference\" id=\"cite_ref-28\"><a href=\"#cite_note-28\">[28]</a></sup><sup class=\"reference\" id=\"cite_ref-29\"><a href=\"#cite_note-29\">[29]</a></sup><sup class=\"reference\" id=\"cite_ref-30\"><a href=\"#cite_note-30\">[30]</a></sup><sup class=\"reference\" id=\"cite_ref-31\"><a href=\"#cite_note-31\">[31]</a></sup> For example (from mixed research and clinical application), as medical images <em>communicate</em> diagnostic features to physicians, <a href=\"/wiki/Neuroimaging\" title=\"Neuroimaging\">neuroimaging</a>'s <a href=\"/wiki/Stroke\" title=\"Stroke\">stroke</a> (infarct) volume scale called ASPECTS is <em>unitized</em> as 10 qualitatively delineated (unequal) brain regions in the <a href=\"/wiki/Middle_cerebral_artery\" title=\"Middle cerebral artery\">middle cerebral artery</a> territory, which it <em>categorizes</em> as being at least partly versus not at all infarcted in order to <em>enumerate</em> the latter, with published series often assessing <em>intercoder reliability</em> by <a href=\"/wiki/Cohen%27s_kappa\" title=\"Cohen's kappa\">Cohen's kappa</a>. The foregoing <em>italicized operations</em> impose the uncredited <em>form</em> of content analysis onto an estimation of infarct extent, which instead is easily enough and more accurately measured as a volume directly on the images.<sup class=\"reference\" id=\"cite_ref-32\"><a href=\"#cite_note-32\">[32]</a></sup><sup class=\"reference\" id=\"cite_ref-33\"><a href=\"#cite_note-33\">[33]</a></sup> (\"Accuracy ... is the highest form of reliability.\"<sup class=\"reference\" id=\"cite_ref-34\"><a href=\"#cite_note-34\">[34]</a></sup>) The concomitant clinical assessment, however, by the <a href=\"/wiki/National_Institutes_of_Health_Stroke_Scale\" title=\"National Institutes of Health Stroke Scale\">National Institutes of Health Stroke Scale</a> (NIHSS) or the <a href=\"/wiki/Modified_Rankin_Scale\" title=\"Modified Rankin Scale\">modified Rankin Scale</a> (mRS), retains the necessary form of content analysis. Recognizing potential limits of content analysis across the contents of language and images alike, <a href=\"/wiki/Klaus_Krippendorff\" title=\"Klaus Krippendorff\">Klaus Krippendorff</a> affirms that \"comprehen[sion] ... may ... not conform at all to the process of classification and/or counting by which most content analyses proceed,\"<sup class=\"reference\" id=\"cite_ref-35\"><a href=\"#cite_note-35\">[35]</a></sup> suggesting that content analysis might materially distort a message.\n",
            "</p>, <p>The process of the initial coding scheme or approach to coding is contingent on the particular content analysis approach selected. Through a directed content analysis, the scholars draft a preliminary coding scheme from pre-existing theory or assumptions. While with the conventional content analysis approach, the initial coding scheme developed from the data.\n",
            "</p>, <p>With either approach above, immersing oneself into the data to obtain an overall picture is recommendable for researchers to conduct. Furthermore, identifying a consistent and clear unit of coding is vital, and researchers' choices range from a single word to several paragraphs, from texts to iconic symbols. Last, constructing the relationships between codes by sorting out them within specific categories or themes.<sup class=\"reference\" id=\"cite_ref-36\"><a href=\"#cite_note-36\">[36]</a></sup>\n",
            "</p>, <p><br/>\n",
            "</p>]\n"
          ]
        }
      ],
      "source": [
        "print(contentPTags)"
      ]
    },
    {
      "cell_type": "markdown",
      "metadata": {
        "id": "-q30EjBVOmbC"
      },
      "source": [
        "Another excursion: Why do we use enumerate() here? enumerate() takes a collection, enumerates, and returns an enumate object with both the numbers and the collection. For example, contentPTags (the collection we used here) is comprised of paragraphs. We want the paragraph number of each paragraph. And this is what enumerate() does: it returns the paragraph number and the paragraph. "
      ]
    },
    {
      "cell_type": "markdown",
      "metadata": {
        "id": "kq15Be4lOmbC"
      },
      "source": [
        "We will be adding these new texts to our DataFrame `contentParagraphsDF` so we\n",
        "will need to add 2 more columns to keep track of paragraph numbers and sources."
      ]
    },
    {
      "cell_type": "code",
      "execution_count": 23,
      "metadata": {
        "id": "bTC9HDnnOmbC",
        "colab": {
          "base_uri": "https://localhost:8080/",
          "height": 990
        },
        "outputId": "0aa8872e-933c-4f82-cb1b-bdc953545532"
      },
      "outputs": [
        {
          "output_type": "execute_result",
          "data": {
            "text/html": [
              "\n",
              "  <div id=\"df-9f750230-59f8-4246-b9b3-2f9bfbc6f266\">\n",
              "    <div class=\"colab-df-container\">\n",
              "      <div>\n",
              "<style scoped>\n",
              "    .dataframe tbody tr th:only-of-type {\n",
              "        vertical-align: middle;\n",
              "    }\n",
              "\n",
              "    .dataframe tbody tr th {\n",
              "        vertical-align: top;\n",
              "    }\n",
              "\n",
              "    .dataframe thead th {\n",
              "        text-align: right;\n",
              "    }\n",
              "</style>\n",
              "<table border=\"1\" class=\"dataframe\">\n",
              "  <thead>\n",
              "    <tr style=\"text-align: right;\">\n",
              "      <th></th>\n",
              "      <th>paragraph-text</th>\n",
              "      <th>source</th>\n",
              "      <th>paragraph-number</th>\n",
              "    </tr>\n",
              "  </thead>\n",
              "  <tbody>\n",
              "    <tr>\n",
              "      <th>0</th>\n",
              "      <td>South Asia \\n</td>\n",
              "      <td>https://en.wikipedia.org/wiki/Content_analysis</td>\n",
              "      <td>0</td>\n",
              "    </tr>\n",
              "    <tr>\n",
              "      <th>1</th>\n",
              "      <td>Middle East\\n</td>\n",
              "      <td>https://en.wikipedia.org/wiki/Content_analysis</td>\n",
              "      <td>1</td>\n",
              "    </tr>\n",
              "    <tr>\n",
              "      <th>2</th>\n",
              "      <td>Europe\\n</td>\n",
              "      <td>https://en.wikipedia.org/wiki/Content_analysis</td>\n",
              "      <td>2</td>\n",
              "    </tr>\n",
              "    <tr>\n",
              "      <th>3</th>\n",
              "      <td>North America\\n</td>\n",
              "      <td>https://en.wikipedia.org/wiki/Content_analysis</td>\n",
              "      <td>3</td>\n",
              "    </tr>\n",
              "    <tr>\n",
              "      <th>4</th>\n",
              "      <td>Content analysis is the study of documents and...</td>\n",
              "      <td>https://en.wikipedia.org/wiki/Content_analysis</td>\n",
              "      <td>4</td>\n",
              "    </tr>\n",
              "    <tr>\n",
              "      <th>5</th>\n",
              "      <td>Practices and philosophies of content analysis...</td>\n",
              "      <td>https://en.wikipedia.org/wiki/Content_analysis</td>\n",
              "      <td>5</td>\n",
              "    </tr>\n",
              "    <tr>\n",
              "      <th>6</th>\n",
              "      <td>Computers are increasingly used in content ana...</td>\n",
              "      <td>https://en.wikipedia.org/wiki/Content_analysis</td>\n",
              "      <td>6</td>\n",
              "    </tr>\n",
              "    <tr>\n",
              "      <th>7</th>\n",
              "      <td>Content analysis is best understood as a broad...</td>\n",
              "      <td>https://en.wikipedia.org/wiki/Content_analysis</td>\n",
              "      <td>7</td>\n",
              "    </tr>\n",
              "    <tr>\n",
              "      <th>8</th>\n",
              "      <td>The simplest and most objective form of conten...</td>\n",
              "      <td>https://en.wikipedia.org/wiki/Content_analysis</td>\n",
              "      <td>8</td>\n",
              "    </tr>\n",
              "    <tr>\n",
              "      <th>9</th>\n",
              "      <td>A further step in analysis is the distinction ...</td>\n",
              "      <td>https://en.wikipedia.org/wiki/Content_analysis</td>\n",
              "      <td>9</td>\n",
              "    </tr>\n",
              "    <tr>\n",
              "      <th>10</th>\n",
              "      <td>Quantitative content analysis highlights frequ...</td>\n",
              "      <td>https://en.wikipedia.org/wiki/Content_analysis</td>\n",
              "      <td>10</td>\n",
              "    </tr>\n",
              "    <tr>\n",
              "      <th>11</th>\n",
              "      <td>Siegfried Kracauer provides a critique of quan...</td>\n",
              "      <td>https://en.wikipedia.org/wiki/Content_analysis</td>\n",
              "      <td>11</td>\n",
              "    </tr>\n",
              "    <tr>\n",
              "      <th>12</th>\n",
              "      <td>With the rise of common computing facilities l...</td>\n",
              "      <td>https://en.wikipedia.org/wiki/Content_analysis</td>\n",
              "      <td>12</td>\n",
              "    </tr>\n",
              "    <tr>\n",
              "      <th>13</th>\n",
              "      <td>By having contents of communication available ...</td>\n",
              "      <td>https://en.wikipedia.org/wiki/Content_analysis</td>\n",
              "      <td>13</td>\n",
              "    </tr>\n",
              "    <tr>\n",
              "      <th>14</th>\n",
              "      <td>Computer-assisted analysis can help with large...</td>\n",
              "      <td>https://en.wikipedia.org/wiki/Content_analysis</td>\n",
              "      <td>14</td>\n",
              "    </tr>\n",
              "    <tr>\n",
              "      <th>15</th>\n",
              "      <td>Robert Weber notes: \"To make valid inferences ...</td>\n",
              "      <td>https://en.wikipedia.org/wiki/Content_analysis</td>\n",
              "      <td>15</td>\n",
              "    </tr>\n",
              "    <tr>\n",
              "      <th>16</th>\n",
              "      <td>There are five types of texts in content analy...</td>\n",
              "      <td>https://en.wikipedia.org/wiki/Content_analysis</td>\n",
              "      <td>16</td>\n",
              "    </tr>\n",
              "    <tr>\n",
              "      <th>17</th>\n",
              "      <td>Content analysis is research using the categor...</td>\n",
              "      <td>https://en.wikipedia.org/wiki/Content_analysis</td>\n",
              "      <td>17</td>\n",
              "    </tr>\n",
              "    <tr>\n",
              "      <th>18</th>\n",
              "      <td>Over the years, content analysis has been appl...</td>\n",
              "      <td>https://en.wikipedia.org/wiki/Content_analysis</td>\n",
              "      <td>18</td>\n",
              "    </tr>\n",
              "    <tr>\n",
              "      <th>19</th>\n",
              "      <td>In recent times, particularly with the advent ...</td>\n",
              "      <td>https://en.wikipedia.org/wiki/Content_analysis</td>\n",
              "      <td>19</td>\n",
              "    </tr>\n",
              "    <tr>\n",
              "      <th>20</th>\n",
              "      <td>Quantitative content analysis has enjoyed a re...</td>\n",
              "      <td>https://en.wikipedia.org/wiki/Content_analysis</td>\n",
              "      <td>20</td>\n",
              "    </tr>\n",
              "    <tr>\n",
              "      <th>21</th>\n",
              "      <td>Content analysis can also be described as stud...</td>\n",
              "      <td>https://en.wikipedia.org/wiki/Content_analysis</td>\n",
              "      <td>21</td>\n",
              "    </tr>\n",
              "    <tr>\n",
              "      <th>22</th>\n",
              "      <td>Manifest content is readily understandable at ...</td>\n",
              "      <td>https://en.wikipedia.org/wiki/Content_analysis</td>\n",
              "      <td>22</td>\n",
              "    </tr>\n",
              "    <tr>\n",
              "      <th>23</th>\n",
              "      <td>Holsti groups fifteen uses of content analysis...</td>\n",
              "      <td>https://en.wikipedia.org/wiki/Content_analysis</td>\n",
              "      <td>23</td>\n",
              "    </tr>\n",
              "    <tr>\n",
              "      <th>24</th>\n",
              "      <td>He also places these uses into the context of ...</td>\n",
              "      <td>https://en.wikipedia.org/wiki/Content_analysis</td>\n",
              "      <td>24</td>\n",
              "    </tr>\n",
              "    <tr>\n",
              "      <th>25</th>\n",
              "      <td>The following table shows fifteen uses of cont...</td>\n",
              "      <td>https://en.wikipedia.org/wiki/Content_analysis</td>\n",
              "      <td>25</td>\n",
              "    </tr>\n",
              "    <tr>\n",
              "      <th>26</th>\n",
              "      <td>As a counterpoint, there are limits to the sco...</td>\n",
              "      <td>https://en.wikipedia.org/wiki/Content_analysis</td>\n",
              "      <td>26</td>\n",
              "    </tr>\n",
              "    <tr>\n",
              "      <th>27</th>\n",
              "      <td>The process of the initial coding scheme or ap...</td>\n",
              "      <td>https://en.wikipedia.org/wiki/Content_analysis</td>\n",
              "      <td>27</td>\n",
              "    </tr>\n",
              "    <tr>\n",
              "      <th>28</th>\n",
              "      <td>With either approach above, immersing oneself ...</td>\n",
              "      <td>https://en.wikipedia.org/wiki/Content_analysis</td>\n",
              "      <td>28</td>\n",
              "    </tr>\n",
              "    <tr>\n",
              "      <th>29</th>\n",
              "      <td>\\n</td>\n",
              "      <td>https://en.wikipedia.org/wiki/Content_analysis</td>\n",
              "      <td>29</td>\n",
              "    </tr>\n",
              "  </tbody>\n",
              "</table>\n",
              "</div>\n",
              "      <button class=\"colab-df-convert\" onclick=\"convertToInteractive('df-9f750230-59f8-4246-b9b3-2f9bfbc6f266')\"\n",
              "              title=\"Convert this dataframe to an interactive table.\"\n",
              "              style=\"display:none;\">\n",
              "        \n",
              "  <svg xmlns=\"http://www.w3.org/2000/svg\" height=\"24px\"viewBox=\"0 0 24 24\"\n",
              "       width=\"24px\">\n",
              "    <path d=\"M0 0h24v24H0V0z\" fill=\"none\"/>\n",
              "    <path d=\"M18.56 5.44l.94 2.06.94-2.06 2.06-.94-2.06-.94-.94-2.06-.94 2.06-2.06.94zm-11 1L8.5 8.5l.94-2.06 2.06-.94-2.06-.94L8.5 2.5l-.94 2.06-2.06.94zm10 10l.94 2.06.94-2.06 2.06-.94-2.06-.94-.94-2.06-.94 2.06-2.06.94z\"/><path d=\"M17.41 7.96l-1.37-1.37c-.4-.4-.92-.59-1.43-.59-.52 0-1.04.2-1.43.59L10.3 9.45l-7.72 7.72c-.78.78-.78 2.05 0 2.83L4 21.41c.39.39.9.59 1.41.59.51 0 1.02-.2 1.41-.59l7.78-7.78 2.81-2.81c.8-.78.8-2.07 0-2.86zM5.41 20L4 18.59l7.72-7.72 1.47 1.35L5.41 20z\"/>\n",
              "  </svg>\n",
              "      </button>\n",
              "      \n",
              "  <style>\n",
              "    .colab-df-container {\n",
              "      display:flex;\n",
              "      flex-wrap:wrap;\n",
              "      gap: 12px;\n",
              "    }\n",
              "\n",
              "    .colab-df-convert {\n",
              "      background-color: #E8F0FE;\n",
              "      border: none;\n",
              "      border-radius: 50%;\n",
              "      cursor: pointer;\n",
              "      display: none;\n",
              "      fill: #1967D2;\n",
              "      height: 32px;\n",
              "      padding: 0 0 0 0;\n",
              "      width: 32px;\n",
              "    }\n",
              "\n",
              "    .colab-df-convert:hover {\n",
              "      background-color: #E2EBFA;\n",
              "      box-shadow: 0px 1px 2px rgba(60, 64, 67, 0.3), 0px 1px 3px 1px rgba(60, 64, 67, 0.15);\n",
              "      fill: #174EA6;\n",
              "    }\n",
              "\n",
              "    [theme=dark] .colab-df-convert {\n",
              "      background-color: #3B4455;\n",
              "      fill: #D2E3FC;\n",
              "    }\n",
              "\n",
              "    [theme=dark] .colab-df-convert:hover {\n",
              "      background-color: #434B5C;\n",
              "      box-shadow: 0px 1px 3px 1px rgba(0, 0, 0, 0.15);\n",
              "      filter: drop-shadow(0px 1px 2px rgba(0, 0, 0, 0.3));\n",
              "      fill: #FFFFFF;\n",
              "    }\n",
              "  </style>\n",
              "\n",
              "      <script>\n",
              "        const buttonEl =\n",
              "          document.querySelector('#df-9f750230-59f8-4246-b9b3-2f9bfbc6f266 button.colab-df-convert');\n",
              "        buttonEl.style.display =\n",
              "          google.colab.kernel.accessAllowed ? 'block' : 'none';\n",
              "\n",
              "        async function convertToInteractive(key) {\n",
              "          const element = document.querySelector('#df-9f750230-59f8-4246-b9b3-2f9bfbc6f266');\n",
              "          const dataTable =\n",
              "            await google.colab.kernel.invokeFunction('convertToInteractive',\n",
              "                                                     [key], {});\n",
              "          if (!dataTable) return;\n",
              "\n",
              "          const docLinkHtml = 'Like what you see? Visit the ' +\n",
              "            '<a target=\"_blank\" href=https://colab.research.google.com/notebooks/data_table.ipynb>data table notebook</a>'\n",
              "            + ' to learn more about interactive tables.';\n",
              "          element.innerHTML = '';\n",
              "          dataTable['output_type'] = 'display_data';\n",
              "          await google.colab.output.renderOutput(dataTable, element);\n",
              "          const docLink = document.createElement('div');\n",
              "          docLink.innerHTML = docLinkHtml;\n",
              "          element.appendChild(docLink);\n",
              "        }\n",
              "      </script>\n",
              "    </div>\n",
              "  </div>\n",
              "  "
            ],
            "text/plain": [
              "                                       paragraph-text  ... paragraph-number\n",
              "0                                       South Asia \\n  ...                0\n",
              "1                                       Middle East\\n  ...                1\n",
              "2                                            Europe\\n  ...                2\n",
              "3                                     North America\\n  ...                3\n",
              "4   Content analysis is the study of documents and...  ...                4\n",
              "5   Practices and philosophies of content analysis...  ...                5\n",
              "6   Computers are increasingly used in content ana...  ...                6\n",
              "7   Content analysis is best understood as a broad...  ...                7\n",
              "8   The simplest and most objective form of conten...  ...                8\n",
              "9   A further step in analysis is the distinction ...  ...                9\n",
              "10  Quantitative content analysis highlights frequ...  ...               10\n",
              "11  Siegfried Kracauer provides a critique of quan...  ...               11\n",
              "12  With the rise of common computing facilities l...  ...               12\n",
              "13  By having contents of communication available ...  ...               13\n",
              "14  Computer-assisted analysis can help with large...  ...               14\n",
              "15  Robert Weber notes: \"To make valid inferences ...  ...               15\n",
              "16  There are five types of texts in content analy...  ...               16\n",
              "17  Content analysis is research using the categor...  ...               17\n",
              "18  Over the years, content analysis has been appl...  ...               18\n",
              "19  In recent times, particularly with the advent ...  ...               19\n",
              "20  Quantitative content analysis has enjoyed a re...  ...               20\n",
              "21  Content analysis can also be described as stud...  ...               21\n",
              "22  Manifest content is readily understandable at ...  ...               22\n",
              "23  Holsti groups fifteen uses of content analysis...  ...               23\n",
              "24  He also places these uses into the context of ...  ...               24\n",
              "25  The following table shows fifteen uses of cont...  ...               25\n",
              "26  As a counterpoint, there are limits to the sco...  ...               26\n",
              "27  The process of the initial coding scheme or ap...  ...               27\n",
              "28  With either approach above, immersing oneself ...  ...               28\n",
              "29                                                 \\n  ...               29\n",
              "\n",
              "[30 rows x 3 columns]"
            ]
          },
          "metadata": {},
          "execution_count": 23
        }
      ],
      "source": [
        "contentParagraphsDF['source'] = [wikipedia_content_analysis] * len(contentParagraphsDF['paragraph-text'])\n",
        "contentParagraphsDF['paragraph-number'] = range(len(contentParagraphsDF['paragraph-text']))\n",
        "\n",
        "contentParagraphsDF"
      ]
    },
    {
      "cell_type": "markdown",
      "metadata": {
        "id": "W4gwpoSiOmbC"
      },
      "source": [
        "Then we can add two more columns to our `Dataframe` and define a function to\n",
        "parse\n",
        "each linked page and add its text to our DataFrame."
      ]
    },
    {
      "cell_type": "code",
      "execution_count": 24,
      "metadata": {
        "id": "x4bPl7pHOmbD"
      },
      "outputs": [],
      "source": [
        "contentParagraphsDF['source-paragraph-number'] = [None] * len(contentParagraphsDF['paragraph-text'])\n",
        "contentParagraphsDF['source-paragraph-text'] = [None] * len(contentParagraphsDF['paragraph-text'])\n",
        "\n",
        "def getTextFromWikiPage(targetURL, sourceParNum, sourceText):\n",
        "    #Make a dict to store data before adding it to the DataFrame\n",
        "    parsDict = {'source' : [], 'paragraph-number' : [], 'paragraph-text' : [], 'source-paragraph-number' : [],  'source-paragraph-text' : []}\n",
        "    #Now we get the page\n",
        "    r = requests.get(targetURL)\n",
        "    soup = bs4.BeautifulSoup(r.text, 'html.parser')\n",
        "    #enumerating gives use the paragraph number\n",
        "    for parNum, pTag in enumerate(soup.body.findAll('p')):\n",
        "        #same regex as before\n",
        "        parsDict['paragraph-text'].append(re.sub(r'\\[\\d+\\]', '', pTag.text))\n",
        "        parsDict['paragraph-number'].append(parNum)\n",
        "        parsDict['source'].append(targetURL)\n",
        "        parsDict['source-paragraph-number'].append(sourceParNum)\n",
        "        parsDict['source-paragraph-text'].append(sourceText)\n",
        "    return pandas.DataFrame(parsDict)"
      ]
    },
    {
      "cell_type": "markdown",
      "metadata": {
        "id": "06YOrHrSOmbD"
      },
      "source": [
        "And run it on our list of link tags"
      ]
    },
    {
      "cell_type": "code",
      "execution_count": null,
      "metadata": {
        "id": "R_H3t8gtOmbD"
      },
      "outputs": [],
      "source": [
        "for urlTuple in otherPAgeURLS[:3]:\n",
        "    #ignore_index means the indices will not be reset after each append\n",
        "    contentParagraphsDF = contentParagraphsDF.append(getTextFromWikiPage(*urlTuple),ignore_index=True)\n",
        "contentParagraphsDF"
      ]
    },
    {
      "cell_type": "markdown",
      "metadata": {
        "id": "JFgBxV4LOmbD"
      },
      "source": [
        "\n",
        "# <font color=\"red\">Exercise 2</font>\n",
        "<font color=\"red\">Construct cells immediately below this that spider webcontent from another site with content relating to your anticipated final project. Specifically, identify urls on a core page, then follow and extract content from them into a pandas `Dataframe`. In addition, demonstrate a *recursive* spider, which follows more than one level of links (i.e., follows links from a site, then follows links on followed sites to new sites, etc.), making sure to define a reasonable endpoint so that you do not wander the web forever :-).</font>\n",
        "\n"
      ]
    },
    {
      "cell_type": "code",
      "source": [
        "baseurl = 'https://www.goodreads.com/quotes/'\n",
        "otherurls = []\n",
        "for i in enumerate(ContentSoup):\n",
        "    #hrefs that link to /quotes/ pages\n",
        "    Links = ContentSoup.findAll('a', href=re.compile('/quotes/'), class_=False)\n",
        "    for j in Links:\n",
        "        relurl = j.get('href')\n",
        "        linkText = j.text\n",
        "        otherurls.append((\n",
        "            urllib.parse.urljoin(wikipedia_base_url, relurl),\n",
        "            j,\n",
        "            linkText,\n",
        "        ))\n",
        "print(otherurls[:10])"
      ],
      "metadata": {
        "colab": {
          "base_uri": "https://localhost:8080/"
        },
        "id": "psHPw1Z0rert",
        "outputId": "9df5c9b7-80fc-4023-f10b-d765cbde2071"
      },
      "execution_count": 80,
      "outputs": [
        {
          "output_type": "stream",
          "name": "stdout",
          "text": [
            "[('https://en.wikipedia.org/quotes/tag/attributed-no-source', <a href=\"/quotes/tag/attributed-no-source\">attributed-no-source</a>, 'attributed-no-source'), ('https://en.wikipedia.org/quotes/tag/be-yourself', <a href=\"/quotes/tag/be-yourself\">be-yourself</a>, 'be-yourself'), ('https://en.wikipedia.org/quotes/tag/gilbert-perreira', <a href=\"/quotes/tag/gilbert-perreira\">gilbert-perreira</a>, 'gilbert-perreira'), ('https://en.wikipedia.org/quotes/tag/honesty', <a href=\"/quotes/tag/honesty\">honesty</a>, 'honesty'), ('https://en.wikipedia.org/quotes/tag/inspirational', <a href=\"/quotes/tag/inspirational\">inspirational</a>, 'inspirational'), ('https://en.wikipedia.org/quotes/tag/misattributed-oscar-wilde', <a href=\"/quotes/tag/misattributed-oscar-wilde\">misattributed-oscar-wilde</a>, 'misattributed-oscar-wilde'), ('https://en.wikipedia.org/quotes/tag/quote-investigator', <a href=\"/quotes/tag/quote-investigator\">quote-investigator</a>, 'quote-investigator'), ('https://en.wikipedia.org/quotes/tag/attributed-no-source', <a href=\"/quotes/tag/attributed-no-source\">attributed-no-source</a>, 'attributed-no-source'), ('https://en.wikipedia.org/quotes/tag/best', <a href=\"/quotes/tag/best\">best</a>, 'best'), ('https://en.wikipedia.org/quotes/tag/life', <a href=\"/quotes/tag/life\">life</a>, 'life')]\n"
          ]
        }
      ]
    },
    {
      "cell_type": "code",
      "source": [
        "quotesDF['source'] = [baseurl] * len(quotesDF['Quote'])\n",
        "quotesDF['source-text'] = [None] * len(quotesDF['Quote'])\n",
        "quotesDF['source-text'] = [None] * len(quotesDF['Quote'])\n",
        "quotesDF"
      ],
      "metadata": {
        "id": "tzLdtD-Cw8Ka"
      },
      "execution_count": null,
      "outputs": []
    },
    {
      "cell_type": "code",
      "source": [
        "def getText(targetURL, sourceParNum, sourceText):\n",
        "    parsDict = {'source' : [], 'text' : [], 'source-text' : []}\n",
        "    r = requests.get(targetURL)\n",
        "    soup = bs4.BeautifulSoup(r.text, 'html.parser')\n",
        "    for i in quotetext:\n",
        "        parsDict['text'].append(i.text.strip().split('\\n')[0])\n",
        "        parsDict['source'].append(targetURL)\n",
        "        parsDict['source-text'].append(sourceText)\n",
        "    return pandas.DataFrame(parsDict)\n",
        "\n",
        "for urlTuple in otherurls[:3]:\n",
        "    quotesDF = quotesDF.append(getText(*urlTuple),ignore_index=True)\n",
        "quotesDF"
      ],
      "metadata": {
        "colab": {
          "base_uri": "https://localhost:8080/",
          "height": 424
        },
        "id": "EnWbABBPyt2U",
        "outputId": "cfdf2530-4d22-498d-c6a5-9104873f4619"
      },
      "execution_count": 82,
      "outputs": [
        {
          "output_type": "execute_result",
          "data": {
            "text/html": [
              "\n",
              "  <div id=\"df-eaaf25da-ce4b-4f1f-b319-deb25202b2b0\">\n",
              "    <div class=\"colab-df-container\">\n",
              "      <div>\n",
              "<style scoped>\n",
              "    .dataframe tbody tr th:only-of-type {\n",
              "        vertical-align: middle;\n",
              "    }\n",
              "\n",
              "    .dataframe tbody tr th {\n",
              "        vertical-align: top;\n",
              "    }\n",
              "\n",
              "    .dataframe thead th {\n",
              "        text-align: right;\n",
              "    }\n",
              "</style>\n",
              "<table border=\"1\" class=\"dataframe\">\n",
              "  <thead>\n",
              "    <tr style=\"text-align: right;\">\n",
              "      <th></th>\n",
              "      <th>Quote</th>\n",
              "      <th>Author</th>\n",
              "      <th>source</th>\n",
              "      <th>source-text</th>\n",
              "      <th>text</th>\n",
              "    </tr>\n",
              "  </thead>\n",
              "  <tbody>\n",
              "    <tr>\n",
              "      <th>0</th>\n",
              "      <td>“Be yourself; everyone else is already taken.”</td>\n",
              "      <td>Oscar Wilde</td>\n",
              "      <td>https://www.goodreads.com/quotes/</td>\n",
              "      <td>None</td>\n",
              "      <td>NaN</td>\n",
              "    </tr>\n",
              "    <tr>\n",
              "      <th>1</th>\n",
              "      <td>“I'm selfish, impatient and a little insecure....</td>\n",
              "      <td>Marilyn Monroe</td>\n",
              "      <td>https://www.goodreads.com/quotes/</td>\n",
              "      <td>None</td>\n",
              "      <td>NaN</td>\n",
              "    </tr>\n",
              "    <tr>\n",
              "      <th>2</th>\n",
              "      <td>“Two things are infinite: the universe and hum...</td>\n",
              "      <td>Albert Einstein</td>\n",
              "      <td>https://www.goodreads.com/quotes/</td>\n",
              "      <td>None</td>\n",
              "      <td>NaN</td>\n",
              "    </tr>\n",
              "    <tr>\n",
              "      <th>3</th>\n",
              "      <td>“So many books, so little time.”</td>\n",
              "      <td>Frank Zappa</td>\n",
              "      <td>https://www.goodreads.com/quotes/</td>\n",
              "      <td>None</td>\n",
              "      <td>NaN</td>\n",
              "    </tr>\n",
              "    <tr>\n",
              "      <th>4</th>\n",
              "      <td>“A room without books is like a body without a...</td>\n",
              "      <td>Marcus Tullius Cicero</td>\n",
              "      <td>https://www.goodreads.com/quotes/</td>\n",
              "      <td>None</td>\n",
              "      <td>NaN</td>\n",
              "    </tr>\n",
              "    <tr>\n",
              "      <th>...</th>\n",
              "      <td>...</td>\n",
              "      <td>...</td>\n",
              "      <td>...</td>\n",
              "      <td>...</td>\n",
              "      <td>...</td>\n",
              "    </tr>\n",
              "    <tr>\n",
              "      <th>115</th>\n",
              "      <td>NaN</td>\n",
              "      <td>NaN</td>\n",
              "      <td>https://en.wikipedia.org/quotes/tag/gilbert-pe...</td>\n",
              "      <td>gilbert-perreira</td>\n",
              "      <td>“Here's to the crazy ones. The misfits. The re...</td>\n",
              "    </tr>\n",
              "    <tr>\n",
              "      <th>116</th>\n",
              "      <td>NaN</td>\n",
              "      <td>NaN</td>\n",
              "      <td>https://en.wikipedia.org/quotes/tag/gilbert-pe...</td>\n",
              "      <td>gilbert-perreira</td>\n",
              "      <td>“Insanity is doing the same thing, over and ov...</td>\n",
              "    </tr>\n",
              "    <tr>\n",
              "      <th>117</th>\n",
              "      <td>NaN</td>\n",
              "      <td>NaN</td>\n",
              "      <td>https://en.wikipedia.org/quotes/tag/gilbert-pe...</td>\n",
              "      <td>gilbert-perreira</td>\n",
              "      <td>“I believe that everything happens for a reaso...</td>\n",
              "    </tr>\n",
              "    <tr>\n",
              "      <th>118</th>\n",
              "      <td>NaN</td>\n",
              "      <td>NaN</td>\n",
              "      <td>https://en.wikipedia.org/quotes/tag/gilbert-pe...</td>\n",
              "      <td>gilbert-perreira</td>\n",
              "      <td>“Twenty years from now you will be more disapp...</td>\n",
              "    </tr>\n",
              "    <tr>\n",
              "      <th>119</th>\n",
              "      <td>NaN</td>\n",
              "      <td>NaN</td>\n",
              "      <td>https://en.wikipedia.org/quotes/tag/gilbert-pe...</td>\n",
              "      <td>gilbert-perreira</td>\n",
              "      <td>“It is better to be hated for what you are tha...</td>\n",
              "    </tr>\n",
              "  </tbody>\n",
              "</table>\n",
              "<p>120 rows × 5 columns</p>\n",
              "</div>\n",
              "      <button class=\"colab-df-convert\" onclick=\"convertToInteractive('df-eaaf25da-ce4b-4f1f-b319-deb25202b2b0')\"\n",
              "              title=\"Convert this dataframe to an interactive table.\"\n",
              "              style=\"display:none;\">\n",
              "        \n",
              "  <svg xmlns=\"http://www.w3.org/2000/svg\" height=\"24px\"viewBox=\"0 0 24 24\"\n",
              "       width=\"24px\">\n",
              "    <path d=\"M0 0h24v24H0V0z\" fill=\"none\"/>\n",
              "    <path d=\"M18.56 5.44l.94 2.06.94-2.06 2.06-.94-2.06-.94-.94-2.06-.94 2.06-2.06.94zm-11 1L8.5 8.5l.94-2.06 2.06-.94-2.06-.94L8.5 2.5l-.94 2.06-2.06.94zm10 10l.94 2.06.94-2.06 2.06-.94-2.06-.94-.94-2.06-.94 2.06-2.06.94z\"/><path d=\"M17.41 7.96l-1.37-1.37c-.4-.4-.92-.59-1.43-.59-.52 0-1.04.2-1.43.59L10.3 9.45l-7.72 7.72c-.78.78-.78 2.05 0 2.83L4 21.41c.39.39.9.59 1.41.59.51 0 1.02-.2 1.41-.59l7.78-7.78 2.81-2.81c.8-.78.8-2.07 0-2.86zM5.41 20L4 18.59l7.72-7.72 1.47 1.35L5.41 20z\"/>\n",
              "  </svg>\n",
              "      </button>\n",
              "      \n",
              "  <style>\n",
              "    .colab-df-container {\n",
              "      display:flex;\n",
              "      flex-wrap:wrap;\n",
              "      gap: 12px;\n",
              "    }\n",
              "\n",
              "    .colab-df-convert {\n",
              "      background-color: #E8F0FE;\n",
              "      border: none;\n",
              "      border-radius: 50%;\n",
              "      cursor: pointer;\n",
              "      display: none;\n",
              "      fill: #1967D2;\n",
              "      height: 32px;\n",
              "      padding: 0 0 0 0;\n",
              "      width: 32px;\n",
              "    }\n",
              "\n",
              "    .colab-df-convert:hover {\n",
              "      background-color: #E2EBFA;\n",
              "      box-shadow: 0px 1px 2px rgba(60, 64, 67, 0.3), 0px 1px 3px 1px rgba(60, 64, 67, 0.15);\n",
              "      fill: #174EA6;\n",
              "    }\n",
              "\n",
              "    [theme=dark] .colab-df-convert {\n",
              "      background-color: #3B4455;\n",
              "      fill: #D2E3FC;\n",
              "    }\n",
              "\n",
              "    [theme=dark] .colab-df-convert:hover {\n",
              "      background-color: #434B5C;\n",
              "      box-shadow: 0px 1px 3px 1px rgba(0, 0, 0, 0.15);\n",
              "      filter: drop-shadow(0px 1px 2px rgba(0, 0, 0, 0.3));\n",
              "      fill: #FFFFFF;\n",
              "    }\n",
              "  </style>\n",
              "\n",
              "      <script>\n",
              "        const buttonEl =\n",
              "          document.querySelector('#df-eaaf25da-ce4b-4f1f-b319-deb25202b2b0 button.colab-df-convert');\n",
              "        buttonEl.style.display =\n",
              "          google.colab.kernel.accessAllowed ? 'block' : 'none';\n",
              "\n",
              "        async function convertToInteractive(key) {\n",
              "          const element = document.querySelector('#df-eaaf25da-ce4b-4f1f-b319-deb25202b2b0');\n",
              "          const dataTable =\n",
              "            await google.colab.kernel.invokeFunction('convertToInteractive',\n",
              "                                                     [key], {});\n",
              "          if (!dataTable) return;\n",
              "\n",
              "          const docLinkHtml = 'Like what you see? Visit the ' +\n",
              "            '<a target=\"_blank\" href=https://colab.research.google.com/notebooks/data_table.ipynb>data table notebook</a>'\n",
              "            + ' to learn more about interactive tables.';\n",
              "          element.innerHTML = '';\n",
              "          dataTable['output_type'] = 'display_data';\n",
              "          await google.colab.output.renderOutput(dataTable, element);\n",
              "          const docLink = document.createElement('div');\n",
              "          docLink.innerHTML = docLinkHtml;\n",
              "          element.appendChild(docLink);\n",
              "        }\n",
              "      </script>\n",
              "    </div>\n",
              "  </div>\n",
              "  "
            ],
            "text/plain": [
              "                                                 Quote  ...                                               text\n",
              "0       “Be yourself; everyone else is already taken.”  ...                                                NaN\n",
              "1    “I'm selfish, impatient and a little insecure....  ...                                                NaN\n",
              "2    “Two things are infinite: the universe and hum...  ...                                                NaN\n",
              "3                     “So many books, so little time.”  ...                                                NaN\n",
              "4    “A room without books is like a body without a...  ...                                                NaN\n",
              "..                                                 ...  ...                                                ...\n",
              "115                                                NaN  ...  “Here's to the crazy ones. The misfits. The re...\n",
              "116                                                NaN  ...  “Insanity is doing the same thing, over and ov...\n",
              "117                                                NaN  ...  “I believe that everything happens for a reaso...\n",
              "118                                                NaN  ...  “Twenty years from now you will be more disapp...\n",
              "119                                                NaN  ...  “It is better to be hated for what you are tha...\n",
              "\n",
              "[120 rows x 5 columns]"
            ]
          },
          "metadata": {},
          "execution_count": 82
        }
      ]
    },
    {
      "cell_type": "markdown",
      "metadata": {
        "id": "dXtaSZCkOmbE"
      },
      "source": [
        "## API (Tumblr)\n",
        "\n",
        "Generally website owners do not like you scraping their sites. If done badly,\n",
        "scarping can act like a DOS attack so you should be careful how often you make\n",
        "calls to a site. Some sites want automated tools to access their data, so they\n",
        "create [application programming interface\n",
        "(APIs)](https://en.wikipedia.org/wiki/Application_programming_interface). An API\n",
        "specifies a procedure for an application (or script) to access their data. Often\n",
        "this is though a [representational state transfer\n",
        "(REST)](https://en.wikipedia.org/wiki/Representational_state_transfer) web\n",
        "service, which just means if you make correctly formatted HTTP requests they\n",
        "will return nicely formatted data.\n",
        "\n",
        "A nice example for us to study is [Tumblr](https://www.tumblr.com), they have a\n",
        "[simple RESTful API](https://www.tumblr.com/docs/en/api/v1) that allows you to\n",
        "read posts without any complicated html parsing.\n",
        "\n",
        "We can get the first 20 posts from a blog by making an http GET request to\n",
        "`'http://{blog}.tumblr.com/api/read/json'`, were `{blog}` is the name of the\n",
        "target blog. Lets try and get the posts from [http://lolcats-lol-\n",
        "cat.tumblr.com/](http://lolcats-lol-cat.tumblr.com/) (Note the blog says at the\n",
        "top 'One hour one pic lolcats', but the canonical name that Tumblr uses is in\n",
        "the URL 'lolcats-lol-cat')."
      ]
    },
    {
      "cell_type": "code",
      "execution_count": 83,
      "metadata": {
        "id": "MG5_q9A6OmbE",
        "colab": {
          "base_uri": "https://localhost:8080/"
        },
        "outputId": "070d865f-2070-4347-f808-35f04d3293ba"
      },
      "outputs": [
        {
          "output_type": "stream",
          "name": "stdout",
          "text": [
            "var tumblr_api_read = {\"tumblelog\":{\"title\":\"One hour one pic lolcats\",\"description\":\"\",\"name\":\"lolcats-lol-cat\",\"timezone\":\"Europe\\/Paris\",\"cname\":false,\"feeds\":[]},\"posts-start\":0,\"posts-total\":3925,\"posts-type\":false,\"posts\":[{\"id\":\"662815854023655425\",\"url\":\"https:\\/\\/lolcats-lol-cat.tumblr.com\\/post\\/662815854023655425\",\"url-with-slug\":\"https:\\/\\/lolcats-lol-cat.tumblr.com\\/post\\/662815854023655425\",\"type\":\"photo\",\"date-gmt\":\"2021-09-20 04:00:56 GMT\",\"date\":\"Mon, 20 Sep 2021 06:00:56\",\"bookmarklet\":0,\"mobile\":0,\"feed-item\":\"\",\"from-feed-id\":0,\"unix-timestamp\":1632110456,\"format\":\"html\",\"reblog-key\":\"kjH8cg34\",\"slug\":\"\",\"is-submission\":false,\"like-button\":\"<div class=\\\"like_button\\\" data-post-id=\\\"662815854023655425\\\" data-blog-name=\\\"lolcats-lol-cat\\\" id=\\\"like_button_662815854023655425\\\"><iframe id=\\\"like_iframe_662815854023655425\\\" src=\\\"https:\\/\\/assets.tumblr.com\\/assets\\/html\\/like_iframe.html?_v=66c22ab5319d742bca5762b8d18f9d06#name=lolcats-lol-cat&amp;post_id=66281585402365\n"
          ]
        }
      ],
      "source": [
        "tumblrAPItarget = 'http://{}.tumblr.com/api/read/json'\n",
        "\n",
        "r = requests.get(tumblrAPItarget.format('lolcats-lol-cat'))\n",
        "\n",
        "print(r.text[:1000])"
      ]
    },
    {
      "cell_type": "markdown",
      "metadata": {
        "id": "fUyJcV_BOmbF"
      },
      "source": [
        "This might not look very good on first inspection, but it has far fewer angle\n",
        "braces than html, which makes it easier to parse. What we have is\n",
        "[JSON](https://en.wikipedia.org/wiki/JSON) a 'human readable' text based data\n",
        "transmission format based on javascript. Luckily, we can readily convert it to a\n",
        "python `dict`."
      ]
    },
    {
      "cell_type": "code",
      "execution_count": 84,
      "metadata": {
        "id": "NAanoykvOmbF",
        "colab": {
          "base_uri": "https://localhost:8080/"
        },
        "outputId": "d833db64-3657-4a15-e8e6-87776a084b57"
      },
      "outputs": [
        {
          "output_type": "stream",
          "name": "stdout",
          "text": [
            "dict_keys(['tumblelog', 'posts-start', 'posts-total', 'posts-type', 'posts'])\n",
            "20\n"
          ]
        }
      ],
      "source": [
        "#We need to load only the stuff between the curly braces\n",
        "d = json.loads(r.text[len('var tumblr_api_read = '):-2])\n",
        "print(d.keys())\n",
        "print(len(d['posts']))"
      ]
    },
    {
      "cell_type": "markdown",
      "metadata": {
        "id": "qiJMc6rMOmbF"
      },
      "source": [
        "If we read the [API specification](https://www.tumblr.com/docs/en/api/v1), we\n",
        "will see there are a lot of things we can get if we add things to our GET\n",
        "request. First we can retrieve posts by their id number. Let's first get post\n",
        "`146020177084`."
      ]
    },
    {
      "cell_type": "code",
      "execution_count": 85,
      "metadata": {
        "id": "BwWjv6WHOmbG"
      },
      "outputs": [],
      "source": [
        "r = requests.get(tumblrAPItarget.format('lolcats-lol-cat'), params = {'id' : 146020177084})\n",
        "d = json.loads(r.text[len('var tumblr_api_read = '):-2])\n",
        "d['posts'][0].keys()\n",
        "d['posts'][0]['photo-url-1280']\n",
        "\n",
        "with open('lolcat.gif', 'wb') as f:\n",
        "    gifRequest = requests.get(d['posts'][0]['photo-url-1280'], stream = True)\n",
        "    f.write(gifRequest.content)"
      ]
    },
    {
      "cell_type": "markdown",
      "metadata": {
        "id": "J3RRqYt-OmbG"
      },
      "source": [
        "<img src='lolcat.gif'>\n",
        "\n",
        "Such beauty; such vigor (If you can't see it you have to refresh the page). Now\n",
        "we could retrieve the text from all posts as well\n",
        "as related metadata, like the post date, caption or tags. We could also get\n",
        "links to all the images."
      ]
    },
    {
      "cell_type": "code",
      "execution_count": 86,
      "metadata": {
        "id": "KM33Tbc4OmbG",
        "colab": {
          "base_uri": "https://localhost:8080/",
          "height": 0
        },
        "outputId": "dcf4c82b-9010-481b-a433-1190b848d17b"
      },
      "outputs": [
        {
          "output_type": "execute_result",
          "data": {
            "text/html": [
              "\n",
              "  <div id=\"df-c60be58f-94ec-4b81-9e8b-2ae817b68aac\">\n",
              "    <div class=\"colab-df-container\">\n",
              "      <div>\n",
              "<style scoped>\n",
              "    .dataframe tbody tr th:only-of-type {\n",
              "        vertical-align: middle;\n",
              "    }\n",
              "\n",
              "    .dataframe tbody tr th {\n",
              "        vertical-align: top;\n",
              "    }\n",
              "\n",
              "    .dataframe thead th {\n",
              "        text-align: right;\n",
              "    }\n",
              "</style>\n",
              "<table border=\"1\" class=\"dataframe\">\n",
              "  <thead>\n",
              "    <tr style=\"text-align: right;\">\n",
              "      <th></th>\n",
              "      <th>id</th>\n",
              "      <th>photo-url</th>\n",
              "      <th>date</th>\n",
              "      <th>tags</th>\n",
              "      <th>photo-type</th>\n",
              "    </tr>\n",
              "  </thead>\n",
              "  <tbody>\n",
              "    <tr>\n",
              "      <th>0</th>\n",
              "      <td>662815854023655425</td>\n",
              "      <td>https://64.media.tumblr.com/021eac8fbcafbb00a5...</td>\n",
              "      <td>Mon, 20 Sep 2021 06:00:56</td>\n",
              "      <td>[gif, lolcat, lolcats, cat, funny]</td>\n",
              "      <td>gif</td>\n",
              "    </tr>\n",
              "    <tr>\n",
              "      <th>1</th>\n",
              "      <td>662778109891952640</td>\n",
              "      <td>https://64.media.tumblr.com/8c0517adb8c71e4a3d...</td>\n",
              "      <td>Sun, 19 Sep 2021 20:01:00</td>\n",
              "      <td>[cat, cats, lol, lolcat, lolcats]</td>\n",
              "      <td>png</td>\n",
              "    </tr>\n",
              "    <tr>\n",
              "      <th>2</th>\n",
              "      <td>662657302700146688</td>\n",
              "      <td>https://64.media.tumblr.com/061d27cda309d5c809...</td>\n",
              "      <td>Sat, 18 Sep 2021 12:00:50</td>\n",
              "      <td>[cat, cats, lol, lolcat, lolcats]</td>\n",
              "      <td>jpg</td>\n",
              "    </tr>\n",
              "    <tr>\n",
              "      <th>3</th>\n",
              "      <td>662513901538246656</td>\n",
              "      <td>https://64.media.tumblr.com/80584a9d1ff4ddc4fc...</td>\n",
              "      <td>Thu, 16 Sep 2021 22:01:32</td>\n",
              "      <td>[cat, cats, lol, lolcat, lolcats]</td>\n",
              "      <td>png</td>\n",
              "    </tr>\n",
              "    <tr>\n",
              "      <th>4</th>\n",
              "      <td>662257177983090688</td>\n",
              "      <td>https://64.media.tumblr.com/893b320cd2e8970a20...</td>\n",
              "      <td>Tue, 14 Sep 2021 02:01:01</td>\n",
              "      <td>[cat, cats, lol, lolcat, lolcats]</td>\n",
              "      <td>jpg</td>\n",
              "    </tr>\n",
              "    <tr>\n",
              "      <th>5</th>\n",
              "      <td>662166591527698432</td>\n",
              "      <td>https://64.media.tumblr.com/c7f0a0a9184e480e15...</td>\n",
              "      <td>Mon, 13 Sep 2021 02:01:11</td>\n",
              "      <td>[cat, cats, lol, lolcat, lolcats]</td>\n",
              "      <td>jpg</td>\n",
              "    </tr>\n",
              "    <tr>\n",
              "      <th>6</th>\n",
              "      <td>662113740899090432</td>\n",
              "      <td>https://64.media.tumblr.com/07f7be7f71917a6049...</td>\n",
              "      <td>Sun, 12 Sep 2021 12:01:09</td>\n",
              "      <td>[cat, cats, lol, lolcat, lolcats]</td>\n",
              "      <td>jpg</td>\n",
              "    </tr>\n",
              "    <tr>\n",
              "      <th>7</th>\n",
              "      <td>661955166248026112</td>\n",
              "      <td>https://64.media.tumblr.com/205f030c48d31f8960...</td>\n",
              "      <td>Fri, 10 Sep 2021 18:00:40</td>\n",
              "      <td>[cat, cats, lol, lolcat, lolcats]</td>\n",
              "      <td>jpg</td>\n",
              "    </tr>\n",
              "    <tr>\n",
              "      <th>8</th>\n",
              "      <td>661894830378614784</td>\n",
              "      <td>https://64.media.tumblr.com/c463bff883fec2045b...</td>\n",
              "      <td>Fri, 10 Sep 2021 02:01:39</td>\n",
              "      <td>[cat, cats, lol, lolcat, lolcats]</td>\n",
              "      <td>png</td>\n",
              "    </tr>\n",
              "    <tr>\n",
              "      <th>9</th>\n",
              "      <td>661864596682964992</td>\n",
              "      <td>https://64.media.tumblr.com/b840ddb3aa2303206b...</td>\n",
              "      <td>Thu, 09 Sep 2021 18:01:06</td>\n",
              "      <td>[cat, cats, lol, lolcat, lolcats]</td>\n",
              "      <td>jpg</td>\n",
              "    </tr>\n",
              "    <tr>\n",
              "      <th>10</th>\n",
              "      <td>661826822696321024</td>\n",
              "      <td>https://64.media.tumblr.com/adc18e35b1844be41a...</td>\n",
              "      <td>Thu, 09 Sep 2021 08:00:42</td>\n",
              "      <td>[cat, cats, lol, lolcat, lolcats]</td>\n",
              "      <td>png</td>\n",
              "    </tr>\n",
              "    <tr>\n",
              "      <th>11</th>\n",
              "      <td>661804260632215552</td>\n",
              "      <td>https://64.media.tumblr.com/caae5b433ada6d6cb3...</td>\n",
              "      <td>Thu, 09 Sep 2021 02:02:05</td>\n",
              "      <td>[cat, cats, lol, lolcat, lolcats]</td>\n",
              "      <td>png</td>\n",
              "    </tr>\n",
              "    <tr>\n",
              "      <th>12</th>\n",
              "      <td>661766453508407296</td>\n",
              "      <td>https://64.media.tumblr.com/9d8cf92208aec32b93...</td>\n",
              "      <td>Wed, 08 Sep 2021 16:01:10</td>\n",
              "      <td>[cat, cats, lol, lolcat, lolcats]</td>\n",
              "      <td>jpg</td>\n",
              "    </tr>\n",
              "    <tr>\n",
              "      <th>13</th>\n",
              "      <td>661623017704685568</td>\n",
              "      <td>https://64.media.tumblr.com/4a5ae6732ab54227a4...</td>\n",
              "      <td>Tue, 07 Sep 2021 02:01:19</td>\n",
              "      <td>[cat, cats, lol, lolcat, lolcats]</td>\n",
              "      <td>jpg</td>\n",
              "    </tr>\n",
              "    <tr>\n",
              "      <th>14</th>\n",
              "      <td>661555057316298752</td>\n",
              "      <td>https://64.media.tumblr.com/c92a31829a6d88381e...</td>\n",
              "      <td>Mon, 06 Sep 2021 08:01:07</td>\n",
              "      <td>[cat, cats, lol, lolcat, lolcats]</td>\n",
              "      <td>jpg</td>\n",
              "    </tr>\n",
              "    <tr>\n",
              "      <th>15</th>\n",
              "      <td>661509804401065984</td>\n",
              "      <td>https://64.media.tumblr.com/2653be7b6e3a8efb9e...</td>\n",
              "      <td>Sun, 05 Sep 2021 20:01:50</td>\n",
              "      <td>[cat, cats, lol, lolcat, lolcats]</td>\n",
              "      <td>png</td>\n",
              "    </tr>\n",
              "    <tr>\n",
              "      <th>16</th>\n",
              "      <td>661411625970106368</td>\n",
              "      <td>https://64.media.tumblr.com/e508b4d0fcc083750b...</td>\n",
              "      <td>Sat, 04 Sep 2021 18:01:20</td>\n",
              "      <td>[cat, cats, lol, lolcat, lolcats]</td>\n",
              "      <td>jpg</td>\n",
              "    </tr>\n",
              "    <tr>\n",
              "      <th>17</th>\n",
              "      <td>661260621178945536</td>\n",
              "      <td>https://64.media.tumblr.com/28e64b8d19014a4c98...</td>\n",
              "      <td>Fri, 03 Sep 2021 02:01:10</td>\n",
              "      <td>[cat, cats, lol, lolcat, lolcats]</td>\n",
              "      <td>png</td>\n",
              "    </tr>\n",
              "    <tr>\n",
              "      <th>18</th>\n",
              "      <td>661177569862991872</td>\n",
              "      <td>https://64.media.tumblr.com/9ffadbe3e1d5fb20f8...</td>\n",
              "      <td>Thu, 02 Sep 2021 04:01:06</td>\n",
              "      <td>[cat, cats, lol, lolcat, lolcats]</td>\n",
              "      <td>png</td>\n",
              "    </tr>\n",
              "    <tr>\n",
              "      <th>19</th>\n",
              "      <td>661154964805140480</td>\n",
              "      <td>https://64.media.tumblr.com/27dce173c9e6cf3f05...</td>\n",
              "      <td>Wed, 01 Sep 2021 22:01:49</td>\n",
              "      <td>[cat, cats, lol, lolcat, lolcats]</td>\n",
              "      <td>jpg</td>\n",
              "    </tr>\n",
              "    <tr>\n",
              "      <th>20</th>\n",
              "      <td>660988818837651457</td>\n",
              "      <td>https://64.media.tumblr.com/02db958e8649c04d19...</td>\n",
              "      <td>Tue, 31 Aug 2021 02:00:59</td>\n",
              "      <td>[cat, cats, lol, lolcat, lolcats]</td>\n",
              "      <td>jpg</td>\n",
              "    </tr>\n",
              "    <tr>\n",
              "      <th>21</th>\n",
              "      <td>660935942249578496</td>\n",
              "      <td>https://64.media.tumblr.com/80b5d0f3c5636990b9...</td>\n",
              "      <td>Mon, 30 Aug 2021 12:00:32</td>\n",
              "      <td>[cat, cats, lol, lolcat, lolcats]</td>\n",
              "      <td>jpg</td>\n",
              "    </tr>\n",
              "    <tr>\n",
              "      <th>22</th>\n",
              "      <td>660905765646843905</td>\n",
              "      <td>https://64.media.tumblr.com/a2eb4c91986a0c1e23...</td>\n",
              "      <td>Mon, 30 Aug 2021 04:00:54</td>\n",
              "      <td>[cat, cats, lol, lolcat, lolcats]</td>\n",
              "      <td>jpg</td>\n",
              "    </tr>\n",
              "    <tr>\n",
              "      <th>23</th>\n",
              "      <td>660898202755661824</td>\n",
              "      <td>https://64.media.tumblr.com/061d27cda309d5c809...</td>\n",
              "      <td>Mon, 30 Aug 2021 02:00:41</td>\n",
              "      <td>[cat, cats, lol, lolcat, lolcats]</td>\n",
              "      <td>jpg</td>\n",
              "    </tr>\n",
              "    <tr>\n",
              "      <th>24</th>\n",
              "      <td>660883122996576256</td>\n",
              "      <td>https://64.media.tumblr.com/2d1137cbf0dbe21d8b...</td>\n",
              "      <td>Sun, 29 Aug 2021 22:01:00</td>\n",
              "      <td>[cat, cats, lol, lolcat, lolcats]</td>\n",
              "      <td>png</td>\n",
              "    </tr>\n",
              "    <tr>\n",
              "      <th>25</th>\n",
              "      <td>660732105459924992</td>\n",
              "      <td>https://64.media.tumblr.com/cccbbc09b009b581a9...</td>\n",
              "      <td>Sat, 28 Aug 2021 06:00:38</td>\n",
              "      <td>[cat, cats, lol, lolcat, lolcats]</td>\n",
              "      <td>jpg</td>\n",
              "    </tr>\n",
              "    <tr>\n",
              "      <th>26</th>\n",
              "      <td>660475424163364864</td>\n",
              "      <td>https://64.media.tumblr.com/9d700e79b1615fac2f...</td>\n",
              "      <td>Wed, 25 Aug 2021 10:00:48</td>\n",
              "      <td>[cat, cats, lol, lolcat, lolcats]</td>\n",
              "      <td>jpg</td>\n",
              "    </tr>\n",
              "    <tr>\n",
              "      <th>27</th>\n",
              "      <td>660324431590277120</td>\n",
              "      <td>https://64.media.tumblr.com/7cc2c0f675bc099be4...</td>\n",
              "      <td>Mon, 23 Aug 2021 18:00:50</td>\n",
              "      <td>[cat, cats, lol, lolcat, lolcats]</td>\n",
              "      <td>png</td>\n",
              "    </tr>\n",
              "    <tr>\n",
              "      <th>28</th>\n",
              "      <td>660196106964221952</td>\n",
              "      <td>https://64.media.tumblr.com/c024195387a46a6f77...</td>\n",
              "      <td>Sun, 22 Aug 2021 08:01:10</td>\n",
              "      <td>[cat, cats, lol, lolcat, lolcats]</td>\n",
              "      <td>png</td>\n",
              "    </tr>\n",
              "    <tr>\n",
              "      <th>29</th>\n",
              "      <td>660143257603506176</td>\n",
              "      <td>https://64.media.tumblr.com/fdf46563a9b09ec147...</td>\n",
              "      <td>Sat, 21 Aug 2021 18:01:09</td>\n",
              "      <td>[cat, cats, lol, lolcat, lolcats]</td>\n",
              "      <td>jpg</td>\n",
              "    </tr>\n",
              "    <tr>\n",
              "      <th>30</th>\n",
              "      <td>660060193333346304</td>\n",
              "      <td>https://64.media.tumblr.com/4183c34ae67f92f290...</td>\n",
              "      <td>Fri, 20 Aug 2021 20:00:53</td>\n",
              "      <td>[cat, cats, lol, lolcat, lolcats]</td>\n",
              "      <td>jpg</td>\n",
              "    </tr>\n",
              "    <tr>\n",
              "      <th>31</th>\n",
              "      <td>659743087466332160</td>\n",
              "      <td>https://64.media.tumblr.com/01c63fcc1d5fc2e0e0...</td>\n",
              "      <td>Tue, 17 Aug 2021 08:00:37</td>\n",
              "      <td>[cat, cats, lol, lolcat, lolcats]</td>\n",
              "      <td>png</td>\n",
              "    </tr>\n",
              "    <tr>\n",
              "      <th>32</th>\n",
              "      <td>659705393411391488</td>\n",
              "      <td>https://64.media.tumblr.com/42a1477d18728fb088...</td>\n",
              "      <td>Mon, 16 Aug 2021 22:01:30</td>\n",
              "      <td>[cat, cats, lol, lolcat, lolcats]</td>\n",
              "      <td>png</td>\n",
              "    </tr>\n",
              "    <tr>\n",
              "      <th>33</th>\n",
              "      <td>659660051218317312</td>\n",
              "      <td>https://64.media.tumblr.com/a4392b133ed186fad8...</td>\n",
              "      <td>Mon, 16 Aug 2021 10:00:48</td>\n",
              "      <td>[cat, cats, lol, lolcat, lolcats]</td>\n",
              "      <td>jpg</td>\n",
              "    </tr>\n",
              "    <tr>\n",
              "      <th>34</th>\n",
              "      <td>659539266591981568</td>\n",
              "      <td>https://64.media.tumblr.com/9024bc51ad17d40b80...</td>\n",
              "      <td>Sun, 15 Aug 2021 02:00:59</td>\n",
              "      <td>[cat, cats, lol, lolcat, lolcats]</td>\n",
              "      <td>jpg</td>\n",
              "    </tr>\n",
              "    <tr>\n",
              "      <th>35</th>\n",
              "      <td>659509078641557504</td>\n",
              "      <td>https://64.media.tumblr.com/12afb1b79928488a1a...</td>\n",
              "      <td>Sat, 14 Aug 2021 18:01:09</td>\n",
              "      <td>[cat, cats, lol, lolcat, lolcats]</td>\n",
              "      <td>png</td>\n",
              "    </tr>\n",
              "    <tr>\n",
              "      <th>36</th>\n",
              "      <td>659342999892967424</td>\n",
              "      <td>https://64.media.tumblr.com/29a90b59498d9ae55f...</td>\n",
              "      <td>Thu, 12 Aug 2021 22:01:24</td>\n",
              "      <td>[cat, cats, lol, lolcat, lolcats]</td>\n",
              "      <td>jpg</td>\n",
              "    </tr>\n",
              "    <tr>\n",
              "      <th>37</th>\n",
              "      <td>659108907014356992</td>\n",
              "      <td>https://64.media.tumblr.com/7a11be8b9524535da2...</td>\n",
              "      <td>Tue, 10 Aug 2021 08:00:36</td>\n",
              "      <td>[cat, cats, lol, lolcat, lolcats]</td>\n",
              "      <td>jpg</td>\n",
              "    </tr>\n",
              "    <tr>\n",
              "      <th>38</th>\n",
              "      <td>658867320238850049</td>\n",
              "      <td>https://64.media.tumblr.com/bf7efc7edad65675ad...</td>\n",
              "      <td>Sat, 07 Aug 2021 16:00:41</td>\n",
              "      <td>[cat, cats, lol, lolcat, lolcats]</td>\n",
              "      <td>jpg</td>\n",
              "    </tr>\n",
              "    <tr>\n",
              "      <th>39</th>\n",
              "      <td>658844675622453248</td>\n",
              "      <td>https://64.media.tumblr.com/c2b58415fe3fed86a2...</td>\n",
              "      <td>Sat, 07 Aug 2021 10:00:45</td>\n",
              "      <td>[cat, cats, lol, lolcat, lolcats]</td>\n",
              "      <td>jpg</td>\n",
              "    </tr>\n",
              "    <tr>\n",
              "      <th>40</th>\n",
              "      <td>658814510935769088</td>\n",
              "      <td>https://64.media.tumblr.com/d70155b2bdd5763cca...</td>\n",
              "      <td>Sat, 07 Aug 2021 02:01:18</td>\n",
              "      <td>[cat, cats, lol, lolcat, lolcats]</td>\n",
              "      <td>jpg</td>\n",
              "    </tr>\n",
              "    <tr>\n",
              "      <th>41</th>\n",
              "      <td>658338845753999360</td>\n",
              "      <td>https://64.media.tumblr.com/1fca341b03f832d679...</td>\n",
              "      <td>Sun, 01 Aug 2021 20:00:48</td>\n",
              "      <td>[cat, cats, lol, lolcat, lolcats]</td>\n",
              "      <td>png</td>\n",
              "    </tr>\n",
              "    <tr>\n",
              "      <th>42</th>\n",
              "      <td>658225598089609217</td>\n",
              "      <td>https://64.media.tumblr.com/07aad399cc881a2399...</td>\n",
              "      <td>Sat, 31 Jul 2021 14:00:47</td>\n",
              "      <td>[cat, cats, lol, lolcat, lolcats]</td>\n",
              "      <td>jpg</td>\n",
              "    </tr>\n",
              "    <tr>\n",
              "      <th>43</th>\n",
              "      <td>658210575863742464</td>\n",
              "      <td>https://64.media.tumblr.com/d5b0639155ee97c854...</td>\n",
              "      <td>Sat, 31 Jul 2021 10:02:00</td>\n",
              "      <td>[cat, cats, lol, lolcat, lolcats]</td>\n",
              "      <td>jpg</td>\n",
              "    </tr>\n",
              "    <tr>\n",
              "      <th>44</th>\n",
              "      <td>658165190497583104</td>\n",
              "      <td>https://64.media.tumblr.com/ea6ad0eae613c5f60f...</td>\n",
              "      <td>Fri, 30 Jul 2021 22:00:38</td>\n",
              "      <td>[gif, lolcat, lolcats, cat, funny]</td>\n",
              "      <td>gif</td>\n",
              "    </tr>\n",
              "    <tr>\n",
              "      <th>45</th>\n",
              "      <td>657946256220536832</td>\n",
              "      <td>https://64.media.tumblr.com/16cf3a5e394112f7d0...</td>\n",
              "      <td>Wed, 28 Jul 2021 12:00:46</td>\n",
              "      <td>[cat, cats, lol, lolcat, lolcats]</td>\n",
              "      <td>jpg</td>\n",
              "    </tr>\n",
              "    <tr>\n",
              "      <th>46</th>\n",
              "      <td>657931173576704000</td>\n",
              "      <td>https://64.media.tumblr.com/2b7dfb6b1677079a45...</td>\n",
              "      <td>Wed, 28 Jul 2021 08:01:02</td>\n",
              "      <td>[cat, cats, lol, lolcat, lolcats]</td>\n",
              "      <td>jpg</td>\n",
              "    </tr>\n",
              "    <tr>\n",
              "      <th>47</th>\n",
              "      <td>657312093673078784</td>\n",
              "      <td>https://64.media.tumblr.com/17fe9380eed8516e45...</td>\n",
              "      <td>Wed, 21 Jul 2021 12:01:01</td>\n",
              "      <td>[cat, cats, lol, lolcat, lolcats]</td>\n",
              "      <td>png</td>\n",
              "    </tr>\n",
              "    <tr>\n",
              "      <th>48</th>\n",
              "      <td>656677912834195456</td>\n",
              "      <td>https://64.media.tumblr.com/7c4e668dc5eb0e89ed...</td>\n",
              "      <td>Wed, 14 Jul 2021 12:00:59</td>\n",
              "      <td>[cat, cats, lol, lolcat, lolcats]</td>\n",
              "      <td>jpg</td>\n",
              "    </tr>\n",
              "    <tr>\n",
              "      <th>49</th>\n",
              "      <td>656647679801212928</td>\n",
              "      <td>https://64.media.tumblr.com/f411261fd1e6911697...</td>\n",
              "      <td>Wed, 14 Jul 2021 04:00:27</td>\n",
              "      <td>[cat, cats, lol, lolcat, lolcats]</td>\n",
              "      <td>jpg</td>\n",
              "    </tr>\n",
              "  </tbody>\n",
              "</table>\n",
              "</div>\n",
              "      <button class=\"colab-df-convert\" onclick=\"convertToInteractive('df-c60be58f-94ec-4b81-9e8b-2ae817b68aac')\"\n",
              "              title=\"Convert this dataframe to an interactive table.\"\n",
              "              style=\"display:none;\">\n",
              "        \n",
              "  <svg xmlns=\"http://www.w3.org/2000/svg\" height=\"24px\"viewBox=\"0 0 24 24\"\n",
              "       width=\"24px\">\n",
              "    <path d=\"M0 0h24v24H0V0z\" fill=\"none\"/>\n",
              "    <path d=\"M18.56 5.44l.94 2.06.94-2.06 2.06-.94-2.06-.94-.94-2.06-.94 2.06-2.06.94zm-11 1L8.5 8.5l.94-2.06 2.06-.94-2.06-.94L8.5 2.5l-.94 2.06-2.06.94zm10 10l.94 2.06.94-2.06 2.06-.94-2.06-.94-.94-2.06-.94 2.06-2.06.94z\"/><path d=\"M17.41 7.96l-1.37-1.37c-.4-.4-.92-.59-1.43-.59-.52 0-1.04.2-1.43.59L10.3 9.45l-7.72 7.72c-.78.78-.78 2.05 0 2.83L4 21.41c.39.39.9.59 1.41.59.51 0 1.02-.2 1.41-.59l7.78-7.78 2.81-2.81c.8-.78.8-2.07 0-2.86zM5.41 20L4 18.59l7.72-7.72 1.47 1.35L5.41 20z\"/>\n",
              "  </svg>\n",
              "      </button>\n",
              "      \n",
              "  <style>\n",
              "    .colab-df-container {\n",
              "      display:flex;\n",
              "      flex-wrap:wrap;\n",
              "      gap: 12px;\n",
              "    }\n",
              "\n",
              "    .colab-df-convert {\n",
              "      background-color: #E8F0FE;\n",
              "      border: none;\n",
              "      border-radius: 50%;\n",
              "      cursor: pointer;\n",
              "      display: none;\n",
              "      fill: #1967D2;\n",
              "      height: 32px;\n",
              "      padding: 0 0 0 0;\n",
              "      width: 32px;\n",
              "    }\n",
              "\n",
              "    .colab-df-convert:hover {\n",
              "      background-color: #E2EBFA;\n",
              "      box-shadow: 0px 1px 2px rgba(60, 64, 67, 0.3), 0px 1px 3px 1px rgba(60, 64, 67, 0.15);\n",
              "      fill: #174EA6;\n",
              "    }\n",
              "\n",
              "    [theme=dark] .colab-df-convert {\n",
              "      background-color: #3B4455;\n",
              "      fill: #D2E3FC;\n",
              "    }\n",
              "\n",
              "    [theme=dark] .colab-df-convert:hover {\n",
              "      background-color: #434B5C;\n",
              "      box-shadow: 0px 1px 3px 1px rgba(0, 0, 0, 0.15);\n",
              "      filter: drop-shadow(0px 1px 2px rgba(0, 0, 0, 0.3));\n",
              "      fill: #FFFFFF;\n",
              "    }\n",
              "  </style>\n",
              "\n",
              "      <script>\n",
              "        const buttonEl =\n",
              "          document.querySelector('#df-c60be58f-94ec-4b81-9e8b-2ae817b68aac button.colab-df-convert');\n",
              "        buttonEl.style.display =\n",
              "          google.colab.kernel.accessAllowed ? 'block' : 'none';\n",
              "\n",
              "        async function convertToInteractive(key) {\n",
              "          const element = document.querySelector('#df-c60be58f-94ec-4b81-9e8b-2ae817b68aac');\n",
              "          const dataTable =\n",
              "            await google.colab.kernel.invokeFunction('convertToInteractive',\n",
              "                                                     [key], {});\n",
              "          if (!dataTable) return;\n",
              "\n",
              "          const docLinkHtml = 'Like what you see? Visit the ' +\n",
              "            '<a target=\"_blank\" href=https://colab.research.google.com/notebooks/data_table.ipynb>data table notebook</a>'\n",
              "            + ' to learn more about interactive tables.';\n",
              "          element.innerHTML = '';\n",
              "          dataTable['output_type'] = 'display_data';\n",
              "          await google.colab.output.renderOutput(dataTable, element);\n",
              "          const docLink = document.createElement('div');\n",
              "          docLink.innerHTML = docLinkHtml;\n",
              "          element.appendChild(docLink);\n",
              "        }\n",
              "      </script>\n",
              "    </div>\n",
              "  </div>\n",
              "  "
            ],
            "text/plain": [
              "                    id  ... photo-type\n",
              "0   662815854023655425  ...        gif\n",
              "1   662778109891952640  ...        png\n",
              "2   662657302700146688  ...        jpg\n",
              "3   662513901538246656  ...        png\n",
              "4   662257177983090688  ...        jpg\n",
              "5   662166591527698432  ...        jpg\n",
              "6   662113740899090432  ...        jpg\n",
              "7   661955166248026112  ...        jpg\n",
              "8   661894830378614784  ...        png\n",
              "9   661864596682964992  ...        jpg\n",
              "10  661826822696321024  ...        png\n",
              "11  661804260632215552  ...        png\n",
              "12  661766453508407296  ...        jpg\n",
              "13  661623017704685568  ...        jpg\n",
              "14  661555057316298752  ...        jpg\n",
              "15  661509804401065984  ...        png\n",
              "16  661411625970106368  ...        jpg\n",
              "17  661260621178945536  ...        png\n",
              "18  661177569862991872  ...        png\n",
              "19  661154964805140480  ...        jpg\n",
              "20  660988818837651457  ...        jpg\n",
              "21  660935942249578496  ...        jpg\n",
              "22  660905765646843905  ...        jpg\n",
              "23  660898202755661824  ...        jpg\n",
              "24  660883122996576256  ...        png\n",
              "25  660732105459924992  ...        jpg\n",
              "26  660475424163364864  ...        jpg\n",
              "27  660324431590277120  ...        png\n",
              "28  660196106964221952  ...        png\n",
              "29  660143257603506176  ...        jpg\n",
              "30  660060193333346304  ...        jpg\n",
              "31  659743087466332160  ...        png\n",
              "32  659705393411391488  ...        png\n",
              "33  659660051218317312  ...        jpg\n",
              "34  659539266591981568  ...        jpg\n",
              "35  659509078641557504  ...        png\n",
              "36  659342999892967424  ...        jpg\n",
              "37  659108907014356992  ...        jpg\n",
              "38  658867320238850049  ...        jpg\n",
              "39  658844675622453248  ...        jpg\n",
              "40  658814510935769088  ...        jpg\n",
              "41  658338845753999360  ...        png\n",
              "42  658225598089609217  ...        jpg\n",
              "43  658210575863742464  ...        jpg\n",
              "44  658165190497583104  ...        gif\n",
              "45  657946256220536832  ...        jpg\n",
              "46  657931173576704000  ...        jpg\n",
              "47  657312093673078784  ...        png\n",
              "48  656677912834195456  ...        jpg\n",
              "49  656647679801212928  ...        jpg\n",
              "\n",
              "[50 rows x 5 columns]"
            ]
          },
          "metadata": {},
          "execution_count": 86
        }
      ],
      "source": [
        "#Putting a max in case the blog has millions of images\n",
        "#The given max will be rounded up to the nearest multiple of 50\n",
        "def tumblrImageScrape(blogName, maxImages = 200):\n",
        "    #Restating this here so the function isn't dependent on any external variables\n",
        "    tumblrAPItarget = 'http://{}.tumblr.com/api/read/json'\n",
        "\n",
        "    #There are a bunch of possible locations for the photo url\n",
        "    possiblePhotoSuffixes = [1280, 500, 400, 250, 100]\n",
        "\n",
        "    #These are the pieces of information we will be gathering,\n",
        "    #at the end we will convert this to a DataFrame.\n",
        "    #There are a few other datums we could gather like the captions\n",
        "    #you can read the Tumblr documentation to learn how to get them\n",
        "    #https://www.tumblr.com/docs/en/api/v1\n",
        "    postsData = {\n",
        "        'id' : [],\n",
        "        'photo-url' : [],\n",
        "        'date' : [],\n",
        "        'tags' : [],\n",
        "        'photo-type' : []\n",
        "    }\n",
        "\n",
        "    #Tumblr limits us to a max of 50 posts per request\n",
        "    for requestNum in range(maxImages // 50):\n",
        "        requestParams = {\n",
        "            'start' : requestNum * 50,\n",
        "            'num' : 50,\n",
        "            'type' : 'photo'\n",
        "        }\n",
        "        r = requests.get(tumblrAPItarget.format(blogName), params = requestParams)\n",
        "        requestDict = json.loads(r.text[len('var tumblr_api_read = '):-2])\n",
        "        for postDict in requestDict['posts']:\n",
        "            #We are dealing with uncleaned data, we can't trust it.\n",
        "            #Specifically, not all posts are guaranteed to have the fields we want\n",
        "            try:\n",
        "                postsData['id'].append(postDict['id'])\n",
        "                postsData['date'].append(postDict['date'])\n",
        "                postsData['tags'].append(postDict['tags'])\n",
        "            except KeyError as e:\n",
        "                raise KeyError(\"Post {} from {} is missing: {}\".format(postDict['id'], blogName, e))\n",
        "\n",
        "            foundSuffix = False\n",
        "            for suffix in possiblePhotoSuffixes:\n",
        "                try:\n",
        "                    photoURL = postDict['photo-url-{}'.format(suffix)]\n",
        "                    postsData['photo-url'].append(photoURL)\n",
        "                    postsData['photo-type'].append(photoURL.split('.')[-1])\n",
        "                    foundSuffix = True\n",
        "                    break\n",
        "                except KeyError:\n",
        "                    pass\n",
        "            if not foundSuffix:\n",
        "                #Make sure your error messages are useful\n",
        "                #You will be one of the users\n",
        "                raise KeyError(\"Post {} from {} is missing a photo url\".format(postDict['id'], blogName))\n",
        "\n",
        "    return pandas.DataFrame(postsData)\n",
        "tumblrImageScrape('lolcats-lol-cat', 50)"
      ]
    },
    {
      "cell_type": "markdown",
      "metadata": {
        "id": "CswLIJBZOmbH"
      },
      "source": [
        "Now we have the urls of a bunch of images and can run OCR on them to gather\n",
        "compelling meme narratives, accompanied by cats.\n",
        "\n",
        "# Files\n",
        "\n",
        "What if the text we want isn't on a webpage? There are a many other sources of\n",
        "text available, typically organized into *files*.\n",
        "\n",
        "## Raw text (and encoding)\n",
        "\n",
        "The most basic form of storing text is as a _raw text_ document. Source code\n",
        "(`.py`, `.r`, etc) is usually raw text as are text files (`.txt`) and those with\n",
        "many other extension (e.g., .csv, .dat, etc.). Opening an unknown file with a\n",
        "text editor is often a great way of learning what the file is.\n",
        "\n",
        "We can create a text file in python with the `open()` function"
      ]
    },
    {
      "cell_type": "code",
      "execution_count": 31,
      "metadata": {
        "id": "iqMbyp3oOmbH"
      },
      "outputs": [],
      "source": [
        "#example_text_file = 'sometextfile.txt'\n",
        "#stringToWrite = 'A line\\nAnother line\\nA line with a few unusual symbols \\u2421 \\u241B \\u20A0 \\u20A1 \\u20A2 \\u20A3 \\u0D60\\n'\n",
        "stringToWrite = 'A line\\nAnother line\\nA line with a few unusual symbols ␡ ␛ ₠ ₡ ₢ ₣ ൠ\\n'\n",
        "\n",
        "with open(example_text_file, mode = 'w', encoding='utf-8') as f:\n",
        "    f.write(stringToWrite)"
      ]
    },
    {
      "cell_type": "markdown",
      "metadata": {
        "id": "9ezVCruFOmbH"
      },
      "source": [
        "Notice the `encoding='utf-8'` argument, which specifies how we map the bits from\n",
        "the file to the glyphs (and whitespace characters like tab (`'\\t'`) or newline\n",
        "(`'\\n'`)) on the screen. When dealing only with latin letters, arabic numerals\n",
        "and the other symbols on America keyboards you usually do not have to worry\n",
        "about encodings as the ones used today are backwards compatible with\n",
        "[ASCII](https://en.wikipedia.org/wiki/ASCII), which gives the binary\n",
        "representation of 128 characters.\n",
        "\n",
        "Some of you, however, will want to use other characters (e.g., Chinese\n",
        "characters). To solve this there is\n",
        "[Unicode](https://en.wikipedia.org/wiki/Unicode) which assigns numbers to\n",
        "symbols, e.g., 041 is `'A'` and 03A3 is `'Σ'` (numbers starting with 0 are\n",
        "hexadecimal). Often non/beyond-ASCII characters are called Unicode characters.\n",
        "Unicode contains 1,114,112 characters, about 10\\% of which have been assigned.\n",
        "Unfortunately there are many ways used to map combinations of bits to Unicode\n",
        "symbols. The ones you are likely to encounter are called by Python _utf-8_,\n",
        "_utf-16_ and _latin-1_. _utf-8_ is the standard for Linux and Mac OS while both\n",
        "_utf-16_ and _latin-1_ are used by windows. If you use the wrong encoding,\n",
        "characters can appear wrong, sometimes change in number or Python could raise an\n",
        "exception. Lets see what happens when we open the file we just created with\n",
        "different encodings."
      ]
    },
    {
      "cell_type": "code",
      "execution_count": 32,
      "metadata": {
        "id": "FNSzFZkUOmbI",
        "colab": {
          "base_uri": "https://localhost:8080/"
        },
        "outputId": "220839f2-eff9-44b0-ffda-82e2afbc31e3"
      },
      "outputs": [
        {
          "output_type": "stream",
          "name": "stdout",
          "text": [
            "This is with the correct encoding:\n",
            "A line\n",
            "Another line\n",
            "A line with a few unusual symbols ␡ ␛ ₠ ₡ ₢ ₣ ൠ\n",
            "\n",
            "This is with the wrong encoding:\n",
            "A line\n",
            "Another line\n",
            "A line with a few unusual symbols â¡ â â  â¡ â¢ â£ àµ \n",
            "\n"
          ]
        }
      ],
      "source": [
        "with open(example_text_file, encoding='utf-8') as f:\n",
        "    print(\"This is with the correct encoding:\")\n",
        "    print(f.read())\n",
        "\n",
        "with open(example_text_file, encoding='latin-1') as f:\n",
        "    print(\"This is with the wrong encoding:\")\n",
        "    print(f.read())"
      ]
    },
    {
      "cell_type": "markdown",
      "metadata": {
        "id": "bw8ytOqgOmbI"
      },
      "source": [
        "Notice that with _latin-1_ the unicode characters are mixed up and there are too\n",
        "many of them. You need to keep in mind encoding when obtaining text files.\n",
        "Determining the encoding can sometime involve substantial work."
      ]
    },
    {
      "cell_type": "markdown",
      "metadata": {
        "id": "bbfdy4vGOmbI"
      },
      "source": [
        "We can also load many text files at once. Lets start by looking at the Shakespeare files in the `data` directory "
      ]
    },
    {
      "cell_type": "code",
      "execution_count": 33,
      "metadata": {
        "id": "sjLJ-XecOmbI",
        "colab": {
          "base_uri": "https://localhost:8080/",
          "height": 201
        },
        "outputId": "9e5abf0f-5cf0-4eed-d63b-32604cebc2b5"
      },
      "outputs": [
        {
          "output_type": "error",
          "ename": "FileNotFoundError",
          "evalue": "ignored",
          "traceback": [
            "\u001b[0;31m---------------------------------------------------------------------------\u001b[0m",
            "\u001b[0;31mFileNotFoundError\u001b[0m                         Traceback (most recent call last)",
            "\u001b[0;32m<ipython-input-33-4b47ba5edc9e>\u001b[0m in \u001b[0;36m<module>\u001b[0;34m()\u001b[0m\n\u001b[0;32m----> 1\u001b[0;31m \u001b[0;32mwith\u001b[0m \u001b[0mopen\u001b[0m\u001b[0;34m(\u001b[0m\u001b[0;34m'./data/Shakespeare/midsummer_nights_dream.txt'\u001b[0m\u001b[0;34m)\u001b[0m \u001b[0;32mas\u001b[0m \u001b[0mf\u001b[0m\u001b[0;34m:\u001b[0m\u001b[0;34m\u001b[0m\u001b[0;34m\u001b[0m\u001b[0m\n\u001b[0m\u001b[1;32m      2\u001b[0m     \u001b[0mmidsummer\u001b[0m \u001b[0;34m=\u001b[0m \u001b[0mf\u001b[0m\u001b[0;34m.\u001b[0m\u001b[0mread\u001b[0m\u001b[0;34m(\u001b[0m\u001b[0;34m)\u001b[0m\u001b[0;34m\u001b[0m\u001b[0;34m\u001b[0m\u001b[0m\n\u001b[1;32m      3\u001b[0m \u001b[0mprint\u001b[0m\u001b[0;34m(\u001b[0m\u001b[0mmidsummer\u001b[0m\u001b[0;34m[\u001b[0m\u001b[0;34m-\u001b[0m\u001b[0;36m700\u001b[0m\u001b[0;34m:\u001b[0m\u001b[0;34m]\u001b[0m\u001b[0;34m)\u001b[0m\u001b[0;34m\u001b[0m\u001b[0;34m\u001b[0m\u001b[0m\n",
            "\u001b[0;31mFileNotFoundError\u001b[0m: [Errno 2] No such file or directory: './data/Shakespeare/midsummer_nights_dream.txt'"
          ]
        }
      ],
      "source": [
        "with open('./data/Shakespeare/midsummer_nights_dream.txt') as f:\n",
        "    midsummer = f.read()\n",
        "print(midsummer[-700:])"
      ]
    },
    {
      "cell_type": "markdown",
      "metadata": {
        "id": "mRXmq-UaOmbI"
      },
      "source": [
        "By the way, depending on your working directory, you might get errors such as: [Errno 2] No such file or directory: '../data/Shakespeare/midsummer_nights_dream.txt.' Don't panic, it's nothing, just check your working directory. \n",
        "\n",
        "Then to load all the files in `./data/Shakespeare` we can use a for loop with `scandir`:"
      ]
    },
    {
      "cell_type": "code",
      "execution_count": 61,
      "metadata": {
        "id": "21UaeDenOmbJ",
        "colab": {
          "base_uri": "https://localhost:8080/",
          "height": 236
        },
        "outputId": "d455ed8d-12cc-4952-a34d-6089ff0bc21b"
      },
      "outputs": [
        {
          "output_type": "error",
          "ename": "FileNotFoundError",
          "evalue": "ignored",
          "traceback": [
            "\u001b[0;31m---------------------------------------------------------------------------\u001b[0m",
            "\u001b[0;31mFileNotFoundError\u001b[0m                         Traceback (most recent call last)",
            "\u001b[0;32m<ipython-input-61-b57dc79a7744>\u001b[0m in \u001b[0;36m<module>\u001b[0;34m()\u001b[0m\n\u001b[1;32m      3\u001b[0m \u001b[0mshakespearFileName\u001b[0m \u001b[0;34m=\u001b[0m \u001b[0;34m[\u001b[0m\u001b[0;34m]\u001b[0m\u001b[0;34m\u001b[0m\u001b[0;34m\u001b[0m\u001b[0m\n\u001b[1;32m      4\u001b[0m \u001b[0;34m\u001b[0m\u001b[0m\n\u001b[0;32m----> 5\u001b[0;31m \u001b[0;32mfor\u001b[0m \u001b[0mfile\u001b[0m \u001b[0;32min\u001b[0m \u001b[0;34m(\u001b[0m\u001b[0mfile\u001b[0m \u001b[0;32mfor\u001b[0m \u001b[0mfile\u001b[0m \u001b[0;32min\u001b[0m \u001b[0mos\u001b[0m\u001b[0;34m.\u001b[0m\u001b[0mscandir\u001b[0m\u001b[0;34m(\u001b[0m\u001b[0mtargetDir\u001b[0m\u001b[0;34m)\u001b[0m \u001b[0;32mif\u001b[0m \u001b[0mfile\u001b[0m\u001b[0;34m.\u001b[0m\u001b[0mis_file\u001b[0m\u001b[0;34m(\u001b[0m\u001b[0;34m)\u001b[0m \u001b[0;32mand\u001b[0m \u001b[0;32mnot\u001b[0m \u001b[0mfile\u001b[0m\u001b[0;34m.\u001b[0m\u001b[0mname\u001b[0m\u001b[0;34m.\u001b[0m\u001b[0mstartswith\u001b[0m\u001b[0;34m(\u001b[0m\u001b[0;34m'.'\u001b[0m\u001b[0;34m)\u001b[0m\u001b[0;34m)\u001b[0m\u001b[0;34m:\u001b[0m\u001b[0;34m\u001b[0m\u001b[0;34m\u001b[0m\u001b[0m\n\u001b[0m\u001b[1;32m      6\u001b[0m     \u001b[0;32mwith\u001b[0m \u001b[0mopen\u001b[0m\u001b[0;34m(\u001b[0m\u001b[0mfile\u001b[0m\u001b[0;34m.\u001b[0m\u001b[0mpath\u001b[0m\u001b[0;34m,\u001b[0m \u001b[0mencoding\u001b[0m\u001b[0;34m=\u001b[0m\u001b[0;34m\"utf-8\"\u001b[0m\u001b[0;34m)\u001b[0m \u001b[0;32mas\u001b[0m \u001b[0mf\u001b[0m\u001b[0;34m:\u001b[0m\u001b[0;34m\u001b[0m\u001b[0;34m\u001b[0m\u001b[0m\n\u001b[1;32m      7\u001b[0m         \u001b[0mshakespearText\u001b[0m\u001b[0;34m.\u001b[0m\u001b[0mappend\u001b[0m\u001b[0;34m(\u001b[0m\u001b[0mf\u001b[0m\u001b[0;34m.\u001b[0m\u001b[0mread\u001b[0m\u001b[0;34m(\u001b[0m\u001b[0;34m)\u001b[0m\u001b[0;34m)\u001b[0m\u001b[0;34m\u001b[0m\u001b[0;34m\u001b[0m\u001b[0m\n",
            "\u001b[0;31mFileNotFoundError\u001b[0m: [Errno 2] No such file or directory: './data/Shakespeare'"
          ]
        }
      ],
      "source": [
        "targetDir = './data/Shakespeare' #Change this to your own directory of texts\n",
        "shakespearText = []\n",
        "shakespearFileName = []\n",
        "\n",
        "for file in (file for file in os.scandir(targetDir) if file.is_file() and not file.name.startswith('.')):\n",
        "    with open(file.path, encoding=\"utf-8\") as f:\n",
        "        shakespearText.append(f.read())\n",
        "    shakespearFileName.append(file.name)"
      ]
    },
    {
      "cell_type": "markdown",
      "metadata": {
        "id": "BWWr9-tcOmbJ"
      },
      "source": [
        "Then we can put them all in pandas DataFrame"
      ]
    },
    {
      "cell_type": "code",
      "execution_count": null,
      "metadata": {
        "id": "Knvif7JmOmbJ"
      },
      "outputs": [],
      "source": [
        "shakespear_df = pandas.DataFrame({'text' : shakespearText}, index = shakespearFileName)\n",
        "shakespear_df"
      ]
    },
    {
      "cell_type": "markdown",
      "metadata": {
        "id": "CWKhyCfCOmbJ"
      },
      "source": [
        "Getting your text in a format like this is the first step of most analysis"
      ]
    },
    {
      "cell_type": "markdown",
      "metadata": {
        "id": "V9T2gL7UOmbJ"
      },
      "source": [
        "## PDF\n",
        "\n",
        "Another common way text will be stored is in a PDF file. First we will download\n",
        "a pdf in Python. To do that lets grab a chapter from\n",
        "_Speech and Language Processing_, chapter 21 is on Information Extraction which\n",
        "seems apt. It is stored as a pdf at [https://web.stanford.edu/~jurafsky/slp3/21.\n",
        "pdf](https://web.stanford.edu/~jurafsky/slp3/21.pdf) although we are downloading\n",
        "from a copy just in case Jurafsky changes their website."
      ]
    },
    {
      "cell_type": "code",
      "execution_count": 62,
      "metadata": {
        "id": "zv1NpgUkOmbJ",
        "colab": {
          "base_uri": "https://localhost:8080/"
        },
        "outputId": "ecb8b94c-d6a9-4183-fe03-08a06540a36a"
      },
      "outputs": [
        {
          "output_type": "stream",
          "name": "stdout",
          "text": [
            "%PDF-1.3\n",
            "%���������\n",
            "4 0 obj\n",
            "<< /Length 5 0 R /Filter /FlateDecode >>\n",
            "stream\n",
            "x\u0001�]۶�F�}�W�c����T���\u0017C\u000f�i�\u0019<t\u001f�b\u0001\u000fM�f\n",
            "Tn�\u0006<3_�\u000b�CDf�\u001d�J�N�i�\u000f�#�%.;.\u0019���\t?\u000f߄��7�]8������ux��}\u001b޾\u000fm����y��bǾ���\u0010�!\u001c\u000e���$�Ǯ���C�\u0007�F\u0006�����p�\u000f��5��1��1�P<�{�\u0010$�\u001a�/$�P�\fs�v��P\u001egH?�����Q�~�*�:l��ˇ�m�ǰ��C�l����܊\u0017��E��\u001e���\u000f!�^�y��\u001am�$�Ý���wۡل׼�6w���ī�K�~؞���r��\u0010~\u001b\u001e?�ˡkO�;6IH�9{ԡ���\u0000]?�E�E�\u0012�~���.l������+��\u001cW�\u000e\u0002_�\u000e��\u0002\u0002��C��S�|�~\u0005C��N�3ӛB`8�ޚ\b\u0001j9���AZ�\u0004�\u00110�d�l^�\u000e�����SY\u0012\t�Ƨ��>\u000bq�ۇ&\n",
            "����.�����0���\u0015�;\u0000��>a8�$\fw�p��p����ST���\u000b.\u0000�7��@�\u0012���)�\u0013�&1�|���\u0002\u0004WՃ jOv�G2b�L8I��N�@\u0001\u001egǍ�\u0004����\u0019�O�C��������IN@@���\u0002��\u0013}�8��+L����a�\u0005&ү\b�o\u0005\u0013�V(\u0019���0\f���+5\u001b�\n",
            "S\u001dfS&��<�2���\u001e��>l�V��&��=4⇤\u0019=\u001a�W��<�J\u0013Mo�\u001c���\"����d�C����[vY�|K\u001c{_ܔ\\��\u0017��%\u0001H�/@'�QA�+D�l��c��L�G�.��\t�̎�V�:f>���Aw\u0010K���o$`D\u0007��\u000bbE45�\u000b0\b�\u0015%th6h��\u0005���>*�2vQd\u0010\u0015�+M��Y}�Q���u�[���N�o'b\u0010��/u�.r'Z�\u0017��J�\u0019e8�v\u0013\u000b��;�\u001d�{T�\t\f�����^8�\u0014 \u001a\u0018 l<�E�<���b�����C8\fj��f��xB>\u0001K\u0010���\u0019��|\u001f\u0004w��f�|?�\u0001s̭\u0018��Y�'�Ip&�\"�\u000bA���f�?�\b!IYi���U�\"��y;�\u0007��#�\u000b\u000f�e3)�+B�&���\u001d�<\bE9I�g�/]\"D��yfC;e����Y^�z ��s'�)/�X�-HY��<ˬ�ݰ\n"
          ]
        }
      ],
      "source": [
        "#information_extraction_pdf = 'https://github.com/KnowledgeLab/content_analysis/raw/data/21.pdf'\n",
        "\n",
        "infoExtractionRequest = requests.get(information_extraction_pdf, stream=True)\n",
        "print(infoExtractionRequest.text[:1000])"
      ]
    },
    {
      "cell_type": "markdown",
      "metadata": {
        "id": "pZcS8uBlOmbJ"
      },
      "source": [
        "It says `'pdf'`, so thats a good sign. The rest though looks like we are having\n",
        "issues with an encoding. The random characters are not caused by our encoding\n",
        "being wrong, however. They are cause by there not being an encoding for those\n",
        "parts at all. PDFs are nominally binary files, meaning there are sections of\n",
        "binary that are specific to pdf and nothing else so you need something that\n",
        "knows about pdf to read them. To do that we will be using\n",
        "[`PyPDF2`](https://github.com/mstamy2/PyPDF2), a PDF processing library for\n",
        "Python 3.\n",
        "\n",
        "\n",
        "Because PDFs are a very complicated file format pdfminer requires a large amount\n",
        "of boilerplate code to extract text, we have written a function that takes in an\n",
        "open PDF file and returns the text so you don't have to."
      ]
    },
    {
      "cell_type": "code",
      "execution_count": 63,
      "metadata": {
        "id": "G-NK0_u0OmbK"
      },
      "outputs": [],
      "source": [
        "def readPDF(pdfFile):\n",
        "    #Based on code from http://stackoverflow.com/a/20905381/4955164\n",
        "    #Using utf-8, if there are a bunch of random symbols try changing this\n",
        "    codec = 'utf-8'\n",
        "    rsrcmgr = pdfminer.pdfinterp.PDFResourceManager()\n",
        "    retstr = io.StringIO()\n",
        "    layoutParams = pdfminer.layout.LAParams()\n",
        "    device = pdfminer.converter.TextConverter(rsrcmgr, retstr, laparams = layoutParams, codec = codec)\n",
        "    #We need a device and an interpreter\n",
        "    interpreter = pdfminer.pdfinterp.PDFPageInterpreter(rsrcmgr, device)\n",
        "    password = ''\n",
        "    maxpages = 0\n",
        "    caching = True\n",
        "    pagenos=set()\n",
        "    for page in pdfminer.pdfpage.PDFPage.get_pages(pdfFile, pagenos, maxpages=maxpages, password=password,caching=caching, check_extractable=True):\n",
        "        interpreter.process_page(page)\n",
        "    device.close()\n",
        "    returnedString = retstr.getvalue()\n",
        "    retstr.close()\n",
        "    return returnedString"
      ]
    },
    {
      "cell_type": "markdown",
      "metadata": {
        "id": "4z-HjO90OmbK"
      },
      "source": [
        "First we need to take the response object and convert it into a 'file like'\n",
        "object so that pdfminer can read it. To do this we will use `io`'s `BytesIO`."
      ]
    },
    {
      "cell_type": "code",
      "execution_count": 64,
      "metadata": {
        "id": "sM0uY2utOmbK"
      },
      "outputs": [],
      "source": [
        "infoExtractionBytes = io.BytesIO(infoExtractionRequest.content)"
      ]
    },
    {
      "cell_type": "markdown",
      "metadata": {
        "id": "stf5WQdeOmbK"
      },
      "source": [
        "Now we can give it to pdfminer."
      ]
    },
    {
      "cell_type": "code",
      "execution_count": 65,
      "metadata": {
        "id": "iuUIzn_UOmbK",
        "colab": {
          "base_uri": "https://localhost:8080/"
        },
        "outputId": "e38d0699-1f74-4ab9-c470-9db4f6ea5841"
      },
      "outputs": [
        {
          "output_type": "stream",
          "name": "stdout",
          "text": [
            "Department of  Sociology \n",
            "\n",
            "THE UNIVERSITY OF CHICAGO \n",
            "\n",
            "SOCIOLOGY 40133 \n",
            "\n",
            "Computational Content Analysis \n",
            "\n",
            "Friday 1:00 – 3:50pm \n",
            "Winter 2017-2018 \n",
            "Classroom: Harper Memorial 130       \n",
            "http://chalk.uchicago.edu/ \n",
            "\n",
            " \n",
            "\n",
            "                                                                                           \n",
            "\n",
            "          Office: McGiffert 210 \n",
            "                                                    Tel.: 834-3612; jevans@uchicago.edu \n",
            "                                  Office Hours: Thursday 12:30-2:30pm \n",
            "\n",
            "     \n",
            "\n",
            "        James A. Evans            \n",
            "\n",
            "    \n"
          ]
        }
      ],
      "source": [
        "print(readPDF(infoExtractionBytes)[:550])"
      ]
    },
    {
      "cell_type": "markdown",
      "metadata": {
        "id": "-AldBWnAOmbK"
      },
      "source": [
        "From here we can either look at the full text or fiddle with our PDF reader and\n",
        "get more information about individual blocks of text.\n",
        "\n",
        "## Word Docs\n",
        "\n",
        "The other type of document you are likely to encounter is the `.docx`, these are\n",
        "actually a version of [XML](https://en.wikipedia.org/wiki/Office_Open_XML), just\n",
        "like HTML, and like HTML we will use a specialized parser.\n",
        "\n",
        "For this class we will use [`python-docx`](https://python-\n",
        "docx.readthedocs.io/en/latest/) which provides a nice simple interface for\n",
        "reading `.docx` files"
      ]
    },
    {
      "cell_type": "code",
      "execution_count": null,
      "metadata": {
        "id": "HZwVUc8POmbK"
      },
      "outputs": [],
      "source": [
        "#example_docx = 'https://github.com/KnowledgeLab/content_analysis/raw/data/example_doc.docx'\n",
        "\n",
        "r = requests.get(example_docx, stream=True)\n",
        "d = docx.Document(io.BytesIO(r.content))\n",
        "for paragraph in d.paragraphs[:7]:\n",
        "    print(paragraph.text)"
      ]
    },
    {
      "cell_type": "markdown",
      "metadata": {
        "id": "Zo8XdsmpOmbL"
      },
      "source": [
        "This procedure uses the `io.BytesIO` class again, since `docx.Document` expects\n",
        "a file. Another way to do it is to save the document to a file and then read it\n",
        "like any other file. If we do this we can either delete the file afterwords, or\n",
        "save it and avoid downloading the following time.\n",
        "\n",
        "This function is useful as a part of many different tasks so it and others like it will be added to the helper package `lucem_illud` so we can use it later without having to retype it."
      ]
    },
    {
      "cell_type": "code",
      "execution_count": null,
      "metadata": {
        "id": "H0LzxTw-OmbL"
      },
      "outputs": [],
      "source": [
        "def downloadIfNeeded(targetURL, outputFile, **openkwargs):\n",
        "    if not os.path.isfile(outputFile):\n",
        "        outputDir = os.path.dirname(outputFile)\n",
        "        #This function is a more general os.mkdir()\n",
        "        if len(outputDir) > 0:\n",
        "            os.makedirs(outputDir, exist_ok = True)\n",
        "        r = requests.get(targetURL, stream=True)\n",
        "        #Using a closure like this is generally better than having to\n",
        "        #remember to close the file. There are ways to make this function\n",
        "        #work as a closure too\n",
        "        with open(outputFile, 'wb') as f:\n",
        "            f.write(r.content)\n",
        "    return open(outputFile, **openkwargs)"
      ]
    },
    {
      "cell_type": "markdown",
      "metadata": {
        "id": "BTtnnzAyOmbL"
      },
      "source": [
        "This function will download, save and open `outputFile` as `outputFile` or just\n",
        "open it if `outputFile` exists. By default `open()` will open the file as read\n",
        "only text with the local encoding, which may cause issues if its not a text\n",
        "file."
      ]
    },
    {
      "cell_type": "code",
      "execution_count": null,
      "metadata": {
        "id": "l4F3q0wpOmbL"
      },
      "outputs": [],
      "source": [
        "try:\n",
        "    d = docx.Document(downloadIfNeeded(example_docx, example_docx_save))\n",
        "except Exception as e:\n",
        "    print(e)"
      ]
    },
    {
      "cell_type": "markdown",
      "metadata": {
        "id": "8jy-hEavOmbL"
      },
      "source": [
        "We need to tell `open()` to read in binary mode (`'rb'`), this is why we added\n",
        "`**openkwargs`, this allows us to pass any keyword arguments (kwargs) from\n",
        "`downloadIfNeeded` to `open()`."
      ]
    },
    {
      "cell_type": "code",
      "execution_count": null,
      "metadata": {
        "id": "V9An1Z_QOmbL"
      },
      "outputs": [],
      "source": [
        "d = docx.Document(downloadIfNeeded(example_docx, example_docx_save, mode = 'rb'))\n",
        "for paragraph in d.paragraphs[:7]:\n",
        "    print(paragraph.text)"
      ]
    },
    {
      "cell_type": "markdown",
      "metadata": {
        "id": "AECbTJunOmbL"
      },
      "source": [
        "Now we can read the file with `docx.Document` and not have to wait for it to be\n",
        "downloaded every time."
      ]
    },
    {
      "cell_type": "markdown",
      "metadata": {
        "id": "V_d35FzzOmbM"
      },
      "source": [
        "\n",
        "# <font color=\"red\">Exercise 3</font>\n",
        "<font color=\"red\">Construct cells immediately below this that extract and organize textual content from text, PDF or Word into a pandas dataframe.</font>\n"
      ]
    },
    {
      "cell_type": "code",
      "source": [
        "pdf = 'https://econ.lse.ac.uk/staff/spischke/ec533/did.pdf'\n",
        "pdfinfoExtractionRequest = requests.get(pdf, stream=True)\n",
        "print(pdfinfoExtractionRequest.text[:1000])"
      ],
      "metadata": {
        "colab": {
          "base_uri": "https://localhost:8080/"
        },
        "id": "je-sBs872t6S",
        "outputId": "9b9bf50d-68c2-4afe-809b-711a5cab51ba"
      },
      "execution_count": 71,
      "outputs": [
        {
          "output_type": "stream",
          "name": "stdout",
          "text": [
            "%PDF-1.4\n",
            "%����\n",
            "9 0 obj\n",
            "<< /S /GoTo /D [10 0 R  /Fit ] >>\n",
            "endobj\n",
            "37 0 obj <<\n",
            "/Length 1471      \n",
            "/Filter /FlateDecode\n",
            ">>\n",
            "stream\n",
            "x��YKo�6\u0010���Q\u000b�\f�o^\u000b�\u0006�\u001eb��\u001e�^�]�A�n�\u0004����P\u0014�]�\u001f�6M\f�(�f��o\u001e\u001c�Z�\b-N\u0017zg\u0004\u001c\u0001�{�ha�Q�za�Q`�x؈����ЋGeD�E�p#�Ӌ�Kk���֐DI�(�P.H��\u0002a,�`�\u0000D\u000b�Xo\u0017�b��.ft\"����WA\"I��u&�s� ��)Z+\f2��䆕X��Tr��dW��P�8���?�$�sNb���b��<Vy\u001c-R�\u0005\u0004�O�\u001c$��H�2�\u0005�mO\u0003wǜ\u0003|�^�]\u001f\u000f\\P9�L{�s�E��Ą$�#�~*�*�\u001b\u000f@�`�H�(M5�C?K*hvQ��VB��#E\u0003���H@�\u0005ƺH#}\u0003\u001f�p\u001e���\u0018\u0003�2ۗ�*�#?�ZI�7�m+��JU��h�\u001c\r-f�~���~�:U\u0013���дi��a���p�\u001d��E8<��g��c\u0005Ƿu����b�߅v=4ju�1`�D�\u00104\u0004:��FWl\u001b�*�\u000e{\u000b$�I`�\u0010R0\u0006w�\u000bm�F0�\u0006>�\n",
            "�v\u0015UE��U�\u0003\u0005T2\u0011Ҡ\u0001����ҺF���\u0019�4\u0018Zu�mf-n\u0007Em�+��L�$#\u0017y�\u0013�A�\u0005��\u000e���}��z��֘�yl'��F٬��t�U5�&�z8���������\u0012�v�\u000f��\u0001�hI\b<\u0005^\u0017\"�g���\u0006R�g��\u0006W�mK\u0010��Q�J3��-=(�iWf���\u000b�\u001bI\u0005�ikR���o\u0003G�5M�5Y\u0001F\u0011$�\u001cBԧ�8-��R��W\u0004Y���~4\u0002F���\u0003\u0000��T��r�\u0016\u000b�P�P�ߊ\u0016\u00121l\f�e�Y��:��f�$k\u0019(V�\u0014r$5Ͳ\u0011�A?�[\u001am�z�\u001fA�~�\u001e��,��o|��2��H�K�_�F����Y�9�X�{Hd�\r��\b�\u0011���o\u001cI#��E��b\u001dm�ݳKV�ռb�k����&{�>�h�Bw�m�o�۱j\u001c$��s�\u0012��\u001d����С�\\��?e�+���\u0016R�J�t��\\4YRR��c�^\u000e]Uj\u001b�Ӭ�K�qVO�\\N�\\��\\�&���t���r��{�n(/��I�����JP������:�\u0015��\u001c�\n"
          ]
        }
      ]
    },
    {
      "cell_type": "code",
      "source": [
        "pdfinfoExtractionBytes = io.BytesIO(pdfinfoExtractionRequest.content)\n",
        "print(readPDF(pdfinfoExtractionBytes)[:550])"
      ],
      "metadata": {
        "colab": {
          "base_uri": "https://localhost:8080/"
        },
        "id": "3LD5zXoI3-h9",
        "outputId": "b44cc9bd-f587-4ec2-ad4c-282935b29084"
      },
      "execution_count": 72,
      "outputs": [
        {
          "output_type": "stream",
          "name": "stdout",
          "text": [
            "Di⁄erences-in-Di⁄erences\n",
            "\n",
            "J(cid:246)rn-Ste⁄en Pischke\n",
            "\n",
            "LSE\n",
            "\n",
            "September 27, 2019\n",
            "\n",
            "Pischke (LSE)\n",
            "\n",
            "Di⁄erences-in-Di⁄erences\n",
            "\n",
            "September 27, 2019\n",
            "\n",
            "1 / 14\n",
            "\n",
            "\fFixed e⁄ects versus di⁄erences-in-di⁄erences\n",
            "\n",
            "Recall how the (cid:133)xed e⁄ects model assumes\n",
            "\n",
            "E (Y0itjAi , t) = α + λt + γAi\n",
            "\n",
            "or\n",
            "\n",
            "E (Y0itji, t) = αi + λt\n",
            "\n",
            "The di⁄erences-in-di⁄erences (DD) model makes a very similar\n",
            "assumption but conditions on a group level instead of an individual\n",
            "level e⁄ect\n",
            "\n",
            "E (Y0istjs, t) = γs + λt\n",
            "\n",
            "where s could be, for example, a state. This is su¢ cient for any\n",
            "treatment\n"
          ]
        }
      ]
    },
    {
      "cell_type": "markdown",
      "source": [
        "# <font color=\"red\">Exercise 4</font>\n",
        "<font color=\"red\">In the two cells immediately following, describe a possible project (e.g., it might end up being your final project, but need not be if you are still searching): __WHAT__ you will analyze--the texts you will select and the social game, world and actors you intend to learn about through your analysis (<100 words); __WHY__ you will analyze these texts to learn about that context--justify the rationale behind your proposed sample design for this project, based on the readings. What is the social game, social work, or social actors about whom you are seeking to make inferences? What are the virtues of your proposed sample with respect to your research questions? What are its limitations? What are alternatives? What would be a reasonable path to \"scale up\" your sample for further analysis (i.e., high-profile publication)? (<150 words)? [__Note__: your individual or collective project will change over the course of the quarter as new data and/or analysis opportunities arise or if old ones fade away.]</font>"
      ],
      "metadata": {
        "id": "d1TZsRUixXxh"
      }
    },
    {
      "cell_type": "markdown",
      "source": [
        "# What?\n",
        "(I'm still searching so this might not be my final project!)\n",
        "\n",
        "I'd like to analyze popular book quotes from Goodreads to learn about readers' emotional needs and values by looking at the frequencies of keywords, tags, genre, and possibly other attributes of the most popular quotes. I'm curious about how readers' tastes of quotes change by comparing attributes of all popular quotes and the most recent ones to see if there is any differences in trends of quotes which people find useful/inspiring."
      ],
      "metadata": {
        "id": "zfLNtcyrxoz2"
      }
    },
    {
      "cell_type": "markdown",
      "source": [
        "# Why?\n",
        "\n",
        "Quotes can help reinforce the most compelling part of a story, generate new ideas and offer inspirations, affirm understanding of selves and the world, etc. Therefore, the quotes that readers like can reflect their values and what they need emotionally to some extent. While Goodreads has a large number of book quotes that people can add to or like according to their preferences, it also tags quotes by categories which allow for further analysis on the attributes of quotes. However, the sample is biased in that it only focus on Goodreads users that would post and like quotes online, and it only captures popular quotes but not other important aspects such as the context and gist of books. It might be useful to also include other content about books such as book reviews and conduct sentiment analysis to get more thorough subjective information about readers."
      ],
      "metadata": {
        "id": "viaSJK7jxuKd"
      }
    },
    {
      "cell_type": "markdown",
      "metadata": {
        "id": "Bwyfg2yrOmbM"
      },
      "source": [
        "### Sources:\n",
        "\n",
        "Other popular sources for internet data:\n",
        "\n",
        "[reddit](https://www.reddit.com/) - https://praw.readthedocs.io/en/v2.1.21/\n",
        "\n",
        "[twitter](https://twitter.com/) - https://pypi.org/project/python-twitter/\n",
        "\n",
        "[project gutenburg](https://www.gutenberg.org/) - https://github.com/ageitgey/Gutenberg \n",
        "\n"
      ]
    }
  ],
  "metadata": {
    "kernelspec": {
      "display_name": "Python 3 (ipykernel)",
      "language": "python",
      "name": "python3"
    },
    "language_info": {
      "codemirror_mode": {
        "name": "ipython",
        "version": 3
      },
      "file_extension": ".py",
      "mimetype": "text/x-python",
      "name": "python",
      "nbconvert_exporter": "python",
      "pygments_lexer": "ipython3",
      "version": "3.9.7"
    },
    "colab": {
      "name": "1-Measuring-Meaning-and-Sampling-jiayuk.ipynb",
      "provenance": [],
      "collapsed_sections": [
        "8jW4D33OOmbB",
        "dXtaSZCkOmbE",
        "CswLIJBZOmbH",
        "V9T2gL7UOmbJ",
        "-AldBWnAOmbK",
        "Bwyfg2yrOmbM"
      ],
      "include_colab_link": true
    }
  },
  "nbformat": 4,
  "nbformat_minor": 0
}